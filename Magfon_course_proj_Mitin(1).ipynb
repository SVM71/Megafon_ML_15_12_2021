{
 "cells": [
  {
   "cell_type": "markdown",
   "id": "8728b8e8",
   "metadata": {},
   "source": [
    "### Анализ данных и подготовка к обучению модели. "
   ]
  },
  {
   "cell_type": "code",
   "execution_count": 84,
   "id": "e6346ae0",
   "metadata": {},
   "outputs": [],
   "source": [
    "import pandas as pd\n",
    "import numpy as np\n",
    "import datetime \n",
    "import time\n",
    "from functools import reduce"
   ]
  },
  {
   "cell_type": "markdown",
   "id": "0a910c38",
   "metadata": {},
   "source": [
    " __Основные моменты  на которых стоит остановить внимание при предобработке данных:__\n",
    "\n",
    "__data_train.csv__<br>\n",
    "Column  Unnamed: 0<br>\n",
    "значения не привязаны ни к чему, поэтому его можно удалить.<br>\n",
    "Column  buy_time<br> \n",
    "<br>\n",
    "Предварительно анализируем содержимое даты и времени используем библиотеку datetime. Убеждаемся в том, данный столбец несет информацию только о номере недели, и его преобразуем к номеру недели.<br>\n",
    "\n",
    " преобр значение дата/время     день        день недели 0-6         номер недели<br>\n",
    " dt_tm: 2018-07-16 01:00:00,\tday: 16, \tw_day: 0-Monday,     \tweek: 29<br>\n",
    " dt_tm: 2018-10-15 01:00:00,\tday: 15, \tw_day: 0-Monday,     \tweek: 42<br>\n",
    " dt_tm: 2018-12-24 01:00:00,\tday: 24, \tw_day: 0-Monday,     \tweek: 52<br>\n",
    " dt_tm: 2018-08-13 01:00:00,\tday: 13, \tw_day: 0-Monday,     \tweek: 33<br>\n",
    " dt_tm: 2018-08-06 01:00:00,\tday: 6, \tw_day: 0-Monday,     \tweek: 32<br>\n",
    " dt_tm: 2018-08-13 01:00:00,\tday: 13, \tw_day: 0-Monday,     \tweek: 33<br>\n",
    " dt_tm: 2018-12-17 01:00:00,\tday: 17, \tw_day: 0-Monday,     \tweek: 51<br>\n",
    " dt_tm: 2018-09-24 01:00:00,\tday: 24, \tw_day: 0-Monday,     \tweek: 39<br>\n",
    " dt_tm: 2018-12-24 01:00:00,\tday: 24, \tw_day: 0-Monday,     \tweek: 52<br>\n",
    " dt_tm: 2018-12-10 01:00:00,\tday: 10, \tw_day: 0-Monday,     \tweek: 50<br>\n",
    " dt_tm: 2018-09-10 01:00:00,\tday: 10, \tw_day: 0-Monday,     \tweek: 37<br>\n",
    "<br>\n",
    "\n",
    "__data_test.csv__<br>\n",
    "Выполняем преобразования как и для data_train.csv.<br>\n",
    "\n",
    "таким образом в трейне и тесте остается 3 информативных столбца: 'id', 'vas_id', 'buy_time'<br>\n",
    "\n",
    "определим список доступных пользователей для анализа, это id объединенный список test & train."
   ]
  },
  {
   "cell_type": "code",
   "execution_count": 85,
   "id": "232b2310",
   "metadata": {},
   "outputs": [],
   "source": [
    "dt_train = pd.read_csv('cp_data/data_train.csv')"
   ]
  },
  {
   "cell_type": "code",
   "execution_count": 86,
   "id": "94a46d2e",
   "metadata": {},
   "outputs": [
    {
     "name": "stdout",
     "output_type": "stream",
     "text": [
      "<class 'pandas.core.frame.DataFrame'>\n",
      "RangeIndex: 831653 entries, 0 to 831652\n",
      "Data columns (total 5 columns):\n",
      " #   Column      Non-Null Count   Dtype  \n",
      "---  ------      --------------   -----  \n",
      " 0   Unnamed: 0  831653 non-null  int64  \n",
      " 1   id          831653 non-null  int64  \n",
      " 2   vas_id      831653 non-null  float64\n",
      " 3   buy_time    831653 non-null  int64  \n",
      " 4   target      831653 non-null  float64\n",
      "dtypes: float64(2), int64(3)\n",
      "memory usage: 31.7 MB\n"
     ]
    }
   ],
   "source": [
    "dt_train.info()"
   ]
  },
  {
   "cell_type": "code",
   "execution_count": 87,
   "id": "9941959c",
   "metadata": {},
   "outputs": [
    {
     "name": "stdout",
     "output_type": "stream",
     "text": [
      "<class 'pandas.core.frame.DataFrame'>\n",
      "RangeIndex: 71231 entries, 0 to 71230\n",
      "Data columns (total 4 columns):\n",
      " #   Column      Non-Null Count  Dtype  \n",
      "---  ------      --------------  -----  \n",
      " 0   Unnamed: 0  71231 non-null  int64  \n",
      " 1   id          71231 non-null  int64  \n",
      " 2   vas_id      71231 non-null  float64\n",
      " 3   buy_time    71231 non-null  int64  \n",
      "dtypes: float64(1), int64(3)\n",
      "memory usage: 2.2 MB\n"
     ]
    }
   ],
   "source": [
    "dt_test = pd.read_csv('cp_data/data_test.csv')\n",
    "dt_test.info()"
   ]
  },
  {
   "cell_type": "code",
   "execution_count": 88,
   "id": "475beafb",
   "metadata": {},
   "outputs": [],
   "source": [
    "# переводит время в номер недели\n",
    "def user_timestamp_2_week(tstamp):\n",
    "    return datetime.datetime.fromtimestamp(tstamp).date().isocalendar()[1]\n",
    "\n",
    "# default Monday\n",
    "def user_week_to_timestamp( week, year=2018, day=1 ): \n",
    "    u_str_dt = datetime.date.fromisocalendar(year, week, day)\n",
    "    return time.mktime(datetime.datetime.strptime( str(u_str_dt), \"%Y-%m-%d\").timetuple())\n",
    "\n",
    "def user_transform_train_data(dt):\n",
    "    dt.columns= dt.columns.str.strip().str.lower()\n",
    "    dt['week'] = dt['buy_time'].apply( user_timestamp_2_week)\n",
    "    dt = dt.astype({'buy_time': 'int32','vas_id': 'int32', 'week': 'int32'})\n",
    "    dt.drop(labels=['unnamed: 0'], axis=1, inplace=True)\n",
    "    return dt"
   ]
  },
  {
   "cell_type": "code",
   "execution_count": 89,
   "id": "eccd203d",
   "metadata": {},
   "outputs": [
    {
     "data": {
      "text/plain": [
       "False    771467\n",
       "True      60186\n",
       "Name: target, dtype: int64"
      ]
     },
     "execution_count": 89,
     "metadata": {},
     "output_type": "execute_result"
    }
   ],
   "source": [
    "dt_target = dt_train['target'].astype(bool)\n",
    "dt_target.value_counts()"
   ]
  },
  {
   "cell_type": "code",
   "execution_count": 90,
   "id": "9b42d7a3",
   "metadata": {},
   "outputs": [],
   "source": [
    "dt_train.drop( ['target'], axis=1, inplace=True) "
   ]
  },
  {
   "cell_type": "code",
   "execution_count": 91,
   "id": "7edf12b2",
   "metadata": {},
   "outputs": [
    {
     "name": "stdout",
     "output_type": "stream",
     "text": [
      "<class 'pandas.core.frame.DataFrame'>\n",
      "RangeIndex: 831653 entries, 0 to 831652\n",
      "Data columns (total 4 columns):\n",
      " #   Column    Non-Null Count   Dtype\n",
      "---  ------    --------------   -----\n",
      " 0   id        831653 non-null  int64\n",
      " 1   vas_id    831653 non-null  int32\n",
      " 2   buy_time  831653 non-null  int32\n",
      " 3   week      831653 non-null  int32\n",
      "dtypes: int32(3), int64(1)\n",
      "memory usage: 15.9 MB\n"
     ]
    }
   ],
   "source": [
    "dt_train = user_transform_train_data(dt_train)\n",
    "dt_train.info()"
   ]
  },
  {
   "cell_type": "code",
   "execution_count": 92,
   "id": "d1b83d2e",
   "metadata": {},
   "outputs": [
    {
     "name": "stdout",
     "output_type": "stream",
     "text": [
      "<class 'pandas.core.frame.DataFrame'>\n",
      "RangeIndex: 71231 entries, 0 to 71230\n",
      "Data columns (total 4 columns):\n",
      " #   Column    Non-Null Count  Dtype\n",
      "---  ------    --------------  -----\n",
      " 0   id        71231 non-null  int64\n",
      " 1   vas_id    71231 non-null  int32\n",
      " 2   buy_time  71231 non-null  int32\n",
      " 3   week      71231 non-null  int32\n",
      "dtypes: int32(3), int64(1)\n",
      "memory usage: 1.4 MB\n"
     ]
    }
   ],
   "source": [
    "dt_test = user_transform_train_data(dt_test)\n",
    "dt_test.info()"
   ]
  },
  {
   "cell_type": "markdown",
   "id": "6ead9a54",
   "metadata": {},
   "source": [
    "Можно посмотреть распределение по времени на тесте и трайне"
   ]
  },
  {
   "cell_type": "code",
   "execution_count": 93,
   "id": "a6c323b5",
   "metadata": {},
   "outputs": [
    {
     "name": "stdout",
     "output_type": "stream",
     "text": [
      " номер недели на train:\n",
      "[ 1 28 29 30 31 32 33 34 35 36 37 38 39 40 41 42 43 44 45 46 47 48 49 50\n",
      " 51 52]\n",
      " номер недели на test:\n",
      "[2 3 4]\n"
     ]
    }
   ],
   "source": [
    "print( f' номер недели на train:\\n{np.sort(dt_train[\"week\"].unique())}')\n",
    "print( f' номер недели на test:\\n{np.sort(dt_test[\"week\"].unique())}')"
   ]
  },
  {
   "cell_type": "markdown",
   "id": "72f3dcdc",
   "metadata": {},
   "source": [
    "Вполне возможно хотят выяснить предысторию успеха!) тест по времени заложен на начало 2-я, 3-я.4-я, недели...<br>\n",
    "В задании написано:<br>\n",
    "Данные train и test разбиты по периодам – на train доступно 4 месяцев, а на test отложен последующий месяц... "
   ]
  },
  {
   "cell_type": "markdown",
   "id": "6ca8da9f",
   "metadata": {},
   "source": [
    "Посмотрим список идентификаторов услуг на тесте и трейне"
   ]
  },
  {
   "cell_type": "code",
   "execution_count": 94,
   "id": "dc042047",
   "metadata": {},
   "outputs": [
    {
     "data": {
      "text/plain": [
       "(array([1, 2, 4, 5, 6, 7, 8, 9], dtype=int32),\n",
       " array([1, 2, 4, 5, 6, 7, 8, 9], dtype=int32))"
      ]
     },
     "execution_count": 94,
     "metadata": {},
     "output_type": "execute_result"
    }
   ],
   "source": [
    "np.sort(dt_train['vas_id'].unique()), np.sort(dt_test['vas_id'].unique())"
   ]
  },
  {
   "cell_type": "code",
   "execution_count": 95,
   "id": "845213fa",
   "metadata": {},
   "outputs": [
    {
     "data": {
      "text/plain": [
       "1532289600.0"
      ]
     },
     "execution_count": 95,
     "metadata": {},
     "output_type": "execute_result"
    }
   ],
   "source": [
    "treshold_tstamp = user_week_to_timestamp(30)\n",
    "treshold_tstamp"
   ]
  },
  {
   "cell_type": "code",
   "execution_count": 96,
   "id": "c260be4c",
   "metadata": {},
   "outputs": [
    {
     "data": {
      "text/plain": [
       "Int64Index([     0,      2,      3,      4,      5,      6,      7,      8,\n",
       "                 9,     10,\n",
       "            ...\n",
       "            831643, 831644, 831645, 831646, 831647, 831648, 831649, 831650,\n",
       "            831651, 831652],\n",
       "           dtype='int64', length=774648)"
      ]
     },
     "execution_count": 96,
     "metadata": {},
     "output_type": "execute_result"
    }
   ],
   "source": [
    "dt_trn_indx = dt_train.loc[ dt_train['buy_time'] >= treshold_tstamp ].index\n",
    "dt_trn_indx"
   ]
  },
  {
   "cell_type": "code",
   "execution_count": 97,
   "id": "8bc3321c",
   "metadata": {},
   "outputs": [],
   "source": [
    "dt_train.drop( dt_trn_indx, axis=0, inplace=True) "
   ]
  },
  {
   "cell_type": "code",
   "execution_count": 98,
   "id": "418bb7cd",
   "metadata": {},
   "outputs": [],
   "source": [
    "dt_target.drop( dt_trn_indx, axis=0, inplace=True) "
   ]
  },
  {
   "cell_type": "code",
   "execution_count": 99,
   "id": "9025d4ff",
   "metadata": {},
   "outputs": [
    {
     "name": "stdout",
     "output_type": "stream",
     "text": [
      "<class 'pandas.core.frame.DataFrame'>\n",
      "Int64Index: 57005 entries, 1 to 778442\n",
      "Data columns (total 4 columns):\n",
      " #   Column    Non-Null Count  Dtype\n",
      "---  ------    --------------  -----\n",
      " 0   id        57005 non-null  int64\n",
      " 1   vas_id    57005 non-null  int32\n",
      " 2   buy_time  57005 non-null  int32\n",
      " 3   week      57005 non-null  int32\n",
      "dtypes: int32(3), int64(1)\n",
      "memory usage: 1.5 MB\n"
     ]
    }
   ],
   "source": [
    "dt_train.info()"
   ]
  },
  {
   "cell_type": "code",
   "execution_count": 100,
   "id": "e8e0efe4",
   "metadata": {},
   "outputs": [
    {
     "data": {
      "text/plain": [
       "57005"
      ]
     },
     "execution_count": 100,
     "metadata": {},
     "output_type": "execute_result"
    }
   ],
   "source": [
    "len(dt_target)"
   ]
  },
  {
   "cell_type": "markdown",
   "id": "e317dcdb",
   "metadata": {},
   "source": [
    "выявим пользователей из трайна и теста для формирвания датафрейма с фичами. С целью ограничить размер файла фич"
   ]
  },
  {
   "cell_type": "code",
   "execution_count": 101,
   "id": "4468f229",
   "metadata": {},
   "outputs": [
    {
     "data": {
      "text/plain": [
       "(127040, array([1454121, 2066638, 1913461, ..., 1891350, 2437172,  988236]))"
      ]
     },
     "execution_count": 101,
     "metadata": {},
     "output_type": "execute_result"
    }
   ],
   "source": [
    "common_ids = pd.concat([dt_train, dt_test]).id.unique()\n",
    "len(common_ids), common_ids"
   ]
  },
  {
   "cell_type": "markdown",
   "id": "fa4ba491",
   "metadata": {},
   "source": [
    "#### Анализ файла с прфилями пользователей features "
   ]
  },
  {
   "cell_type": "markdown",
   "id": "f945443b",
   "metadata": {},
   "source": [
    "Особенность файла, его размер 22GB, моя машина умирает через некоторое время при попытке загрузить данные... <br>\n",
    "\n",
    "Пробуем варианты... задать chunksize при чтении датафрейма, то что сработало."
   ]
  },
  {
   "cell_type": "code",
   "execution_count": 102,
   "id": "c3115e66",
   "metadata": {},
   "outputs": [],
   "source": [
    "def get_features_from_chunk(chunk):\n",
    "    tmp_df = chunk.loc[( chunk['id'].isin(common_ids) ) & ( chunk['buy_time'] < treshold_tstamp) ].copy()\n",
    "    return tmp_df\n",
    "\n",
    "def cumulate_features(prev_res, new_res):    \n",
    "    return prev_res.append(new_res)"
   ]
  },
  {
   "cell_type": "code",
   "execution_count": 103,
   "id": "86f439bf",
   "metadata": {},
   "outputs": [
    {
     "name": "stdout",
     "output_type": "stream",
     "text": [
      "elapsed time: 2.154\n",
      "got: 78 writes\n",
      "        Unnamed: 0       id    buy_time           0           1           2  \\\n",
      "497           497  3748015  1531688400  199.810029  282.490888  185.869214   \n",
      "606           606  3870847  1531083600  335.400029   25.290888  351.119214   \n",
      "1498         1498   216934  1531083600  -94.679971 -378.949112   14.259214   \n",
      "1573         1573   267598  1531083600  -96.799971 -196.319112 -110.740786   \n",
      "2060         2060   893213  1531688400  -96.799971   66.400888  -81.060786   \n",
      "...           ...      ...         ...         ...         ...         ...   \n",
      "31341       31341  4068730  1531688400  -52.299971 -233.599112  -66.240786   \n",
      "31394       31394  4084837  1531688400  -76.469971 -247.839112  -90.410786   \n",
      "31686       31686  4161464  1531083600  -96.799971 -408.179112 -110.740786   \n",
      "32414       32414     2750  1531688400  -96.799971  -69.199112 -110.740786   \n",
      "32578       32578    44693  1531688400  -96.799971 -408.179112 -110.740786   \n",
      "\n",
      "                3           4          5          6  ...         243  \\\n",
      "497    229.883202  180.451754  335.89821  280.52382  ... -969.373846   \n",
      "606     61.663202  345.701754   40.55821  -16.08618  ... -977.373846   \n",
      "1498   797.223202    8.841754  776.11821  -16.08618  ... -959.373846   \n",
      "1573  -248.926798 -116.158246 -270.03179  -16.08618  ... -977.373846   \n",
      "2060   132.513202  -86.478246  111.40821  -16.08618  ... -977.373846   \n",
      "...           ...         ...        ...        ...  ...         ...   \n",
      "31341 -286.206798  -71.658246 -307.31179  -16.08618  ... -977.373846   \n",
      "31394 -293.666798  -95.828246 -314.77179  -16.08618  ... -831.373846   \n",
      "31686 -460.786798 -116.158246 -481.89179  -16.08618  ... -977.373846   \n",
      "32414  -96.386798 -116.158246 -117.49179  -16.08618  ... -842.373846   \n",
      "32578 -460.786798 -116.158246 -481.89179  -16.08618  ... -977.373846   \n",
      "\n",
      "              244        245        246          247        248        249  \\\n",
      "497   -607.770792 -25.996269 -37.630448  2675.252276 -25.832889  -0.694428   \n",
      "606   -613.770792 -25.996269 -37.630448  -306.747724 -25.832889  -0.694428   \n",
      "1498  -597.770792 -25.996269 -25.630448   -52.747724 -25.832889  -0.694428   \n",
      "1573  -613.770792 -25.996269  66.369552  -291.747724  -5.832889  -0.694428   \n",
      "2060  -613.770792 -24.996269 -34.630448   171.252276   0.167111  25.305572   \n",
      "...           ...        ...        ...          ...        ...        ...   \n",
      "31341 -613.770792 -25.996269 -37.630448  -306.747724 -25.832889  -0.694428   \n",
      "31394 -612.770792 -25.996269 -31.630448  -298.747724 -25.832889  -0.694428   \n",
      "31686 -613.770792 -25.996269 -37.630448  -306.747724 -25.832889  -0.694428   \n",
      "32414 -583.770792 -25.996269 -36.630448  -200.747724 -24.832889  -0.694428   \n",
      "32578 -613.770792 -25.996269 -37.630448  -306.747724 -25.832889  -0.694428   \n",
      "\n",
      "             250      251  252  \n",
      "497   -12.175933 -0.45614  1.0  \n",
      "606   -12.175933 -0.45614  0.0  \n",
      "1498  -12.175933 -0.45614  0.0  \n",
      "1573    7.824067 -0.45614  1.0  \n",
      "2060  -12.175933 -0.45614  1.0  \n",
      "...          ...      ...  ...  \n",
      "31341 -12.175933 -0.45614  0.0  \n",
      "31394 -12.175933 -0.45614  0.0  \n",
      "31686 -12.175933 -0.45614  0.0  \n",
      "32414 -11.175933 -0.45614  1.0  \n",
      "32578 -12.175933 -0.45614  0.0  \n",
      "\n",
      "[78 rows x 256 columns]\n"
     ]
    }
   ],
   "source": [
    "start = time.time()\n",
    "\n",
    "chunks = pd.read_csv('cp_data/features.csv', sep='\\t', nrows=2*16384, chunksize=16384)\n",
    "processed_chunks = map(get_features_from_chunk, chunks)\n",
    "result = reduce(cumulate_features, processed_chunks)\n",
    "\n",
    "stop = time.time()\n",
    "print(f'elapsed time: {round(stop-start, 3)}\\ngot: {len(result)} writes\\n', result)"
   ]
  },
  {
   "cell_type": "markdown",
   "id": "2c920bed",
   "metadata": {},
   "source": [
    "Такой подход позволяет отфильтровать нужных пользователей и сохранить в файл... "
   ]
  },
  {
   "cell_type": "code",
   "execution_count": 104,
   "id": "e1131a37",
   "metadata": {},
   "outputs": [
    {
     "name": "stdout",
     "output_type": "stream",
     "text": [
      "     Unnamed: 0       id    buy_time           0           1           2  \\\n",
      "497         497  3748015  1531688400  199.810029  282.490888  185.869214   \n",
      "606         606  3870847  1531083600  335.400029   25.290888  351.119214   \n",
      "\n",
      "              3           4          5          6  ...         243  \\\n",
      "497  229.883202  180.451754  335.89821  280.52382  ... -969.373846   \n",
      "606   61.663202  345.701754   40.55821  -16.08618  ... -977.373846   \n",
      "\n",
      "            244        245        246          247        248       249  \\\n",
      "497 -607.770792 -25.996269 -37.630448  2675.252276 -25.832889 -0.694428   \n",
      "606 -613.770792 -25.996269 -37.630448  -306.747724 -25.832889 -0.694428   \n",
      "\n",
      "           250      251  252  \n",
      "497 -12.175933 -0.45614  1.0  \n",
      "606 -12.175933 -0.45614  0.0  \n",
      "\n",
      "[2 rows x 256 columns]\n",
      "0: elapsed time: 0:00:00.015000, got: 134 writes for 0.015 sec\n",
      "       Unnamed: 0       id    buy_time          0           1           2  \\\n",
      "67875       67875  2244723  1531688400 -93.749971  393.820888 -107.690786   \n",
      "68111       68111  3443215  1531083600 -43.049971  167.750888  -56.990786   \n",
      "\n",
      "                3           4          5         6  ...         243  \\\n",
      "67875  344.263202 -113.108246  323.15821 -16.08618  ...  212.626154   \n",
      "68111  208.353202  -62.408246  187.24821 -16.08618  ... -977.373846   \n",
      "\n",
      "              244        245        246         247        248       249  \\\n",
      "67875  258.229208 -22.996269 -37.630448   25.252276  -1.832889 -0.694428   \n",
      "68111 -613.770792 -23.996269 -35.630448 -299.747724 -25.832889 -0.694428   \n",
      "\n",
      "             250      251  252  \n",
      "67875  11.824067 -0.45614  1.0  \n",
      "68111 -12.175933 -0.45614  0.0  \n",
      "\n",
      "[2 rows x 256 columns]\n",
      "1: elapsed time: 0:00:00.030000, got: 116 writes for 0.015 sec\n"
     ]
    }
   ],
   "source": [
    "chunk_size = 4*16384\n",
    "num_chunks = 2 \n",
    "\n",
    "inp_chunks = pd.read_csv('cp_data/features.csv', sep='\\t', nrows=num_chunks*chunk_size, iterator=True, chunksize=chunk_size)\n",
    "#inp_chunks = pd.read_csv('cp_data/features.csv', sep='\\t', iterator=True, chunksize=chunk_size)\n",
    "\n",
    "summ = 0\n",
    "for idx, chunk in enumerate(inp_chunks):\n",
    "    start = time.time()\n",
    "    result= get_features_from_chunk(chunk)\n",
    "    print( result.head(2) )\n",
    "    #result.to_csv('cp_data/user_features_by_time.csv', sep='\\t', chunksize=chunk_size, mode='a')\n",
    "    summ += time.time()-start\n",
    "    print(f'{idx}: elapsed time: {str(datetime.timedelta(seconds=round(summ, 3)))}, got: {len(result)} writes for {round(time.time()-start, 3)} sec')"
   ]
  },
  {
   "cell_type": "code",
   "execution_count": 105,
   "id": "138b9b4f",
   "metadata": {},
   "outputs": [],
   "source": [
    "def get_N_rows_from( file2rd, chunksize=16384, n_chunss=None ):\n",
    "    \n",
    "    chunks = pd.read_csv(file2rd, sep='\\t', iterator=True, \n",
    "                         nrows=n_chunss*chunksize if n_chunss != None else None, \n",
    "                         chunksize=chunksize, \n",
    "                         low_memory=False\n",
    "                        )\n",
    "    res = pd.DataFrame()\n",
    "    summ=0\n",
    "    for idx, chnk in enumerate(chunks):\n",
    "        start = time.time()\n",
    "        res = res.append(chnk)\n",
    "        summ += time.time()-start\n",
    "        print(f'{idx}: elapsed time: {str(datetime.timedelta(seconds=round(summ, 3)))}, \\\n",
    "              got: {len(res)} writes for {round(time.time()-start, 3)} sec')\n",
    "    return res\n",
    "\n",
    "def get_N_cols_from( file2rd, columns ):    \n",
    "    start = time.time()\n",
    "    res = pd.read_csv(file2rd, sep='\\t', usecols=columns)\n",
    "    stop = time.time()-start\n",
    "    print(f'Read columns: {columns}\\nfrom {file2rd}, elapsed time: {str(datetime.timedelta(seconds=round(stop, 3)))}')\n",
    "    return res\n",
    "\n",
    "def get_nunique_in_cols_from( file2rd, col_name ):    \n",
    "    start = time.time()\n",
    "    res = pd.read_csv(file2rd, sep='\\t', usecols=[col_name,])\n",
    "    n_unique = { 'unic_cnt':res[col_name].nunique(), 'values':res[col_name].unique() }\n",
    "    stop = time.time()-start\n",
    "    print(f'Read column: {col_name}\\nfrom {file2rd}, elapsed time: {str(datetime.timedelta(seconds=round(stop, 3)))}')\n",
    "    return n_unique"
   ]
  },
  {
   "cell_type": "code",
   "execution_count": 170,
   "id": "d7f72ef8",
   "metadata": {},
   "outputs": [
    {
     "name": "stdout",
     "output_type": "stream",
     "text": [
      "0: elapsed time: 0:00:00.006000,               got: 8422 writes for 0.006 sec\n"
     ]
    }
   ],
   "source": [
    "feat_1_row = None\n",
    "feat_1_row = get_N_rows_from('cp_data/user_features_by_time.csv')\n"
   ]
  },
  {
   "cell_type": "code",
   "execution_count": 171,
   "id": "45bfc768",
   "metadata": {},
   "outputs": [
    {
     "data": {
      "text/plain": [
       "68"
      ]
     },
     "execution_count": 171,
     "metadata": {},
     "output_type": "execute_result"
    }
   ],
   "source": [
    "bad_indexes = feat_1_row[feat_1_row['id'] == 'id'].index\n",
    "len(bad_indexes)"
   ]
  },
  {
   "cell_type": "code",
   "execution_count": 172,
   "id": "1c33fd58",
   "metadata": {},
   "outputs": [],
   "source": [
    "feat_1_row.drop( labels=bad_indexes, axis=0, inplace=True ) "
   ]
  },
  {
   "cell_type": "code",
   "execution_count": 173,
   "id": "51bb2a0c",
   "metadata": {},
   "outputs": [
    {
     "name": "stdout",
     "output_type": "stream",
     "text": [
      "<class 'pandas.core.frame.DataFrame'>\n",
      "Int64Index: 8354 entries, 0 to 8421\n",
      "Columns: 257 entries, Unnamed: 0 to 252\n",
      "dtypes: float64(254), object(3)\n",
      "memory usage: 16.4+ MB\n"
     ]
    },
    {
     "data": {
      "text/plain": [
       "(None,\n",
       " Index            66832\n",
       " Unnamed: 0       66832\n",
       " Unnamed: 0.1    532542\n",
       " id              532419\n",
       " buy_time        559718\n",
       "                  ...  \n",
       " 248              66832\n",
       " 249              66832\n",
       " 250              66832\n",
       " 251              66832\n",
       " 252              66832\n",
       " Length: 258, dtype: int64)"
      ]
     },
     "execution_count": 173,
     "metadata": {},
     "output_type": "execute_result"
    }
   ],
   "source": [
    "feat_1_row.info(), feat_1_row.memory_usage(deep=True)"
   ]
  },
  {
   "cell_type": "code",
   "execution_count": 174,
   "id": "a70d3f5f",
   "metadata": {},
   "outputs": [
    {
     "data": {
      "text/html": [
       "<div>\n",
       "<style scoped>\n",
       "    .dataframe tbody tr th:only-of-type {\n",
       "        vertical-align: middle;\n",
       "    }\n",
       "\n",
       "    .dataframe tbody tr th {\n",
       "        vertical-align: top;\n",
       "    }\n",
       "\n",
       "    .dataframe thead th {\n",
       "        text-align: right;\n",
       "    }\n",
       "</style>\n",
       "<table border=\"1\" class=\"dataframe\">\n",
       "  <thead>\n",
       "    <tr style=\"text-align: right;\">\n",
       "      <th></th>\n",
       "      <th>Unnamed: 0</th>\n",
       "      <th>0</th>\n",
       "      <th>1</th>\n",
       "      <th>2</th>\n",
       "      <th>3</th>\n",
       "      <th>4</th>\n",
       "      <th>5</th>\n",
       "      <th>6</th>\n",
       "      <th>7</th>\n",
       "      <th>8</th>\n",
       "      <th>...</th>\n",
       "      <th>243</th>\n",
       "      <th>244</th>\n",
       "      <th>245</th>\n",
       "      <th>246</th>\n",
       "      <th>247</th>\n",
       "      <th>248</th>\n",
       "      <th>249</th>\n",
       "      <th>250</th>\n",
       "      <th>251</th>\n",
       "      <th>252</th>\n",
       "    </tr>\n",
       "  </thead>\n",
       "  <tbody>\n",
       "    <tr>\n",
       "      <th>count</th>\n",
       "      <td>8.354000e+03</td>\n",
       "      <td>8354.000000</td>\n",
       "      <td>8354.000000</td>\n",
       "      <td>8354.000000</td>\n",
       "      <td>8354.000000</td>\n",
       "      <td>8354.000000</td>\n",
       "      <td>8354.000000</td>\n",
       "      <td>8354.000000</td>\n",
       "      <td>8354.000000</td>\n",
       "      <td>8354.000000</td>\n",
       "      <td>...</td>\n",
       "      <td>8354.000000</td>\n",
       "      <td>8354.000000</td>\n",
       "      <td>8354.000000</td>\n",
       "      <td>8354.000000</td>\n",
       "      <td>8354.000000</td>\n",
       "      <td>8354.000000</td>\n",
       "      <td>8354.000000</td>\n",
       "      <td>8354.000000</td>\n",
       "      <td>8354.000000</td>\n",
       "      <td>8354.000000</td>\n",
       "    </tr>\n",
       "    <tr>\n",
       "      <th>mean</th>\n",
       "      <td>2.249330e+06</td>\n",
       "      <td>5.255322</td>\n",
       "      <td>36.949103</td>\n",
       "      <td>4.047678</td>\n",
       "      <td>31.653667</td>\n",
       "      <td>8.279109</td>\n",
       "      <td>40.167888</td>\n",
       "      <td>3.013243</td>\n",
       "      <td>15.879714</td>\n",
       "      <td>2.910864</td>\n",
       "      <td>...</td>\n",
       "      <td>131.135610</td>\n",
       "      <td>33.916304</td>\n",
       "      <td>0.117689</td>\n",
       "      <td>-10.000810</td>\n",
       "      <td>-8.021365</td>\n",
       "      <td>0.280829</td>\n",
       "      <td>0.085677</td>\n",
       "      <td>12.643435</td>\n",
       "      <td>0.027700</td>\n",
       "      <td>0.268734</td>\n",
       "    </tr>\n",
       "    <tr>\n",
       "      <th>std</th>\n",
       "      <td>1.306814e+06</td>\n",
       "      <td>182.462452</td>\n",
       "      <td>375.099163</td>\n",
       "      <td>190.993428</td>\n",
       "      <td>420.104503</td>\n",
       "      <td>216.390235</td>\n",
       "      <td>492.361408</td>\n",
       "      <td>101.210184</td>\n",
       "      <td>262.664089</td>\n",
       "      <td>81.406140</td>\n",
       "      <td>...</td>\n",
       "      <td>3484.015962</td>\n",
       "      <td>2413.461675</td>\n",
       "      <td>958.108001</td>\n",
       "      <td>198.997059</td>\n",
       "      <td>1382.865117</td>\n",
       "      <td>144.948148</td>\n",
       "      <td>6.054197</td>\n",
       "      <td>144.531672</td>\n",
       "      <td>5.710988</td>\n",
       "      <td>0.443328</td>\n",
       "    </tr>\n",
       "    <tr>\n",
       "      <th>min</th>\n",
       "      <td>4.970000e+02</td>\n",
       "      <td>-181.509971</td>\n",
       "      <td>-408.179112</td>\n",
       "      <td>-195.450786</td>\n",
       "      <td>-460.786798</td>\n",
       "      <td>-200.868246</td>\n",
       "      <td>-481.891790</td>\n",
       "      <td>-16.086180</td>\n",
       "      <td>-65.076097</td>\n",
       "      <td>-6.783660</td>\n",
       "      <td>...</td>\n",
       "      <td>-977.373846</td>\n",
       "      <td>-613.770792</td>\n",
       "      <td>-25.996269</td>\n",
       "      <td>-37.630448</td>\n",
       "      <td>-306.747724</td>\n",
       "      <td>-25.832889</td>\n",
       "      <td>-0.694428</td>\n",
       "      <td>-12.175933</td>\n",
       "      <td>-0.456140</td>\n",
       "      <td>0.000000</td>\n",
       "    </tr>\n",
       "    <tr>\n",
       "      <th>25%</th>\n",
       "      <td>1.091703e+06</td>\n",
       "      <td>-96.799971</td>\n",
       "      <td>-153.939112</td>\n",
       "      <td>-110.740786</td>\n",
       "      <td>-191.064298</td>\n",
       "      <td>-114.888246</td>\n",
       "      <td>-206.351790</td>\n",
       "      <td>-16.086180</td>\n",
       "      <td>-65.076097</td>\n",
       "      <td>-6.783660</td>\n",
       "      <td>...</td>\n",
       "      <td>-977.373846</td>\n",
       "      <td>-613.770792</td>\n",
       "      <td>-25.996269</td>\n",
       "      <td>-37.630448</td>\n",
       "      <td>-294.747724</td>\n",
       "      <td>-25.832889</td>\n",
       "      <td>-0.694428</td>\n",
       "      <td>-12.175933</td>\n",
       "      <td>-0.456140</td>\n",
       "      <td>0.000000</td>\n",
       "    </tr>\n",
       "    <tr>\n",
       "      <th>50%</th>\n",
       "      <td>2.251965e+06</td>\n",
       "      <td>-81.959971</td>\n",
       "      <td>-22.579112</td>\n",
       "      <td>-78.960786</td>\n",
       "      <td>-41.296798</td>\n",
       "      <td>-80.598246</td>\n",
       "      <td>-56.031790</td>\n",
       "      <td>-16.086180</td>\n",
       "      <td>-65.076097</td>\n",
       "      <td>-6.783660</td>\n",
       "      <td>...</td>\n",
       "      <td>-937.373846</td>\n",
       "      <td>-610.770792</td>\n",
       "      <td>-25.996269</td>\n",
       "      <td>-37.630448</td>\n",
       "      <td>-219.747724</td>\n",
       "      <td>-22.832889</td>\n",
       "      <td>-0.694428</td>\n",
       "      <td>-10.175933</td>\n",
       "      <td>-0.456140</td>\n",
       "      <td>0.000000</td>\n",
       "    </tr>\n",
       "    <tr>\n",
       "      <th>75%</th>\n",
       "      <td>3.377638e+06</td>\n",
       "      <td>21.850029</td>\n",
       "      <td>145.943388</td>\n",
       "      <td>34.851714</td>\n",
       "      <td>151.020702</td>\n",
       "      <td>42.121754</td>\n",
       "      <td>153.698210</td>\n",
       "      <td>-16.086180</td>\n",
       "      <td>-39.656097</td>\n",
       "      <td>-6.783660</td>\n",
       "      <td>...</td>\n",
       "      <td>-334.373846</td>\n",
       "      <td>-351.020792</td>\n",
       "      <td>-24.996269</td>\n",
       "      <td>-32.630448</td>\n",
       "      <td>-53.747724</td>\n",
       "      <td>-8.832889</td>\n",
       "      <td>-0.694428</td>\n",
       "      <td>2.824067</td>\n",
       "      <td>-0.456140</td>\n",
       "      <td>1.000000</td>\n",
       "    </tr>\n",
       "    <tr>\n",
       "      <th>max</th>\n",
       "      <td>4.510299e+06</td>\n",
       "      <td>3978.440029</td>\n",
       "      <td>8817.860888</td>\n",
       "      <td>3974.669214</td>\n",
       "      <td>8799.583202</td>\n",
       "      <td>4187.891754</td>\n",
       "      <td>9442.878210</td>\n",
       "      <td>4051.703820</td>\n",
       "      <td>9087.423903</td>\n",
       "      <td>3552.536340</td>\n",
       "      <td>...</td>\n",
       "      <td>65740.626154</td>\n",
       "      <td>61131.229208</td>\n",
       "      <td>83416.003731</td>\n",
       "      <td>7454.369552</td>\n",
       "      <td>93539.252276</td>\n",
       "      <td>6135.167111</td>\n",
       "      <td>168.305572</td>\n",
       "      <td>6148.824067</td>\n",
       "      <td>403.543860</td>\n",
       "      <td>1.000000</td>\n",
       "    </tr>\n",
       "  </tbody>\n",
       "</table>\n",
       "<p>8 rows × 254 columns</p>\n",
       "</div>"
      ],
      "text/plain": [
       "         Unnamed: 0            0            1            2            3  \\\n",
       "count  8.354000e+03  8354.000000  8354.000000  8354.000000  8354.000000   \n",
       "mean   2.249330e+06     5.255322    36.949103     4.047678    31.653667   \n",
       "std    1.306814e+06   182.462452   375.099163   190.993428   420.104503   \n",
       "min    4.970000e+02  -181.509971  -408.179112  -195.450786  -460.786798   \n",
       "25%    1.091703e+06   -96.799971  -153.939112  -110.740786  -191.064298   \n",
       "50%    2.251965e+06   -81.959971   -22.579112   -78.960786   -41.296798   \n",
       "75%    3.377638e+06    21.850029   145.943388    34.851714   151.020702   \n",
       "max    4.510299e+06  3978.440029  8817.860888  3974.669214  8799.583202   \n",
       "\n",
       "                 4            5            6            7            8  ...  \\\n",
       "count  8354.000000  8354.000000  8354.000000  8354.000000  8354.000000  ...   \n",
       "mean      8.279109    40.167888     3.013243    15.879714     2.910864  ...   \n",
       "std     216.390235   492.361408   101.210184   262.664089    81.406140  ...   \n",
       "min    -200.868246  -481.891790   -16.086180   -65.076097    -6.783660  ...   \n",
       "25%    -114.888246  -206.351790   -16.086180   -65.076097    -6.783660  ...   \n",
       "50%     -80.598246   -56.031790   -16.086180   -65.076097    -6.783660  ...   \n",
       "75%      42.121754   153.698210   -16.086180   -39.656097    -6.783660  ...   \n",
       "max    4187.891754  9442.878210  4051.703820  9087.423903  3552.536340  ...   \n",
       "\n",
       "                243           244           245          246           247  \\\n",
       "count   8354.000000   8354.000000   8354.000000  8354.000000   8354.000000   \n",
       "mean     131.135610     33.916304      0.117689   -10.000810     -8.021365   \n",
       "std     3484.015962   2413.461675    958.108001   198.997059   1382.865117   \n",
       "min     -977.373846   -613.770792    -25.996269   -37.630448   -306.747724   \n",
       "25%     -977.373846   -613.770792    -25.996269   -37.630448   -294.747724   \n",
       "50%     -937.373846   -610.770792    -25.996269   -37.630448   -219.747724   \n",
       "75%     -334.373846   -351.020792    -24.996269   -32.630448    -53.747724   \n",
       "max    65740.626154  61131.229208  83416.003731  7454.369552  93539.252276   \n",
       "\n",
       "               248          249          250          251          252  \n",
       "count  8354.000000  8354.000000  8354.000000  8354.000000  8354.000000  \n",
       "mean      0.280829     0.085677    12.643435     0.027700     0.268734  \n",
       "std     144.948148     6.054197   144.531672     5.710988     0.443328  \n",
       "min     -25.832889    -0.694428   -12.175933    -0.456140     0.000000  \n",
       "25%     -25.832889    -0.694428   -12.175933    -0.456140     0.000000  \n",
       "50%     -22.832889    -0.694428   -10.175933    -0.456140     0.000000  \n",
       "75%      -8.832889    -0.694428     2.824067    -0.456140     1.000000  \n",
       "max    6135.167111   168.305572  6148.824067   403.543860     1.000000  \n",
       "\n",
       "[8 rows x 254 columns]"
      ]
     },
     "execution_count": 174,
     "metadata": {},
     "output_type": "execute_result"
    }
   ],
   "source": [
    "feat_1_row.describe()"
   ]
  },
  {
   "cell_type": "code",
   "execution_count": 175,
   "id": "5f70b5e4",
   "metadata": {},
   "outputs": [
    {
     "data": {
      "text/plain": [
       "(8347, 8354)"
      ]
     },
     "execution_count": 175,
     "metadata": {},
     "output_type": "execute_result"
    }
   ],
   "source": [
    "feat_1_row.id.nunique(), len(feat_1_row)  "
   ]
  },
  {
   "cell_type": "code",
   "execution_count": 176,
   "id": "9d516899",
   "metadata": {},
   "outputs": [],
   "source": [
    "feat_1_row = feat_1_row.astype({'id': 'int32', 'buy_time': 'int64'})"
   ]
  },
  {
   "cell_type": "code",
   "execution_count": 179,
   "id": "d9644ca4",
   "metadata": {},
   "outputs": [],
   "source": [
    "feat_1_row['week'] = feat_1_row['buy_time'].apply( user_timestamp_2_week )\n",
    "feat_1_row = feat_1_row.copy()\n",
    "feat_1_row = feat_1_row.astype({'week': 'int32'}) "
   ]
  },
  {
   "cell_type": "code",
   "execution_count": 180,
   "id": "68c1ab6a",
   "metadata": {},
   "outputs": [
    {
     "data": {
      "text/plain": [
       "Unnamed: 0      float64\n",
       "Unnamed: 0.1     object\n",
       "id                int32\n",
       "buy_time          int64\n",
       "0               float64\n",
       "                 ...   \n",
       "249             float64\n",
       "250             float64\n",
       "251             float64\n",
       "252             float64\n",
       "week              int32\n",
       "Length: 258, dtype: object"
      ]
     },
     "execution_count": 180,
     "metadata": {},
     "output_type": "execute_result"
    }
   ],
   "source": [
    "feat_1_row.dtypes"
   ]
  },
  {
   "cell_type": "code",
   "execution_count": 181,
   "id": "3f9d624e",
   "metadata": {},
   "outputs": [],
   "source": [
    "feat_1_row.drop( labels=['Unnamed: 0', 'Unnamed: 0.1'], axis=1, inplace=True ) "
   ]
  },
  {
   "cell_type": "code",
   "execution_count": 182,
   "id": "a2131957",
   "metadata": {},
   "outputs": [
    {
     "name": "stdout",
     "output_type": "stream",
     "text": [
      "<class 'pandas.core.frame.DataFrame'>\n",
      "Int64Index: 8354 entries, 0 to 8421\n",
      "Columns: 256 entries, id to week\n",
      "dtypes: float64(253), int32(2), int64(1)\n",
      "memory usage: 16.3 MB\n"
     ]
    },
    {
     "data": {
      "text/plain": [
       "(None,\n",
       " Index       66832\n",
       " id          33416\n",
       " buy_time    66832\n",
       " 0           66832\n",
       " 1           66832\n",
       "             ...  \n",
       " 249         66832\n",
       " 250         66832\n",
       " 251         66832\n",
       " 252         66832\n",
       " week        33416\n",
       " Length: 257, dtype: int64)"
      ]
     },
     "execution_count": 182,
     "metadata": {},
     "output_type": "execute_result"
    }
   ],
   "source": [
    "feat_1_row.info(), feat_1_row.memory_usage(deep=True)"
   ]
  },
  {
   "cell_type": "code",
   "execution_count": 184,
   "id": "e9578bd9",
   "metadata": {},
   "outputs": [
    {
     "data": {
      "text/plain": [
       "Index(['0', '1', '2', '3', '4', '5', '6', '7', '8', '9',\n",
       "       ...\n",
       "       '243', '244', '245', '246', '247', '248', '249', '250', '251', '252'],\n",
       "      dtype='object', length=253)"
      ]
     },
     "execution_count": 184,
     "metadata": {},
     "output_type": "execute_result"
    }
   ],
   "source": [
    "clmns_to_norm = feat_1_row.columns[2:-1]\n",
    "clmns_to_norm"
   ]
  },
  {
   "cell_type": "code",
   "execution_count": 185,
   "id": "fcb876e8",
   "metadata": {},
   "outputs": [
    {
     "data": {
      "text/html": [
       "<div>\n",
       "<style scoped>\n",
       "    .dataframe tbody tr th:only-of-type {\n",
       "        vertical-align: middle;\n",
       "    }\n",
       "\n",
       "    .dataframe tbody tr th {\n",
       "        vertical-align: top;\n",
       "    }\n",
       "\n",
       "    .dataframe thead th {\n",
       "        text-align: right;\n",
       "    }\n",
       "</style>\n",
       "<table border=\"1\" class=\"dataframe\">\n",
       "  <thead>\n",
       "    <tr style=\"text-align: right;\">\n",
       "      <th></th>\n",
       "      <th>0</th>\n",
       "      <th>1</th>\n",
       "      <th>2</th>\n",
       "      <th>3</th>\n",
       "      <th>4</th>\n",
       "      <th>5</th>\n",
       "      <th>6</th>\n",
       "      <th>7</th>\n",
       "      <th>8</th>\n",
       "      <th>9</th>\n",
       "      <th>...</th>\n",
       "      <th>249</th>\n",
       "      <th>250</th>\n",
       "      <th>251</th>\n",
       "      <th>252</th>\n",
       "      <th>253</th>\n",
       "      <th>254</th>\n",
       "      <th>255</th>\n",
       "      <th>id</th>\n",
       "      <th>buy_time</th>\n",
       "      <th>week</th>\n",
       "    </tr>\n",
       "  </thead>\n",
       "  <tbody>\n",
       "    <tr>\n",
       "      <th>0</th>\n",
       "      <td>0.000112</td>\n",
       "      <td>0.791600</td>\n",
       "      <td>-4.895141e-08</td>\n",
       "      <td>-1.959242e-07</td>\n",
       "      <td>7.372295e-09</td>\n",
       "      <td>4.121801e-07</td>\n",
       "      <td>4.571361e-09</td>\n",
       "      <td>4.012684e-07</td>\n",
       "      <td>-8.316872e-09</td>\n",
       "      <td>-2.444784e-08</td>\n",
       "      <td>...</td>\n",
       "      <td>-2.727161e-08</td>\n",
       "      <td>-1.335611e-08</td>\n",
       "      <td>-3.590332e-10</td>\n",
       "      <td>-6.295197e-09</td>\n",
       "      <td>-2.358333e-10</td>\n",
       "      <td>0.000000e+00</td>\n",
       "      <td>1.447655e-08</td>\n",
       "      <td>3748015.0</td>\n",
       "      <td>1.531688e+09</td>\n",
       "      <td>29.0</td>\n",
       "    </tr>\n",
       "    <tr>\n",
       "      <th>1</th>\n",
       "      <td>0.000112</td>\n",
       "      <td>0.642467</td>\n",
       "      <td>-4.061882e-08</td>\n",
       "      <td>-8.237865e-08</td>\n",
       "      <td>-4.646861e-08</td>\n",
       "      <td>-1.044537e-07</td>\n",
       "      <td>-4.874186e-08</td>\n",
       "      <td>-1.133097e-07</td>\n",
       "      <td>-6.750019e-09</td>\n",
       "      <td>-2.730697e-08</td>\n",
       "      <td>...</td>\n",
       "      <td>-1.224220e-07</td>\n",
       "      <td>-2.447574e-09</td>\n",
       "      <td>-2.913933e-10</td>\n",
       "      <td>3.283104e-09</td>\n",
       "      <td>-1.914036e-10</td>\n",
       "      <td>4.196160e-10</td>\n",
       "      <td>1.174925e-08</td>\n",
       "      <td>3870847.0</td>\n",
       "      <td>1.531084e+09</td>\n",
       "      <td>28.0</td>\n",
       "    </tr>\n",
       "    <tr>\n",
       "      <th>2</th>\n",
       "      <td>0.000460</td>\n",
       "      <td>0.788705</td>\n",
       "      <td>-4.984473e-08</td>\n",
       "      <td>3.419148e-08</td>\n",
       "      <td>-4.174023e-08</td>\n",
       "      <td>6.823437e-08</td>\n",
       "      <td>-4.452981e-08</td>\n",
       "      <td>5.736688e-08</td>\n",
       "      <td>-8.283177e-09</td>\n",
       "      <td>-3.350931e-08</td>\n",
       "      <td>...</td>\n",
       "      <td>8.818209e-08</td>\n",
       "      <td>8.604986e-11</td>\n",
       "      <td>1.303047e-08</td>\n",
       "      <td>-6.269693e-09</td>\n",
       "      <td>-2.348779e-10</td>\n",
       "      <td>5.149250e-10</td>\n",
       "      <td>1.493283e-08</td>\n",
       "      <td>216934.0</td>\n",
       "      <td>1.531084e+09</td>\n",
       "      <td>28.0</td>\n",
       "    </tr>\n",
       "    <tr>\n",
       "      <th>3</th>\n",
       "      <td>0.000472</td>\n",
       "      <td>0.684848</td>\n",
       "      <td>-1.278371e-08</td>\n",
       "      <td>-6.184278e-08</td>\n",
       "      <td>-1.901939e-08</td>\n",
       "      <td>-8.537400e-08</td>\n",
       "      <td>-6.659457e-09</td>\n",
       "      <td>-8.003105e-08</td>\n",
       "      <td>-7.195288e-09</td>\n",
       "      <td>-2.910829e-08</td>\n",
       "      <td>...</td>\n",
       "      <td>-1.085801e-07</td>\n",
       "      <td>-1.066036e-08</td>\n",
       "      <td>-3.106153e-10</td>\n",
       "      <td>-5.446249e-09</td>\n",
       "      <td>6.905628e-10</td>\n",
       "      <td>4.472963e-10</td>\n",
       "      <td>1.252430e-08</td>\n",
       "      <td>267598.0</td>\n",
       "      <td>1.531084e+09</td>\n",
       "      <td>28.0</td>\n",
       "    </tr>\n",
       "    <tr>\n",
       "      <th>4</th>\n",
       "      <td>0.000474</td>\n",
       "      <td>0.647841</td>\n",
       "      <td>-1.405914e-08</td>\n",
       "      <td>-1.457597e-07</td>\n",
       "      <td>-1.995553e-08</td>\n",
       "      <td>-1.680106e-07</td>\n",
       "      <td>-2.224690e-08</td>\n",
       "      <td>-1.769372e-07</td>\n",
       "      <td>-6.803793e-09</td>\n",
       "      <td>-2.752452e-08</td>\n",
       "      <td>...</td>\n",
       "      <td>-1.178988e-07</td>\n",
       "      <td>8.529860e-09</td>\n",
       "      <td>-2.937147e-10</td>\n",
       "      <td>1.430619e-08</td>\n",
       "      <td>-1.929284e-10</td>\n",
       "      <td>4.229589e-10</td>\n",
       "      <td>1.226581e-08</td>\n",
       "      <td>893213.0</td>\n",
       "      <td>1.531688e+09</td>\n",
       "      <td>29.0</td>\n",
       "    </tr>\n",
       "  </tbody>\n",
       "</table>\n",
       "<p>5 rows × 259 columns</p>\n",
       "</div>"
      ],
      "text/plain": [
       "          0         1             2             3             4             5  \\\n",
       "0  0.000112  0.791600 -4.895141e-08 -1.959242e-07  7.372295e-09  4.121801e-07   \n",
       "1  0.000112  0.642467 -4.061882e-08 -8.237865e-08 -4.646861e-08 -1.044537e-07   \n",
       "2  0.000460  0.788705 -4.984473e-08  3.419148e-08 -4.174023e-08  6.823437e-08   \n",
       "3  0.000472  0.684848 -1.278371e-08 -6.184278e-08 -1.901939e-08 -8.537400e-08   \n",
       "4  0.000474  0.647841 -1.405914e-08 -1.457597e-07 -1.995553e-08 -1.680106e-07   \n",
       "\n",
       "              6             7             8             9  ...           249  \\\n",
       "0  4.571361e-09  4.012684e-07 -8.316872e-09 -2.444784e-08  ... -2.727161e-08   \n",
       "1 -4.874186e-08 -1.133097e-07 -6.750019e-09 -2.730697e-08  ... -1.224220e-07   \n",
       "2 -4.452981e-08  5.736688e-08 -8.283177e-09 -3.350931e-08  ...  8.818209e-08   \n",
       "3 -6.659457e-09 -8.003105e-08 -7.195288e-09 -2.910829e-08  ... -1.085801e-07   \n",
       "4 -2.224690e-08 -1.769372e-07 -6.803793e-09 -2.752452e-08  ... -1.178988e-07   \n",
       "\n",
       "            250           251           252           253           254  \\\n",
       "0 -1.335611e-08 -3.590332e-10 -6.295197e-09 -2.358333e-10  0.000000e+00   \n",
       "1 -2.447574e-09 -2.913933e-10  3.283104e-09 -1.914036e-10  4.196160e-10   \n",
       "2  8.604986e-11  1.303047e-08 -6.269693e-09 -2.348779e-10  5.149250e-10   \n",
       "3 -1.066036e-08 -3.106153e-10 -5.446249e-09  6.905628e-10  4.472963e-10   \n",
       "4  8.529860e-09 -2.937147e-10  1.430619e-08 -1.929284e-10  4.229589e-10   \n",
       "\n",
       "            255         id      buy_time  week  \n",
       "0  1.447655e-08  3748015.0  1.531688e+09  29.0  \n",
       "1  1.174925e-08  3870847.0  1.531084e+09  28.0  \n",
       "2  1.493283e-08   216934.0  1.531084e+09  28.0  \n",
       "3  1.252430e-08   267598.0  1.531084e+09  28.0  \n",
       "4  1.226581e-08   893213.0  1.531688e+09  29.0  \n",
       "\n",
       "[5 rows x 259 columns]"
      ]
     },
     "execution_count": 185,
     "metadata": {},
     "output_type": "execute_result"
    }
   ],
   "source": [
    "from sklearn.preprocessing import Normalizer\n",
    "\n",
    "feat_norm = pd.DataFrame(Normalizer().fit_transform(feat_1_row[2:-1]))\n",
    "feat_norm[ ['id', 'buy_time', 'week'] ] = feat_1_row[['id', 'buy_time', 'week'] ]\n",
    "feat_norm.head(5)"
   ]
  },
  {
   "cell_type": "code",
   "execution_count": null,
   "id": "8a6a22e0",
   "metadata": {},
   "outputs": [],
   "source": []
  },
  {
   "cell_type": "code",
   "execution_count": 193,
   "id": "6815e5f8",
   "metadata": {},
   "outputs": [
    {
     "data": {
      "text/plain": [
       "array([29., 28.])"
      ]
     },
     "execution_count": 193,
     "metadata": {},
     "output_type": "execute_result"
    }
   ],
   "source": [
    "feat_norm['week'].unique()"
   ]
  },
  {
   "cell_type": "code",
   "execution_count": null,
   "id": "fa3dcc86",
   "metadata": {},
   "outputs": [],
   "source": []
  },
  {
   "cell_type": "code",
   "execution_count": 194,
   "id": "639166a8",
   "metadata": {},
   "outputs": [
    {
     "data": {
      "text/plain": [
       "0"
      ]
     },
     "execution_count": 194,
     "metadata": {},
     "output_type": "execute_result"
    }
   ],
   "source": [
    "bad_indexes = feat_norm[feat_norm['week'].isna()].index\n",
    "len(bad_indexes)"
   ]
  },
  {
   "cell_type": "code",
   "execution_count": 195,
   "id": "b32f4042",
   "metadata": {},
   "outputs": [],
   "source": [
    "feat_norm.drop( labels=bad_indexes, axis=0, inplace=True ) "
   ]
  },
  {
   "cell_type": "code",
   "execution_count": null,
   "id": "1fdde41a",
   "metadata": {},
   "outputs": [],
   "source": []
  },
  {
   "cell_type": "code",
   "execution_count": null,
   "id": "dc34100b",
   "metadata": {},
   "outputs": [],
   "source": []
  },
  {
   "cell_type": "code",
   "execution_count": 199,
   "id": "eee348e1",
   "metadata": {},
   "outputs": [],
   "source": [
    "col_0_252_types_dict = {}\n",
    "\n",
    "for cnm in feat_norm.columns[2:-1]:\n",
    "    col_0_252_types_dict[cnm]='float32'\n",
    "\n",
    "feat_norm = feat_norm.astype(col_0_252_types_dict)"
   ]
  },
  {
   "cell_type": "code",
   "execution_count": 200,
   "id": "9f4feef9",
   "metadata": {},
   "outputs": [
    {
     "name": "stdout",
     "output_type": "stream",
     "text": [
      " 2: nunique: 6268 \n",
      " 3: nunique: 7908 \n",
      " 4: nunique: 6517 \n",
      " 5: nunique: 8038 \n",
      " 6: nunique: 6571 \n",
      " 7: nunique: 8066 \n",
      " 8: nunique: 4045 \n",
      " 9: nunique: 4930 \n",
      " 10: nunique: 3965 \n",
      " 11: nunique: 4393 \n",
      " 12: nunique: 3653 \n",
      " 13: nunique: 3627 \n",
      " 14: nunique: 3578 \n",
      " 15: nunique: 4703 \n",
      " 16: nunique: 5531 \n",
      " 17: nunique: 3479 \n",
      " 18: nunique: 3356 \n",
      " 19: nunique: 3502 \n",
      " 20: nunique: 3740 \n",
      " 21: nunique: 4535 \n",
      " 22: nunique: 4853 \n",
      " 23: nunique: 3858 \n",
      " 24: nunique: 3517 \n",
      " 25: nunique: 3349 \n",
      " 26: nunique: 3411 \n",
      " 27: nunique: 3696 \n",
      " 28: nunique: 3661 \n",
      " 29: nunique: 3405 \n",
      " 30: nunique: 3890 \n",
      " 31: nunique: 3806 \n",
      " 32: nunique: 3782 \n",
      " 33: nunique: 3328 \n",
      " 34: nunique: 3500 \n",
      " 35: nunique: 3331 \n",
      " 36: nunique: 3689 \n",
      " 37: nunique: 3352 \n",
      " 38: nunique: 3917 \n",
      " 39: nunique: 5123 \n",
      " 40: nunique: 7530 \n",
      " 41: nunique: 7301 \n",
      " 42: nunique: 6197 \n",
      " 43: nunique: 3886 \n",
      " 44: nunique: 3489 \n",
      " 45: nunique: 7415 \n",
      " 46: nunique: 7288 \n",
      " 47: nunique: 7242 \n",
      " 48: nunique: 3901 \n",
      " 49: nunique: 5480 \n",
      " 50: nunique: 4124 \n",
      " 51: nunique: 4983 \n",
      " 52: nunique: 7000 \n",
      " 53: nunique: 7073 \n",
      " 54: nunique: 7418 \n",
      " 55: nunique: 6568 \n",
      " 56: nunique: 4853 \n",
      " 57: nunique: 5414 \n",
      " 58: nunique: 4312 \n",
      " 59: nunique: 3503 \n",
      " 60: nunique: 6731 \n",
      " 61: nunique: 5047 \n",
      " 62: nunique: 5715 \n",
      " 63: nunique: 6365 \n",
      " 64: nunique: 5434 \n",
      " 65: nunique: 5595 \n",
      " 66: nunique: 6273 \n",
      " 67: nunique: 3404 \n",
      " 68: nunique: 3561 \n",
      " 69: nunique: 3723 \n",
      " 70: nunique: 3767 \n",
      " 71: nunique: 3506 \n",
      " 72: nunique: 3641 \n",
      " 73: nunique: 3653 \n",
      " 74: nunique: 3583 \n",
      " 75: nunique: 3731 \n",
      " 76: nunique: 3562 \n",
      " 77: nunique: 1 \n",
      " 78: nunique: 4348 \n",
      " 79: nunique: 5165 \n",
      " 80: nunique: 3418 \n",
      " 81: nunique: 3345 \n",
      " 82: nunique: 3480 \n",
      " 83: nunique: 1 \n",
      " 84: nunique: 3355 \n",
      " 85: nunique: 3352 \n",
      " 86: nunique: 3368 \n",
      " 87: nunique: 1 \n",
      " 88: nunique: 3334 \n",
      " 89: nunique: 3337 \n",
      " 90: nunique: 3529 \n",
      " 91: nunique: 3475 \n",
      " 92: nunique: 3438 \n",
      " 93: nunique: 3500 \n",
      " 94: nunique: 3363 \n",
      " 95: nunique: 3492 \n",
      " 96: nunique: 3420 \n",
      " 97: nunique: 3321 \n",
      " 98: nunique: 3459 \n",
      " 99: nunique: 3554 \n",
      " 100: nunique: 3567 \n",
      " 101: nunique: 3620 \n",
      " 102: nunique: 3440 \n",
      " 103: nunique: 3438 \n",
      " 104: nunique: 3660 \n",
      " 105: nunique: 3819 \n",
      " 106: nunique: 4511 \n",
      " 107: nunique: 3441 \n",
      " 108: nunique: 4344 \n",
      " 109: nunique: 3552 \n",
      " 110: nunique: 4609 \n",
      " 111: nunique: 3372 \n",
      " 112: nunique: 4740 \n",
      " 113: nunique: 5238 \n",
      " 114: nunique: 7304 \n",
      " 115: nunique: 6200 \n",
      " 116: nunique: 6578 \n",
      " 117: nunique: 6695 \n",
      " 118: nunique: 7528 \n",
      " 119: nunique: 6804 \n",
      " 120: nunique: 3470 \n",
      " 121: nunique: 3476 \n",
      " 122: nunique: 3383 \n",
      " 123: nunique: 3521 \n",
      " 124: nunique: 3512 \n",
      " 125: nunique: 3876 \n",
      " 126: nunique: 3493 \n",
      " 127: nunique: 3908 \n",
      " 128: nunique: 5044 \n",
      " 129: nunique: 5212 \n",
      " 130: nunique: 6503 \n",
      " 131: nunique: 5267 \n",
      " 132: nunique: 5927 \n",
      " 133: nunique: 4152 \n",
      " 134: nunique: 3645 \n",
      " 135: nunique: 4644 \n",
      " 136: nunique: 3863 \n",
      " 137: nunique: 4004 \n",
      " 138: nunique: 4235 \n",
      " 139: nunique: 4028 \n",
      " 140: nunique: 4052 \n",
      " 141: nunique: 1 \n",
      " 142: nunique: 3522 \n",
      " 143: nunique: 3473 \n",
      " 144: nunique: 3541 \n",
      " 145: nunique: 6793 \n",
      " 146: nunique: 7403 \n",
      " 147: nunique: 6162 \n",
      " 148: nunique: 6367 \n",
      " 149: nunique: 4563 \n",
      " 150: nunique: 5054 \n",
      " 151: nunique: 3465 \n",
      " 152: nunique: 4640 \n",
      " 153: nunique: 6853 \n",
      " 154: nunique: 3539 \n",
      " 155: nunique: 3445 \n",
      " 156: nunique: 3465 \n",
      " 157: nunique: 3515 \n",
      " 158: nunique: 3918 \n",
      " 159: nunique: 3552 \n",
      " 160: nunique: 3801 \n",
      " 161: nunique: 3806 \n",
      " 162: nunique: 4233 \n",
      " 163: nunique: 3466 \n",
      " 164: nunique: 4765 \n",
      " 165: nunique: 3319 \n",
      " 166: nunique: 6490 \n",
      " 167: nunique: 5997 \n",
      " 168: nunique: 6641 \n",
      " 169: nunique: 6109 \n",
      " 170: nunique: 6643 \n",
      " 171: nunique: 6397 \n",
      " 172: nunique: 7280 \n",
      " 173: nunique: 5816 \n",
      " 174: nunique: 6893 \n",
      " 175: nunique: 3331 \n",
      " 176: nunique: 3357 \n",
      " 177: nunique: 3427 \n",
      " 178: nunique: 3382 \n",
      " 179: nunique: 3472 \n",
      " 180: nunique: 3449 \n",
      " 181: nunique: 3503 \n",
      " 182: nunique: 3331 \n",
      " 183: nunique: 3869 \n",
      " 184: nunique: 3947 \n",
      " 185: nunique: 3797 \n",
      " 186: nunique: 3919 \n",
      " 187: nunique: 6436 \n",
      " 188: nunique: 7233 \n",
      " 189: nunique: 5890 \n",
      " 190: nunique: 6935 \n",
      " 191: nunique: 3416 \n",
      " 192: nunique: 3485 \n",
      " 193: nunique: 5610 \n",
      " 194: nunique: 3642 \n",
      " 195: nunique: 4301 \n",
      " 196: nunique: 3822 \n",
      " 197: nunique: 3721 \n",
      " 198: nunique: 3734 \n",
      " 199: nunique: 3388 \n",
      " 200: nunique: 3738 \n",
      " 201: nunique: 3493 \n",
      " 202: nunique: 3403 \n",
      " 203: nunique: 3727 \n",
      " 204: nunique: 3490 \n",
      " 205: nunique: 1 \n",
      " 206: nunique: 3592 \n",
      " 207: nunique: 3787 \n",
      " 208: nunique: 3430 \n",
      " 209: nunique: 6388 \n",
      " 210: nunique: 4808 \n",
      " 211: nunique: 4148 \n",
      " 212: nunique: 4477 \n",
      " 213: nunique: 4441 \n",
      " 214: nunique: 3356 \n",
      " 215: nunique: 3585 \n",
      " 216: nunique: 3400 \n",
      " 217: nunique: 3384 \n",
      " 218: nunique: 3454 \n",
      " 219: nunique: 4158 \n",
      " 220: nunique: 3449 \n",
      " 221: nunique: 4149 \n",
      " 222: nunique: 3560 \n",
      " 223: nunique: 3496 \n",
      " 224: nunique: 3289 \n",
      " 225: nunique: 4353 \n",
      " 226: nunique: 3470 \n",
      " 227: nunique: 3350 \n",
      " 228: nunique: 7703 \n",
      " 229: nunique: 3886 \n",
      " 230: nunique: 3796 \n",
      " 231: nunique: 7058 \n",
      " 232: nunique: 5593 \n",
      " 233: nunique: 3660 \n",
      " 234: nunique: 3369 \n",
      " 235: nunique: 3692 \n",
      " 236: nunique: 5222 \n",
      " 237: nunique: 3704 \n",
      " 238: nunique: 6927 \n",
      " 239: nunique: 5126 \n",
      " 240: nunique: 5407 \n",
      " 241: nunique: 4841 \n",
      " 242: nunique: 6253 \n",
      " 243: nunique: 6060 \n",
      " 244: nunique: 4178 \n",
      " 245: nunique: 6626 \n",
      " 246: nunique: 6057 \n",
      " 247: nunique: 4528 \n",
      " 248: nunique: 4956 \n",
      " 249: nunique: 7129 \n",
      " 250: nunique: 5790 \n",
      " 251: nunique: 3823 \n",
      " 252: nunique: 5727 \n",
      " 253: nunique: 3588 \n",
      " 254: nunique: 1360 \n",
      " 255: nunique: 3343 \n",
      " id: nunique: 8276 \n",
      " buy_time: nunique: 2 \n"
     ]
    }
   ],
   "source": [
    "for cnm in feat_norm.columns[2:-1]:\n",
    "    print( f' {cnm}: nunique: { feat_norm[cnm].nunique() } ')\n"
   ]
  },
  {
   "cell_type": "code",
   "execution_count": 201,
   "id": "b989c48f",
   "metadata": {},
   "outputs": [
    {
     "data": {
      "text/plain": [
       "(127040, 8283)"
      ]
     },
     "execution_count": 201,
     "metadata": {},
     "output_type": "execute_result"
    }
   ],
   "source": [
    "len( common_ids ), len(feat_norm) "
   ]
  },
  {
   "cell_type": "code",
   "execution_count": 202,
   "id": "daba4f57",
   "metadata": {},
   "outputs": [
    {
     "data": {
      "text/plain": [
       "1         1454121\n",
       "23        2066638\n",
       "30        1913461\n",
       "35        2000858\n",
       "39        1586711\n",
       "           ...   \n",
       "778361    3344051\n",
       "778372    2064912\n",
       "778374     763706\n",
       "778378     830354\n",
       "778442     874976\n",
       "Name: id, Length: 57005, dtype: int64"
      ]
     },
     "execution_count": 202,
     "metadata": {},
     "output_type": "execute_result"
    }
   ],
   "source": [
    "dt_train.id"
   ]
  },
  {
   "cell_type": "code",
   "execution_count": 209,
   "id": "d0480a91",
   "metadata": {},
   "outputs": [
    {
     "data": {
      "text/plain": [
       "(8283, 8283, 8283)"
      ]
     },
     "execution_count": 209,
     "metadata": {},
     "output_type": "execute_result"
    }
   ],
   "source": [
    "len(feat_norm.id.isin(dt_train.id) ), len(feat_norm.id.isin(dt_test.id) ), len(feat_norm)"
   ]
  },
  {
   "cell_type": "code",
   "execution_count": 212,
   "id": "3da0aa14",
   "metadata": {},
   "outputs": [
    {
     "data": {
      "text/plain": [
       "array([29., 28.])"
      ]
     },
     "execution_count": 212,
     "metadata": {},
     "output_type": "execute_result"
    }
   ],
   "source": [
    "feat_norm.week.unique()"
   ]
  },
  {
   "cell_type": "code",
   "execution_count": 223,
   "id": "37e4c09f",
   "metadata": {},
   "outputs": [],
   "source": [
    "dt_train_mrg = pd.merge( dt_train, feat_norm, on=\"id\" )"
   ]
  },
  {
   "cell_type": "code",
   "execution_count": 224,
   "id": "2382c2f7",
   "metadata": {},
   "outputs": [
    {
     "data": {
      "text/html": [
       "<div>\n",
       "<style scoped>\n",
       "    .dataframe tbody tr th:only-of-type {\n",
       "        vertical-align: middle;\n",
       "    }\n",
       "\n",
       "    .dataframe tbody tr th {\n",
       "        vertical-align: top;\n",
       "    }\n",
       "\n",
       "    .dataframe thead th {\n",
       "        text-align: right;\n",
       "    }\n",
       "</style>\n",
       "<table border=\"1\" class=\"dataframe\">\n",
       "  <thead>\n",
       "    <tr style=\"text-align: right;\">\n",
       "      <th></th>\n",
       "      <th>id</th>\n",
       "      <th>vas_id</th>\n",
       "      <th>buy_time_x</th>\n",
       "      <th>week_x</th>\n",
       "      <th>0</th>\n",
       "      <th>1</th>\n",
       "      <th>2</th>\n",
       "      <th>3</th>\n",
       "      <th>4</th>\n",
       "      <th>5</th>\n",
       "      <th>...</th>\n",
       "      <th>248</th>\n",
       "      <th>249</th>\n",
       "      <th>250</th>\n",
       "      <th>251</th>\n",
       "      <th>252</th>\n",
       "      <th>253</th>\n",
       "      <th>254</th>\n",
       "      <th>255</th>\n",
       "      <th>buy_time_y</th>\n",
       "      <th>week_y</th>\n",
       "    </tr>\n",
       "  </thead>\n",
       "  <tbody>\n",
       "    <tr>\n",
       "      <th>3705</th>\n",
       "      <td>1779513</td>\n",
       "      <td>1</td>\n",
       "      <td>1531083600</td>\n",
       "      <td>28</td>\n",
       "      <td>0.001370</td>\n",
       "      <td>0.715911</td>\n",
       "      <td>-4.098375e-08</td>\n",
       "      <td>-3.710708e-08</td>\n",
       "      <td>-4.750226e-08</td>\n",
       "      <td>1.221532e-07</td>\n",
       "      <td>...</td>\n",
       "      <td>-1.759541e-08</td>\n",
       "      <td>-1.434304e-07</td>\n",
       "      <td>-1.207905e-08</td>\n",
       "      <td>-3.247039e-10</td>\n",
       "      <td>-5.693276e-09</td>\n",
       "      <td>-2.132839e-10</td>\n",
       "      <td>4.675843e-10</td>\n",
       "      <td>1.309236e-08</td>\n",
       "      <td>1.531084e+09</td>\n",
       "      <td>28.0</td>\n",
       "    </tr>\n",
       "    <tr>\n",
       "      <th>3706</th>\n",
       "      <td>3020876</td>\n",
       "      <td>1</td>\n",
       "      <td>1531688400</td>\n",
       "      <td>29</td>\n",
       "      <td>0.000202</td>\n",
       "      <td>0.902146</td>\n",
       "      <td>-5.701401e-08</td>\n",
       "      <td>-2.404125e-07</td>\n",
       "      <td>-6.522497e-08</td>\n",
       "      <td>-2.713978e-07</td>\n",
       "      <td>...</td>\n",
       "      <td>-2.216388e-08</td>\n",
       "      <td>-1.806707e-07</td>\n",
       "      <td>-1.521526e-08</td>\n",
       "      <td>-4.090099e-10</td>\n",
       "      <td>-7.171477e-09</td>\n",
       "      <td>-2.686608e-10</td>\n",
       "      <td>0.000000e+00</td>\n",
       "      <td>1.708065e-08</td>\n",
       "      <td>1.531688e+09</td>\n",
       "      <td>29.0</td>\n",
       "    </tr>\n",
       "    <tr>\n",
       "      <th>3707</th>\n",
       "      <td>1757622</td>\n",
       "      <td>2</td>\n",
       "      <td>1531083600</td>\n",
       "      <td>28</td>\n",
       "      <td>0.001325</td>\n",
       "      <td>0.730188</td>\n",
       "      <td>-8.962217e-10</td>\n",
       "      <td>1.630428e-08</td>\n",
       "      <td>-7.542102e-09</td>\n",
       "      <td>-6.353166e-09</td>\n",
       "      <td>...</td>\n",
       "      <td>8.932302e-08</td>\n",
       "      <td>-4.659840e-08</td>\n",
       "      <td>-2.780661e-09</td>\n",
       "      <td>-3.310487e-10</td>\n",
       "      <td>3.729898e-09</td>\n",
       "      <td>-2.174515e-10</td>\n",
       "      <td>4.767211e-10</td>\n",
       "      <td>1.382491e-08</td>\n",
       "      <td>1.531688e+09</td>\n",
       "      <td>29.0</td>\n",
       "    </tr>\n",
       "  </tbody>\n",
       "</table>\n",
       "<p>3 rows × 262 columns</p>\n",
       "</div>"
      ],
      "text/plain": [
       "           id  vas_id  buy_time_x  week_x         0         1             2  \\\n",
       "3705  1779513       1  1531083600      28  0.001370  0.715911 -4.098375e-08   \n",
       "3706  3020876       1  1531688400      29  0.000202  0.902146 -5.701401e-08   \n",
       "3707  1757622       2  1531083600      28  0.001325  0.730188 -8.962217e-10   \n",
       "\n",
       "                 3             4             5  ...           248  \\\n",
       "3705 -3.710708e-08 -4.750226e-08  1.221532e-07  ... -1.759541e-08   \n",
       "3706 -2.404125e-07 -6.522497e-08 -2.713978e-07  ... -2.216388e-08   \n",
       "3707  1.630428e-08 -7.542102e-09 -6.353166e-09  ...  8.932302e-08   \n",
       "\n",
       "               249           250           251           252           253  \\\n",
       "3705 -1.434304e-07 -1.207905e-08 -3.247039e-10 -5.693276e-09 -2.132839e-10   \n",
       "3706 -1.806707e-07 -1.521526e-08 -4.090099e-10 -7.171477e-09 -2.686608e-10   \n",
       "3707 -4.659840e-08 -2.780661e-09 -3.310487e-10  3.729898e-09 -2.174515e-10   \n",
       "\n",
       "               254           255    buy_time_y  week_y  \n",
       "3705  4.675843e-10  1.309236e-08  1.531084e+09    28.0  \n",
       "3706  0.000000e+00  1.708065e-08  1.531688e+09    29.0  \n",
       "3707  4.767211e-10  1.382491e-08  1.531688e+09    29.0  \n",
       "\n",
       "[3 rows x 262 columns]"
      ]
     },
     "execution_count": 224,
     "metadata": {},
     "output_type": "execute_result"
    }
   ],
   "source": [
    "dt_train_mrg.tail(3)"
   ]
  },
  {
   "cell_type": "code",
   "execution_count": 225,
   "id": "ae3509a8",
   "metadata": {},
   "outputs": [],
   "source": [
    "dt_test_mrg = pd.merge( dt_test, feat_norm, on=\"id\" )"
   ]
  },
  {
   "cell_type": "code",
   "execution_count": 226,
   "id": "2f73935b",
   "metadata": {},
   "outputs": [
    {
     "data": {
      "text/html": [
       "<div>\n",
       "<style scoped>\n",
       "    .dataframe tbody tr th:only-of-type {\n",
       "        vertical-align: middle;\n",
       "    }\n",
       "\n",
       "    .dataframe tbody tr th {\n",
       "        vertical-align: top;\n",
       "    }\n",
       "\n",
       "    .dataframe thead th {\n",
       "        text-align: right;\n",
       "    }\n",
       "</style>\n",
       "<table border=\"1\" class=\"dataframe\">\n",
       "  <thead>\n",
       "    <tr style=\"text-align: right;\">\n",
       "      <th></th>\n",
       "      <th>id</th>\n",
       "      <th>vas_id</th>\n",
       "      <th>buy_time_x</th>\n",
       "      <th>week_x</th>\n",
       "      <th>0</th>\n",
       "      <th>1</th>\n",
       "      <th>2</th>\n",
       "      <th>3</th>\n",
       "      <th>4</th>\n",
       "      <th>5</th>\n",
       "      <th>...</th>\n",
       "      <th>248</th>\n",
       "      <th>249</th>\n",
       "      <th>250</th>\n",
       "      <th>251</th>\n",
       "      <th>252</th>\n",
       "      <th>253</th>\n",
       "      <th>254</th>\n",
       "      <th>255</th>\n",
       "      <th>buy_time_y</th>\n",
       "      <th>week_y</th>\n",
       "    </tr>\n",
       "  </thead>\n",
       "  <tbody>\n",
       "    <tr>\n",
       "      <th>4640</th>\n",
       "      <td>4088260</td>\n",
       "      <td>2</td>\n",
       "      <td>1548018000</td>\n",
       "      <td>4</td>\n",
       "      <td>0.002479</td>\n",
       "      <td>0.902077</td>\n",
       "      <td>-3.715338e-08</td>\n",
       "      <td>-1.562488e-07</td>\n",
       "      <td>-4.536697e-08</td>\n",
       "      <td>-1.872439e-07</td>\n",
       "      <td>...</td>\n",
       "      <td>-2.217093e-08</td>\n",
       "      <td>-1.807282e-07</td>\n",
       "      <td>-1.522010e-08</td>\n",
       "      <td>-4.091402e-10</td>\n",
       "      <td>-7.173760e-09</td>\n",
       "      <td>-2.687464e-10</td>\n",
       "      <td>0.0</td>\n",
       "      <td>1.649691e-08</td>\n",
       "      <td>1.531688e+09</td>\n",
       "      <td>29.0</td>\n",
       "    </tr>\n",
       "    <tr>\n",
       "      <th>4641</th>\n",
       "      <td>271054</td>\n",
       "      <td>5</td>\n",
       "      <td>1548018000</td>\n",
       "      <td>4</td>\n",
       "      <td>0.001681</td>\n",
       "      <td>0.732755</td>\n",
       "      <td>4.671010e-09</td>\n",
       "      <td>4.085250e-08</td>\n",
       "      <td>1.422319e-08</td>\n",
       "      <td>8.219384e-08</td>\n",
       "      <td>...</td>\n",
       "      <td>-1.753081e-08</td>\n",
       "      <td>-1.300546e-07</td>\n",
       "      <td>-1.188466e-08</td>\n",
       "      <td>-3.323435e-10</td>\n",
       "      <td>-5.348642e-09</td>\n",
       "      <td>-2.183020e-10</td>\n",
       "      <td>0.0</td>\n",
       "      <td>1.340040e-08</td>\n",
       "      <td>1.531688e+09</td>\n",
       "      <td>29.0</td>\n",
       "    </tr>\n",
       "    <tr>\n",
       "      <th>4642</th>\n",
       "      <td>2437169</td>\n",
       "      <td>2</td>\n",
       "      <td>1547413200</td>\n",
       "      <td>3</td>\n",
       "      <td>0.001637</td>\n",
       "      <td>0.902145</td>\n",
       "      <td>-5.431048e-08</td>\n",
       "      <td>-8.598688e-09</td>\n",
       "      <td>-6.252144e-08</td>\n",
       "      <td>-3.958393e-08</td>\n",
       "      <td>...</td>\n",
       "      <td>-2.216385e-08</td>\n",
       "      <td>-1.806704e-07</td>\n",
       "      <td>-1.521524e-08</td>\n",
       "      <td>-4.090094e-10</td>\n",
       "      <td>-7.171467e-09</td>\n",
       "      <td>-2.686605e-10</td>\n",
       "      <td>0.0</td>\n",
       "      <td>1.708062e-08</td>\n",
       "      <td>1.531084e+09</td>\n",
       "      <td>28.0</td>\n",
       "    </tr>\n",
       "  </tbody>\n",
       "</table>\n",
       "<p>3 rows × 262 columns</p>\n",
       "</div>"
      ],
      "text/plain": [
       "           id  vas_id  buy_time_x  week_x         0         1             2  \\\n",
       "4640  4088260       2  1548018000       4  0.002479  0.902077 -3.715338e-08   \n",
       "4641   271054       5  1548018000       4  0.001681  0.732755  4.671010e-09   \n",
       "4642  2437169       2  1547413200       3  0.001637  0.902145 -5.431048e-08   \n",
       "\n",
       "                 3             4             5  ...           248  \\\n",
       "4640 -1.562488e-07 -4.536697e-08 -1.872439e-07  ... -2.217093e-08   \n",
       "4641  4.085250e-08  1.422319e-08  8.219384e-08  ... -1.753081e-08   \n",
       "4642 -8.598688e-09 -6.252144e-08 -3.958393e-08  ... -2.216385e-08   \n",
       "\n",
       "               249           250           251           252           253  \\\n",
       "4640 -1.807282e-07 -1.522010e-08 -4.091402e-10 -7.173760e-09 -2.687464e-10   \n",
       "4641 -1.300546e-07 -1.188466e-08 -3.323435e-10 -5.348642e-09 -2.183020e-10   \n",
       "4642 -1.806704e-07 -1.521524e-08 -4.090094e-10 -7.171467e-09 -2.686605e-10   \n",
       "\n",
       "      254           255    buy_time_y  week_y  \n",
       "4640  0.0  1.649691e-08  1.531688e+09    29.0  \n",
       "4641  0.0  1.340040e-08  1.531688e+09    29.0  \n",
       "4642  0.0  1.708062e-08  1.531084e+09    28.0  \n",
       "\n",
       "[3 rows x 262 columns]"
      ]
     },
     "execution_count": 226,
     "metadata": {},
     "output_type": "execute_result"
    }
   ],
   "source": [
    "dt_test_mrg.tail(3)"
   ]
  },
  {
   "cell_type": "code",
   "execution_count": 227,
   "id": "a0f2f9f7",
   "metadata": {},
   "outputs": [
    {
     "name": "stdout",
     "output_type": "stream",
     "text": [
      "ID уникален?  True\n"
     ]
    }
   ],
   "source": [
    "#dt_train, dt_target - for learn, dt_test - for validation , \n",
    "\n",
    "print(\"ID уникален? \", dt_train.index.is_unique)\n"
   ]
  },
  {
   "cell_type": "code",
   "execution_count": 228,
   "id": "1643f2f1",
   "metadata": {},
   "outputs": [
    {
     "data": {
      "text/plain": [
       "False    54895\n",
       "True      2110\n",
       "Name: target, dtype: int64"
      ]
     },
     "execution_count": 228,
     "metadata": {},
     "output_type": "execute_result"
    }
   ],
   "source": [
    "dt_target.value_counts()"
   ]
  },
  {
   "cell_type": "code",
   "execution_count": 229,
   "id": "8b1c87ca",
   "metadata": {},
   "outputs": [
    {
     "data": {
      "text/plain": [
       "(57005,)"
      ]
     },
     "execution_count": 229,
     "metadata": {},
     "output_type": "execute_result"
    }
   ],
   "source": [
    "dt_target.shape"
   ]
  },
  {
   "cell_type": "code",
   "execution_count": 230,
   "id": "d71fb257",
   "metadata": {},
   "outputs": [
    {
     "data": {
      "text/plain": [
       "False    0.962986\n",
       "True     0.037014\n",
       "Name: target, dtype: float64"
      ]
     },
     "execution_count": 230,
     "metadata": {},
     "output_type": "execute_result"
    },
    {
     "data": {
      "image/png": "[encoded data removed]",
      "text/plain": [
       "<Figure size 432x288 with 1 Axes>"
      ]
     },
     "metadata": {
      "needs_background": "light"
     },
     "output_type": "display_data"
    }
   ],
   "source": [
    "(dt_target.value_counts()/dt_target.shape[0]).plot(kind='bar', title='Распределение целевой переменной');\n",
    "dt_target.value_counts()/dt_target.shape"
   ]
  },
  {
   "cell_type": "code",
   "execution_count": 232,
   "id": "90538d17",
   "metadata": {},
   "outputs": [
    {
     "ename": "KeyError",
     "evalue": "'[1685, 1579, 798, 1996, 2565, 3492, 539, 1024, 309, 638, 2445, 1253, 1288, 2131, 3256, 1108, 2128, 3272, 1554, 1898, 52, 135, 1179, 513, 1548, 2790, 829, 724, 1045, 2498, 856, 310, 272, 181, 1216, 2305, 436, 753, 1080, 551, 2280, 1717, 1232, 837, 849, 741, 1083, 74, 1425, 3559, 3625, 2638, 1063, 3202, 2346, 2107, 3177, 900, 2429, 3243, 1267, 3025, 16, 3337, 1828, 601, 2089, 123, 1324, 1161, 1950, 2428, 2899, 1858, 1239, 1838, 2040, 852, 1662, 600, 3060, 1502, 1328, 1835, 3237, 572, 918, 449, 1854, 2027, 2849, 1682, 2226, 2285, 3352, 2984, 1102, 1689, 1364, 1147, 1254, 750, 1875, 227, 1032, 1732, 2127, 2896, 2532, 2954, 3105, 2061, 2904, 2683, 1480, 2353, 274, 2169, 2422, 1705, 3179, 2733, 2902, 3078, 2830, 3127, 1196, 2389, 3315, 474, 3610, 3287, 3428, 2860, 1273, 2252, 3069, 901, 2552, 542, 685, 3360, 114, 40, 1552, 2897, 811, 1307, 3634, 3571, 2828, 2103, 3115, 2239, 2657, 2491, 948, 3609, 3185, 3376, 1959, 469, 3469, 2145, 2319, 57, 440, 1655, 1625, 781, 2576, 3135, 684, 168, 1598, 2055, 346, 2264, 3706, 349, 3425, 2536, 1471, 1219, 859, 2506, 3118, 2800, 2725, 695, 2182, 2887, 2112, 717, 878, 2806, 2435, 1316, 1384, 1823, 372, 591, 1408, 2455, 2149, 972, 1152, 1046, 3228, 130, 1953, 1109, 787, 1807, 2056, 1646, 3156, 312, 3146, 3354, 511, 3628, 2228, 2014, 2583, 2002, 2967, 2556, 1053, 281, 3137, 744, 1883, 714, 1070, 129, 2034, 339, 1473, 1958, 1849, 368, 867, 131, 2270, 3553, 2991, 2777, 807, 3259, 2454, 792, 3112, 2813, 1312, 565, 85, 3351, 1651, 3031, 1231, 3362, 2625, 2263, 2793, 2978, 803, 2113, 1181, 2238, 2996, 145, 1760, 1479, 3244, 1641, 1079, 410, 3216, 2718, 1668, 2703, 2094, 819, 2955, 2335, 1904, 278, 2291, 976, 3611, 343, 1014, 1209, 1370, 2512, 3230, 2713, 3653, 3012, 2917, 249, 51, 262, 2388, 2408, 660, 2728, 3451, 445, 3277, 3373, 3377, 1128, 971, 1610, 2460, 2687, 289, 3192, 2020, 355, 426, 2549, 2990, 2041, 2050, 1107, 1954, 3280, 758, 593, 133, 1789, 1606, 1557, 3306, 2343, 773, 2746, 5, 1131, 2380, 3124, 490, 2321, 267, 2604, 3149, 1565, 1186, 988, 2168, 3566, 794, 923, 1581, 2473, 1426, 240, 1829, 375, 1989, 648, 2664, 2381, 1301, 3477, 1509, 253, 3221, 712, 2161, 1882, 3123, 2935, 1469, 2436, 1103, 1499, 1101, 706, 3114, 415, 3085, 2922, 3045, 2690, 898, 3602, 2903, 2162, 1350, 2993, 1753, 93, 3439, 1846, 623, 12, 1291, 200, 1199, 2774, 1447, 3052, 3349, 3294, 2908, 1438, 3437, 2812, 1241, 3594, 1283, 1537, 3021, 105, 2039, 1738, 640, 3702, 3369, 3071, 2068, 2279, 2754, 476, 1264, 2926, 1938, 841, 2874, 3660, 1708, 3584, 2558, 3276, 3329, 32, 3644, 430, 1772, 2835, 1331, 457, 930, 3070, 1448, 3700, 1843, 3265, 3130, 3647, 463, 1558, 3116, 2671, 1357, 737, 2516, 2939, 3095, 103, 2721, 2477, 1680, 500, 3401, 3020, 2287, 1887, 1778, 2151, 183, 237, 895, 916, 1659, 2770, 2857, 3661, 2357, 746, 1221, 328, 296, 1346, 796, 1965, 1171, 713, 3046, 723, 1840, 1808, 206, 1974, 920, 169, 1619, 3548, 1419, 3630, 3282, 471, 2548, 311, 1728, 2467, 2539, 3236, 2420, 2157, 3150, 298, 3583, 2839, 1533, 1498, 2649, 720, 1008, 1249, 3655, 1573, 1631, 1905, 540, 2452, 824, 210, 3650, 2755, 2501, 599, 1375, 2741, 2489, 3580, 2654, 981, 2087, 1027, 2916, 587, 1318, 3200, 3113, 1146, 2480, 1827, 3556, 188, 3476, 1359, 1421, 3303, 2906, 3544, 2093, 167, 2407, 1373, 1586, 1282, 1000, 754, 3332, 2230, 1431, 337, 1638, 108, 2704, 619, 64, 3687, 935, 256, 1635, 757, 559, 2032, 1942, 374, 818, 830, 450, 1303, 1866, 1402, 2832, 28, 1945, 3618, 3062, 3436, 2912, 2393, 940, 2910, 223, 2555, 109, 3007, 1297, 3595, 1238, 1059, 2540, 2125, 3129, 2391, 2212, 132, 2468, 3358, 2086, 2487, 220, 1559, 1117, 2167, 3160, 3275, 834, 3654, 2550, 3198, 965, 1583, 164, 199, 2667, 2787, 547, 3554, 3627, 2610, 3364, 1891, 2678, 1302, 671, 359, 647, 2474, 2674, 3550, 615, 2215, 2588, 2525, 1423, 134, 1929, 2631, 1336, 1845, 2271, 36, 1262, 2258, 366, 1374, 1355, 585, 3262, 1005, 1658, 913, 1687, 3406, 864, 869, 2352, 421, 1814, 330, 2390, 764, 1602, 3446, 1780, 1931, 3173, 2442, 2326, 730, 3649, 1028, 3704, 2006, 1884, 2208, 76, 2615, 1339, 1768, 2080, 2795, 1661, 1535, 909, 2481, 3108, 1112, 1934, 3103, 2130, 3383, 628, 2141, 3633, 2781, 3110, 881, 1230, 1617, 1504, 3338, 9, 831, 2526, 905, 491, 595, 3679, 3658, 3693, 1894, 1466, 2964, 1879, 3456, 1428, 400, 117, 3529, 1949, 612, 816, 808, 1338, 3197, 2, 2822, 1541, 933, 1538, 3523, 2988, 1492, 1690, 2626, 1284, 2198, 962, 38, 642, 3698, 917, 2251, 2266, 790, 1618, 395, 3359, 2250, 1679, 2923, 2398, 1463, 3032, 3558, 182, 3466, 1185, 1452, 260, 3641, 562, 3629, 1311, 1275, 2762, 843, 201, 380, 1871, 3382, 2784, 871, 2225, 682, 2108, 1582, 2607, 3047, 1403, 2114, 3585, 3002, 192, 2175, 88, 2731, 1987, 1334, 2818, 1928, 3589, 2312, 3480, 2347, 352, 1440, 271, 1368, 2281, 844, 2129, 999, 2652, 2324, 2038, 1214, 2865, 2203, 1488, 2522, 1957, 1851, 950, 1206, 957, 1629, 2693, 1198, 420, 673, 1593, 1514, 1649, 3089, 2854, 1295, 3326, 1213, 1839, 2181, 2269, 3562, 1259, 2608, 332, 662, 1327, 1091, 2665, 465, 3328, 2062, 1489, 2025, 1130, 1389, 644, 1576, 1550, 1371, 2972, 1847, 3317, 2431, 2807, 2360, 3342, 606, 60, 2504, 1790, 3365, 3400, 3440, 1296, 1653, 1926, 2768, 479, 2976, 2696, 2375, 2404, 2571, 3547, 2126, 637, 2869, 3665, 2969, 3389, 1205, 3413, 700, 1673, 815, 1015, 1481, 1713, 2931, 652, 2244, 2307, 1741, 2206, 1981, 10, 3180, 1417, 1333, 1255, 1380, 2852, 1002, 3664, 96, 2575, 2303, 3099, 1416, 1940, 3318, 1177, 978, 2803, 954, 3293, 232, 3533, 654, 397, 877, 809, 2544, 3520, 2714, 2054, 3309, 955, 3501, 2449, 1532, 3242, 3371, 2309, 1227, 2889, 193, 3086, 3465, 3097, 3487, 558, 305, 3513, 1157, 3011, 2659, 2946, 1763, 3016, 858, 1712, 1459, 451, 1436, 1654, 665, 3274, 707, 846, 258, 3486, 1294, 1226, 549, 2975, 991, 3172, 2051, 4, 2578, 1771, 890, 2037, 3094, 266, 3157, 1308, 1088, 1018, 1281, 1984, 341, 3640, 2551, 3386, 2121, 1664, 791, 3677, 3534, 3073, 204, 2737, 136, 801, 3321, 1029, 2794, 1490, 3208, 747, 1507, 3387, 1056, 3475, 154, 1826, 974, 7, 427, 1326, 1225, 1796, 1482, 1501, 3549, 1556, 2118, 903, 2582, 1300, 2361, 2224, 2013, 370, 3194, 3453, 2222, 3169, 531, 982, 1520, 1941, 3223, 2995, 2592, 534, 3072, 37, 3080, 506, 726, 2983, 1933, 2001, 3423, 1182, 689, 1783, 3460, 1183, 3684, 2778, 1539, 1939, 1516, 1180, 1963, 2892, 2372, 3027, 2240, 2196, 696, 1126, 1562, 2155, 2283, 561, 3159, 1767, 2560, 952, 1907, 3288, 2022, 2058, 626, 1856, 3183, 1748, 468, 1691, 2893, 499, 2689, 2044, 3366, 498, 2802, 1168, 1234, 3141, 1906, 512, 2219, 3001, 3421, 455, 1588, 2743, 1476, 2495, 1127, 2016, 2508, 1735, 3252, 1200, 2043, 2597, 2334, 3333, 2293, 2791, 3240, 1422, 2919, 358, 2465, 1747, 2879, 1242, 2724, 1269, 1623, 1517, 3551, 1797, 2367, 209, 1616, 1412, 2885, 2587, 444, 1688, 196, 1141, 1633, 697, 2859, 3153, 594, 3320, 528, 896, 2218, 315, 2297, 822, 198, 990, 3493, 3084, 2030, 3350, 661, 656, 1982, 1189, 2197, 1961, 1793, 1257, 1397, 839, 1700, 2180, 2833, 261, 2898, 828, 2927, 2209, 3107, 1575, 825, 3145, 1833, 1192, 3186, 21, 2759, 3148, 979, 3574, 1812, 3552, 2160, 3167, 3015, 244, 1358, 323, 938, 3344, 1703, 3229, 2139, 1094, 2909, 668, 1511, 3404, 842, 3397, 1524, 3596, 195, 2589, 27, 2853, 3049, 3591, 2944, 2668, 2116, 1647, 3433, 529, 3474, 2351, 66, 3573, 2368, 1218, 934, 2095, 3415, 703, 1100, 2862, 574, 882, 3067, 3346, 694, 1468, 510, 2827, 3530, 2726, 1956, 2236, 287, 2413, 1274, 2965, 1266, 1026, 1089, 1111, 100, 3666, 2053, 1733, 2590, 2692, 84, 390, 522, 2432, 1528, 326, 1084, 177, 2028, 1382, 1006, 1013, 2012, 3560, 475, 2134, 140, 2492, 2427, 3341, 1916, 2706, 2761, 721, 3225, 2511, 2546, 2386, 414, 2780, 719, 692, 861, 2981, 1188, 2740, 336, 520, 3683, 2758, 568, 1042, 1915, 1114, 866, 2530, 1745, 228, 207, 1429, 1777, 1722, 2124, 1405, 3615, 907, 2475, 1081, 2637, 3283, 1707, 25, 2010, 65, 1644, 2732, 1951, 2647, 1475, 3343, 1785, 79, 1497, 2042, 1626, 3004, 62, 970, 2840, 3019, 2817, 3509, 518, 3319, 3226, 42, 2959, 347, 104, 2502, 1142, 2684, 2873, 19, 1483, 2963, 2947, 3355, 3029, 1330, 2082, 2632, 1160, 2459, 1706, 2681, 1149, 1716, 517, 2971, 3266, 484, 2629, 711, 385, 3443, 3076, 2186, 404, 805, 3120, 283, 1246, 1935, 3131, 2296, 1909, 3227, 687, 2300, 2930, 2255, 1991, 3586, 1037, 215, 461, 1158, 1457, 749, 3431, 276, 217, 827, 2941, 786, 555, 740, 3411, 13, 2021, 1640, 1913, 1736, 1441, 2376, 2246, 470, 1285, 2979, 1614, 1110, 3106, 351, 1872, 2098, 1456, 3426, 3258, 3607, 589, 608, 2593, 2071, 495, 1746, 1869, 2563, 3134, 774, 1968, 838, 24, 2881, 850, 3345, 664, 3478, 2430, 2165, 3170, 865, 2340, 2284, 1620, 1393, 3096, 2330, 3009, 1937, 1813, 3193, 3182, 2785, 2801, 3140, 1458, 322, 610, 567, 344, 3545, 94, 1710, 2325, 1208, 1723, 3638, 501, 247, 667, 89, 2423, 1817, 2096, 1972, 428, 146, 1352, 3606, 1665, 1341, 389, 2350, 3464, 407, 2015, 3119, 894, 3427, 255, 203, 222, 912, 1523, 50, 155, 964, 1809, 3064, 1546, 2838, 883, 2727, 688, 3241, 399, 3405, 371, 3121, 3246, 1757, 1240, 3260, 657, 3083, 2072, 2470, 2686, 845, 3578, 1044, 2974, 429, 1615, 3643, 1781, 2453, 8, 477, 447, 2171, 1853, 406, 1329, 3422, 709, 2152, 1461, 1381, 1506, 3014, 3003, 876, 3081, 3253, 1704, 17, 3298, 1010, 279, 2485, 2871, 245, 2378, 482, 1325, 779, 3217, 847, 641, 997, 1670, 2630, 3576, 1765, 3512, 1566, 533, 3689, 2004, 1540, 3680, 431, 802, 1724, 2249, 1021, 2202, 1315, 29, 1009, 718, 2100, 3652, 1033, 2231, 3313, 2836, 3517, 1390, 886, 752, 1420, 31, 34, 3063, 173, 205, 408, 282, 3669, 1978, 3152, 2339, 1052, 3, 3036, 418, 152, 731, 3391, 2158, 2542, 3582, 364, 1594, 2595, 2358, 3264, 26, 423, 1888, 1555, 1235, 112, 3403, 1786, 765, 3231, 3675, 3296, 259, 1930, 924, 3577, 1299, 2144, 537, 776, 734, 377, 2998, 2905, 2268, 2184, 2348, 1818, 3546, 2070, 3171, 3528, 3187, 2063, 2765, 1039, 1962, 525, 2531, 3659, 251, 2401, 1290, 655, 158, 1788, 3682, 1159, 800, 3626, 2248, 453, 422, 1057, 2797, 892, 1737, 33, 622, 2328, 1536, 951, 2235, 2938, 2304, 1377, 299, 1794, 2362, 1165, 2503, 1485, 2136, 1462, 1016, 1549, 2745, 945, 157, 2081, 1298, 1138, 1487, 2289, 2519, 3701, 2229, 2751, 1699, 2585, 277, 478, 2719, 212, 170, 1263, 2365, 3590, 624, 3575, 2808, 1584, 75, 686, 3688, 56, 2738, 949, 1078, 2537, 306, 690, 784, 804, 3496, 2241, 1055, 3219, 2888, 2150, 1401, 1890, 2088, 2135, 486, 1870, 2396, 2875, 3068, 2097, 2438, 3316, 2301, 1280, 202, 1997, 3322, 1491, 324, 3101, 578, 502, 681, 2316, 812, 939, 2616, 2440, 516, 1862, 3348, 1388, 678, 2456, 1445, 1995, 3639, 1917, 2344, 67, 348, 586, 3178, 2411, 2444, 1356, 1613, 2275, 301, 2823, 1164, 125, 775, 566, 2943, 3102, 1985, 2223, 1178, 2009, 1069, 1309, 2618, 3432, 1250, 2609, 1863, 14, 666, 2868, 604, 1977, 1271, 350, 2311, 3040, 2201, 2260, 254, 3176, 2031, 2341, 2518, 975, 653, 494, 3090, 1224, 1936, 987, 186, 3268, 2387, 160, 2447, 3452, 2675, 2640, 3441, 3489, 2786, 2911, 2138, 545, 1622, 82, 953, 1734, 1952, 3088, 2601, 1439, 755, 611, 1914, 1621, 381, 2723, 2962, 1667, 2317, 1038, 1486, 3028, 3567, 526, 535, 2520, 3087, 2315, 1435, 3485, 983, 2924, 919, 989, 1561, 2262, 1098, 2771, 1342, 3327, 2288, 3339, 2843, 2073, 211, 3619, 1223, 2691, 1379, 1756, 1051, 1740, 3261, 3579, 1424, 1470, 2688, 3367, 3136, 943, 1256, 3696, 2018, 785, 3447, 2446, 1143, 2298, 579, 1118, 3537, 2418, 3347, 1153, 552, 3249, 3374, 1636, 2627, 1775, 967, 879, 985, 2109, 1414, 3281, 1116, 1834, 1889, 969, 3503, 1800, 172, 365, 3636, 977, 58, 3037, 1395, 1739, 3396, 2078, 2079, 3429, 3292, 2870, 2577, 373, 91, 2524, 1946, 2276, 1119, 353, 2354, 2448, 99, 603, 2757, 3450, 231, 2011, 1611, 3681, 3310, 2710, 1233, 161, 304, 2894, 2214, 466, 1236, 3457, 2409, 1637, 2772, 264, 2645, 1085, 2342, 219, 3593, 2450, 1387, 1878, 2701, 3196, 1656, 1464, 2553, 738, 3599, 2019, 2779, 3668, 1859, 3209, 3245, 473, 1686, 213, 1237, 1353, 2414, 1082, 2486, 3535, 2829, 733, 1677, 1465, 1587, 2092, 1886, 2159, 2484, 369, 2679, 1810, 3117, 2809, 1787, 2000, 2796, 1197, 185, 1446, 2147, 860, 675, 388, 2700, 1666, 932, 3026, 2254, 3058, 2189, 3023, 1123, 1609, 2007, 2472, 821, 2940, 1169, 1660, 3635, 1754, 613, 3472, 128, 3267, 121, 1348, 1526, 2523, 820, 1988, 880, 3061, 1467, 2425, 90, 333, 3361, 2500, 3314, 2123, 3515, 1106, 2059, 3592, 2374, 3248, 519, 1922, 1190, 2385, 1076, 1058, 1495, 2265, 2274, 2999, 2611, 3468, 20, 2848, 3483, 1095, 3234, 3122, 3565, 679, 3257, 1054, 3254, 2046, 3166, 904, 54, 488, 2220, 553, 3335, 1943, 1774, 297, 1449, 742, 1624, 3214, 835, 2091, 3417, 1545, 639, 1932, 2406, 2744, 3691, 221, 3657, 2332, 2705, 772, 766, 2153, 3075, 1844, 769, 2049, 3054, 3540, 3285, 1245, 1460, 2443, 2760, 1478, 342, 456, 425, 45, 1343, 402, 1595, 2090, 1910, 3445, 2177, 806, 396, 2132, 434, 2204, 3331, 3500, 2660, 2858, 1592, 2359, 2564, 1897, 3263, 487, 643, 1201, 1321, 3289, 291, 3363, 853, 631, 3379, 218, 3133, 3055, 3678, 2234, 575, 3163, 412, 1564, 2140, 1400, 3645, 1719, 2951, 2488, 893, 2338, 914, 3402, 0, 1799, 3311, 1279, 1121, 3532, 670, 625, 2164, 2545, 3663, 2257, 1278, 3184, 159, 627, 3074, 3455, 3510, 3006, 2047, 250, 1292, 1407, 1477, 2788, 270, 1678, 609, 1522, 617, 2227, 2850, 2207, 2499, 1360, 705, 2142, 658, 2148, 163, 3291, 2856, 1176, 1759, 2085, 2178, 2749, 393, 2133, 2698, 634, 3462, 2384, 1137, 736, 2397, 3563, 778, 1773, 2035, 2290, 2594, 1628, 459, 3430, 651, 1252, 768, 1567, 1455, 1801, 3616, 2433, 424, 1608, 230, 2624, 1193, 1544, 1418, 891, 2515, 1663, 823, 3378, 3672, 1392, 2509, 1850, 275, 2921, 2543, 2866, 1600, 1442, 361, 2712, 3203, 2811, 2949, 1578, 2507, 284, 197, 2392, 472, 1450, 3220, 321, 1650, 1570, 2697, 1003, 2273, 581, 2617, 3307, 2069, 3109, 2845, 1821, 3111, 1202, 1139, 2036, 3442, 2851, 3098, 178, 3375, 674, 592, 2891, 789, 437, 2559, 3605, 3301, 1805, 2628, 3690, 3368, 1122, 2439, 3269, 2561, 1643, 1634, 854, 722, 3222, 2195, 3312, 3380, 1529, 1244, 621, 1047, 3213, 1877, 6, 2742, 3057, 1061, 3508, 597, 3467, 926, 2567, 452, 286, 2663, 1145, 1896, 569, 2764, 929, 3623, 1547, 2847, 2461, 2605, 2111, 505, 2677, 1276, 1134, 2187, 2934, 2666, 2017, 3631, 229, 1976, 3092, 2747, 2682, 618, 1347, 2527, 635, 1560, 18, 1074, 2122, 1073, 3444, 1071, 363, 1124, 3646, 2655, 1750, 693, 925, 1394, 394, 1994, 2179, 538, 944, 179, 1048, 1676, 1975, 2750, 2356, 1385, 1924, 3394, 122, 2437, 106, 3470, 2855, 1591, 2932, 95, 3299, 115, 1861, 3518, 401, 1553, 462, 119, 53, 2216, 214, 735, 580, 1795, 1758, 3393, 3673, 2952, 78, 2945, 2810, 2471, 2415, 1607, 1731, 922, 1893, 2029, 3174, 2320, 1512, 1525, 3617, 1434, 2863, 1580, 3372, 2948, 2210, 1802, 3388, 2739, 1543, 1899, 2003, 3211, 1133, 956, 1744, 257, 460, 2221, 1841, 2286, 2612, 3126, 1404, 767, 2395, 409, 2644, 980, 1912, 2826, 2172, 1090, 1701, 1920, 59, 3125, 1639, 3695, 797, 3507, 645, 2008, 3168, 1599, 1258, 1695, 269, 1217, 543, 263, 2882, 3624, 1711, 1776, 1361, 2327, 1911, 3035, 2083, 2970, 3707, 435, 441, 669, 2579, 2643, 602, 3143, 3144, 584, 293, 636, 1645, 1151, 151, 2953, 1086, 116, 1306, 2614, 1500, 3479, 2119, 285, 3539, 3516, 46, 1398, 3438, 1971, 1443, 973, 1804] not in index'",
     "output_type": "error",
     "traceback": [
      "\u001b[0;31m---------------------------------------------------------------------------\u001b[0m",
      "\u001b[0;31mKeyError\u001b[0m                                  Traceback (most recent call last)",
      "\u001b[0;32m/tmp/ipykernel_4171/3258098267.py\u001b[0m in \u001b[0;36m<module>\u001b[0;34m\u001b[0m\n\u001b[1;32m      6\u001b[0m \u001b[0mtrain_idx\u001b[0m\u001b[0;34m,\u001b[0m \u001b[0mtest_idx\u001b[0m \u001b[0;34m=\u001b[0m \u001b[0mtrain_test_split\u001b[0m\u001b[0;34m(\u001b[0m\u001b[0mdt_train_mrg\u001b[0m\u001b[0;34m.\u001b[0m\u001b[0mindex\u001b[0m\u001b[0;34m,\u001b[0m \u001b[0mtest_size\u001b[0m\u001b[0;34m=\u001b[0m\u001b[0;36m0.25\u001b[0m\u001b[0;34m,\u001b[0m \u001b[0mrandom_state\u001b[0m\u001b[0;34m=\u001b[0m\u001b[0mRANDOM_STATE\u001b[0m\u001b[0;34m)\u001b[0m\u001b[0;34m\u001b[0m\u001b[0;34m\u001b[0m\u001b[0m\n\u001b[1;32m      7\u001b[0m \u001b[0;34m\u001b[0m\u001b[0m\n\u001b[0;32m----> 8\u001b[0;31m \u001b[0my_train\u001b[0m\u001b[0;34m,\u001b[0m \u001b[0my_test\u001b[0m \u001b[0;34m=\u001b[0m \u001b[0mdt_target\u001b[0m\u001b[0;34m.\u001b[0m\u001b[0mloc\u001b[0m\u001b[0;34m[\u001b[0m\u001b[0mtrain_idx\u001b[0m\u001b[0;34m]\u001b[0m\u001b[0;34m,\u001b[0m \u001b[0mdt_target\u001b[0m\u001b[0;34m.\u001b[0m\u001b[0mloc\u001b[0m\u001b[0;34m[\u001b[0m\u001b[0mtest_idx\u001b[0m\u001b[0;34m]\u001b[0m\u001b[0;34m\u001b[0m\u001b[0;34m\u001b[0m\u001b[0m\n\u001b[0m\u001b[1;32m      9\u001b[0m \u001b[0mX_train\u001b[0m\u001b[0;34m,\u001b[0m \u001b[0mX_test\u001b[0m \u001b[0;34m=\u001b[0m \u001b[0mdt_train_mrg\u001b[0m\u001b[0;34m.\u001b[0m\u001b[0mloc\u001b[0m\u001b[0;34m[\u001b[0m\u001b[0mtrain_idx\u001b[0m\u001b[0;34m]\u001b[0m\u001b[0;34m,\u001b[0m \u001b[0mdt_train_mrg\u001b[0m\u001b[0;34m.\u001b[0m\u001b[0mloc\u001b[0m\u001b[0;34m[\u001b[0m\u001b[0mtest_idx\u001b[0m\u001b[0;34m]\u001b[0m\u001b[0;34m\u001b[0m\u001b[0;34m\u001b[0m\u001b[0m\n\u001b[1;32m     10\u001b[0m \u001b[0;34m\u001b[0m\u001b[0m\n",
      "\u001b[0;32m~/.local/lib/python3.8/site-packages/pandas/core/indexing.py\u001b[0m in \u001b[0;36m__getitem__\u001b[0;34m(self, key)\u001b[0m\n\u001b[1;32m    929\u001b[0m \u001b[0;34m\u001b[0m\u001b[0m\n\u001b[1;32m    930\u001b[0m             \u001b[0mmaybe_callable\u001b[0m \u001b[0;34m=\u001b[0m \u001b[0mcom\u001b[0m\u001b[0;34m.\u001b[0m\u001b[0mapply_if_callable\u001b[0m\u001b[0;34m(\u001b[0m\u001b[0mkey\u001b[0m\u001b[0;34m,\u001b[0m \u001b[0mself\u001b[0m\u001b[0;34m.\u001b[0m\u001b[0mobj\u001b[0m\u001b[0;34m)\u001b[0m\u001b[0;34m\u001b[0m\u001b[0;34m\u001b[0m\u001b[0m\n\u001b[0;32m--> 931\u001b[0;31m             \u001b[0;32mreturn\u001b[0m \u001b[0mself\u001b[0m\u001b[0;34m.\u001b[0m\u001b[0m_getitem_axis\u001b[0m\u001b[0;34m(\u001b[0m\u001b[0mmaybe_callable\u001b[0m\u001b[0;34m,\u001b[0m \u001b[0maxis\u001b[0m\u001b[0;34m=\u001b[0m\u001b[0maxis\u001b[0m\u001b[0;34m)\u001b[0m\u001b[0;34m\u001b[0m\u001b[0;34m\u001b[0m\u001b[0m\n\u001b[0m\u001b[1;32m    932\u001b[0m \u001b[0;34m\u001b[0m\u001b[0m\n\u001b[1;32m    933\u001b[0m     \u001b[0;32mdef\u001b[0m \u001b[0m_is_scalar_access\u001b[0m\u001b[0;34m(\u001b[0m\u001b[0mself\u001b[0m\u001b[0;34m,\u001b[0m \u001b[0mkey\u001b[0m\u001b[0;34m:\u001b[0m \u001b[0mtuple\u001b[0m\u001b[0;34m)\u001b[0m\u001b[0;34m:\u001b[0m\u001b[0;34m\u001b[0m\u001b[0;34m\u001b[0m\u001b[0m\n",
      "\u001b[0;32m~/.local/lib/python3.8/site-packages/pandas/core/indexing.py\u001b[0m in \u001b[0;36m_getitem_axis\u001b[0;34m(self, key, axis)\u001b[0m\n\u001b[1;32m   1151\u001b[0m                     \u001b[0;32mraise\u001b[0m \u001b[0mValueError\u001b[0m\u001b[0;34m(\u001b[0m\u001b[0;34m\"Cannot index with multidimensional key\"\u001b[0m\u001b[0;34m)\u001b[0m\u001b[0;34m\u001b[0m\u001b[0;34m\u001b[0m\u001b[0m\n\u001b[1;32m   1152\u001b[0m \u001b[0;34m\u001b[0m\u001b[0m\n\u001b[0;32m-> 1153\u001b[0;31m                 \u001b[0;32mreturn\u001b[0m \u001b[0mself\u001b[0m\u001b[0;34m.\u001b[0m\u001b[0m_getitem_iterable\u001b[0m\u001b[0;34m(\u001b[0m\u001b[0mkey\u001b[0m\u001b[0;34m,\u001b[0m \u001b[0maxis\u001b[0m\u001b[0;34m=\u001b[0m\u001b[0maxis\u001b[0m\u001b[0;34m)\u001b[0m\u001b[0;34m\u001b[0m\u001b[0;34m\u001b[0m\u001b[0m\n\u001b[0m\u001b[1;32m   1154\u001b[0m \u001b[0;34m\u001b[0m\u001b[0m\n\u001b[1;32m   1155\u001b[0m             \u001b[0;31m# nested tuple slicing\u001b[0m\u001b[0;34m\u001b[0m\u001b[0;34m\u001b[0m\u001b[0;34m\u001b[0m\u001b[0m\n",
      "\u001b[0;32m~/.local/lib/python3.8/site-packages/pandas/core/indexing.py\u001b[0m in \u001b[0;36m_getitem_iterable\u001b[0;34m(self, key, axis)\u001b[0m\n\u001b[1;32m   1091\u001b[0m \u001b[0;34m\u001b[0m\u001b[0m\n\u001b[1;32m   1092\u001b[0m         \u001b[0;31m# A collection of keys\u001b[0m\u001b[0;34m\u001b[0m\u001b[0;34m\u001b[0m\u001b[0;34m\u001b[0m\u001b[0m\n\u001b[0;32m-> 1093\u001b[0;31m         \u001b[0mkeyarr\u001b[0m\u001b[0;34m,\u001b[0m \u001b[0mindexer\u001b[0m \u001b[0;34m=\u001b[0m \u001b[0mself\u001b[0m\u001b[0;34m.\u001b[0m\u001b[0m_get_listlike_indexer\u001b[0m\u001b[0;34m(\u001b[0m\u001b[0mkey\u001b[0m\u001b[0;34m,\u001b[0m \u001b[0maxis\u001b[0m\u001b[0;34m)\u001b[0m\u001b[0;34m\u001b[0m\u001b[0;34m\u001b[0m\u001b[0m\n\u001b[0m\u001b[1;32m   1094\u001b[0m         return self.obj._reindex_with_indexers(\n\u001b[1;32m   1095\u001b[0m             \u001b[0;34m{\u001b[0m\u001b[0maxis\u001b[0m\u001b[0;34m:\u001b[0m \u001b[0;34m[\u001b[0m\u001b[0mkeyarr\u001b[0m\u001b[0;34m,\u001b[0m \u001b[0mindexer\u001b[0m\u001b[0;34m]\u001b[0m\u001b[0;34m}\u001b[0m\u001b[0;34m,\u001b[0m \u001b[0mcopy\u001b[0m\u001b[0;34m=\u001b[0m\u001b[0;32mTrue\u001b[0m\u001b[0;34m,\u001b[0m \u001b[0mallow_dups\u001b[0m\u001b[0;34m=\u001b[0m\u001b[0;32mTrue\u001b[0m\u001b[0;34m\u001b[0m\u001b[0;34m\u001b[0m\u001b[0m\n",
      "\u001b[0;32m~/.local/lib/python3.8/site-packages/pandas/core/indexing.py\u001b[0m in \u001b[0;36m_get_listlike_indexer\u001b[0;34m(self, key, axis)\u001b[0m\n\u001b[1;32m   1312\u001b[0m             \u001b[0mkeyarr\u001b[0m\u001b[0;34m,\u001b[0m \u001b[0mindexer\u001b[0m\u001b[0;34m,\u001b[0m \u001b[0mnew_indexer\u001b[0m \u001b[0;34m=\u001b[0m \u001b[0max\u001b[0m\u001b[0;34m.\u001b[0m\u001b[0m_reindex_non_unique\u001b[0m\u001b[0;34m(\u001b[0m\u001b[0mkeyarr\u001b[0m\u001b[0;34m)\u001b[0m\u001b[0;34m\u001b[0m\u001b[0;34m\u001b[0m\u001b[0m\n\u001b[1;32m   1313\u001b[0m \u001b[0;34m\u001b[0m\u001b[0m\n\u001b[0;32m-> 1314\u001b[0;31m         \u001b[0mself\u001b[0m\u001b[0;34m.\u001b[0m\u001b[0m_validate_read_indexer\u001b[0m\u001b[0;34m(\u001b[0m\u001b[0mkeyarr\u001b[0m\u001b[0;34m,\u001b[0m \u001b[0mindexer\u001b[0m\u001b[0;34m,\u001b[0m \u001b[0maxis\u001b[0m\u001b[0;34m)\u001b[0m\u001b[0;34m\u001b[0m\u001b[0;34m\u001b[0m\u001b[0m\n\u001b[0m\u001b[1;32m   1315\u001b[0m \u001b[0;34m\u001b[0m\u001b[0m\n\u001b[1;32m   1316\u001b[0m         if needs_i8_conversion(ax.dtype) or isinstance(\n",
      "\u001b[0;32m~/.local/lib/python3.8/site-packages/pandas/core/indexing.py\u001b[0m in \u001b[0;36m_validate_read_indexer\u001b[0;34m(self, key, indexer, axis)\u001b[0m\n\u001b[1;32m   1375\u001b[0m \u001b[0;34m\u001b[0m\u001b[0m\n\u001b[1;32m   1376\u001b[0m             \u001b[0mnot_found\u001b[0m \u001b[0;34m=\u001b[0m \u001b[0mlist\u001b[0m\u001b[0;34m(\u001b[0m\u001b[0mensure_index\u001b[0m\u001b[0;34m(\u001b[0m\u001b[0mkey\u001b[0m\u001b[0;34m)\u001b[0m\u001b[0;34m[\u001b[0m\u001b[0mmissing_mask\u001b[0m\u001b[0;34m.\u001b[0m\u001b[0mnonzero\u001b[0m\u001b[0;34m(\u001b[0m\u001b[0;34m)\u001b[0m\u001b[0;34m[\u001b[0m\u001b[0;36m0\u001b[0m\u001b[0;34m]\u001b[0m\u001b[0;34m]\u001b[0m\u001b[0;34m.\u001b[0m\u001b[0munique\u001b[0m\u001b[0;34m(\u001b[0m\u001b[0;34m)\u001b[0m\u001b[0;34m)\u001b[0m\u001b[0;34m\u001b[0m\u001b[0;34m\u001b[0m\u001b[0m\n\u001b[0;32m-> 1377\u001b[0;31m             \u001b[0;32mraise\u001b[0m \u001b[0mKeyError\u001b[0m\u001b[0;34m(\u001b[0m\u001b[0;34mf\"{not_found} not in index\"\u001b[0m\u001b[0;34m)\u001b[0m\u001b[0;34m\u001b[0m\u001b[0;34m\u001b[0m\u001b[0m\n\u001b[0m\u001b[1;32m   1378\u001b[0m \u001b[0;34m\u001b[0m\u001b[0m\n\u001b[1;32m   1379\u001b[0m \u001b[0;34m\u001b[0m\u001b[0m\n",
      "\u001b[0;31mKeyError\u001b[0m: '[1685, 1579, 798, 1996, 2565, 3492, 539, 1024, 309, 638, 2445, 1253, 1288, 2131, 3256, 1108, 2128, 3272, 1554, 1898, 52, 135, 1179, 513, 1548, 2790, 829, 724, 1045, 2498, 856, 310, 272, 181, 1216, 2305, 436, 753, 1080, 551, 2280, 1717, 1232, 837, 849, 741, 1083, 74, 1425, 3559, 3625, 2638, 1063, 3202, 2346, 2107, 3177, 900, 2429, 3243, 1267, 3025, 16, 3337, 1828, 601, 2089, 123, 1324, 1161, 1950, 2428, 2899, 1858, 1239, 1838, 2040, 852, 1662, 600, 3060, 1502, 1328, 1835, 3237, 572, 918, 449, 1854, 2027, 2849, 1682, 2226, 2285, 3352, 2984, 1102, 1689, 1364, 1147, 1254, 750, 1875, 227, 1032, 1732, 2127, 2896, 2532, 2954, 3105, 2061, 2904, 2683, 1480, 2353, 274, 2169, 2422, 1705, 3179, 2733, 2902, 3078, 2830, 3127, 1196, 2389, 3315, 474, 3610, 3287, 3428, 2860, 1273, 2252, 3069, 901, 2552, 542, 685, 3360, 114, 40, 1552, 2897, 811, 1307, 3634, 3571, 2828, 2103, 3115, 2239, 2657, 2491, 948, 3609, 3185, 3376, 1959, 469, 3469, 2145, 2319, 57, 440, 1655, 1625, 781, 2576, 3135, 684, 168, 1598, 2055, 346, 2264, 3706, 349, 3425, 2536, 1471, 1219, 859, 2506, 3118, 2800, 2725, 695, 2182, 2887, 2112, 717, 878, 2806, 2435, 1316, 1384, 1823, 372, 591, 1408, 2455, 2149, 972, 1152, 1046, 3228, 130, 1953, 1109, 787, 1807, 2056, 1646, 3156, 312, 3146, 3354, 511, 3628, 2228, 2014, 2583, 2002, 2967, 2556, 1053, 281, 3137, 744, 1883, 714, 1070, 129, 2034, 339, 1473, 1958, 1849, 368, 867, 131, 2270, 3553, 2991, 2777, 807, 3259, 2454, 792, 3112, 2813, 1312, 565, 85, 3351, 1651, 3031, 1231, 3362, 2625, 2263, 2793, 2978, 803, 2113, 1181, 2238, 2996, 145, 1760, 1479, 3244, 1641, 1079, 410, 3216, 2718, 1668, 2703, 2094, 819, 2955, 2335, 1904, 278, 2291, 976, 3611, 343, 1014, 1209, 1370, 2512, 3230, 2713, 3653, 3012, 2917, 249, 51, 262, 2388, 2408, 660, 2728, 3451, 445, 3277, 3373, 3377, 1128, 971, 1610, 2460, 2687, 289, 3192, 2020, 355, 426, 2549, 2990, 2041, 2050, 1107, 1954, 3280, 758, 593, 133, 1789, 1606, 1557, 3306, 2343, 773, 2746, 5, 1131, 2380, 3124, 490, 2321, 267, 2604, 3149, 1565, 1186, 988, 2168, 3566, 794, 923, 1581, 2473, 1426, 240, 1829, 375, 1989, 648, 2664, 2381, 1301, 3477, 1509, 253, 3221, 712, 2161, 1882, 3123, 2935, 1469, 2436, 1103, 1499, 1101, 706, 3114, 415, 3085, 2922, 3045, 2690, 898, 3602, 2903, 2162, 1350, 2993, 1753, 93, 3439, 1846, 623, 12, 1291, 200, 1199, 2774, 1447, 3052, 3349, 3294, 2908, 1438, 3437, 2812, 1241, 3594, 1283, 1537, 3021, 105, 2039, 1738, 640, 3702, 3369, 3071, 2068, 2279, 2754, 476, 1264, 2926, 1938, 841, 2874, 3660, 1708, 3584, 2558, 3276, 3329, 32, 3644, 430, 1772, 2835, 1331, 457, 930, 3070, 1448, 3700, 1843, 3265, 3130, 3647, 463, 1558, 3116, 2671, 1357, 737, 2516, 2939, 3095, 103, 2721, 2477, 1680, 500, 3401, 3020, 2287, 1887, 1778, 2151, 183, 237, 895, 916, 1659, 2770, 2857, 3661, 2357, 746, 1221, 328, 296, 1346, 796, 1965, 1171, 713, 3046, 723, 1840, 1808, 206, 1974, 920, 169, 1619, 3548, 1419, 3630, 3282, 471, 2548, 311, 1728, 2467, 2539, 3236, 2420, 2157, 3150, 298, 3583, 2839, 1533, 1498, 2649, 720, 1008, 1249, 3655, 1573, 1631, 1905, 540, 2452, 824, 210, 3650, 2755, 2501, 599, 1375, 2741, 2489, 3580, 2654, 981, 2087, 1027, 2916, 587, 1318, 3200, 3113, 1146, 2480, 1827, 3556, 188, 3476, 1359, 1421, 3303, 2906, 3544, 2093, 167, 2407, 1373, 1586, 1282, 1000, 754, 3332, 2230, 1431, 337, 1638, 108, 2704, 619, 64, 3687, 935, 256, 1635, 757, 559, 2032, 1942, 374, 818, 830, 450, 1303, 1866, 1402, 2832, 28, 1945, 3618, 3062, 3436, 2912, 2393, 940, 2910, 223, 2555, 109, 3007, 1297, 3595, 1238, 1059, 2540, 2125, 3129, 2391, 2212, 132, 2468, 3358, 2086, 2487, 220, 1559, 1117, 2167, 3160, 3275, 834, 3654, 2550, 3198, 965, 1583, 164, 199, 2667, 2787, 547, 3554, 3627, 2610, 3364, 1891, 2678, 1302, 671, 359, 647, 2474, 2674, 3550, 615, 2215, 2588, 2525, 1423, 134, 1929, 2631, 1336, 1845, 2271, 36, 1262, 2258, 366, 1374, 1355, 585, 3262, 1005, 1658, 913, 1687, 3406, 864, 869, 2352, 421, 1814, 330, 2390, 764, 1602, 3446, 1780, 1931, 3173, 2442, 2326, 730, 3649, 1028, 3704, 2006, 1884, 2208, 76, 2615, 1339, 1768, 2080, 2795, 1661, 1535, 909, 2481, 3108, 1112, 1934, 3103, 2130, 3383, 628, 2141, 3633, 2781, 3110, 881, 1230, 1617, 1504, 3338, 9, 831, 2526, 905, 491, 595, 3679, 3658, 3693, 1894, 1466, 2964, 1879, 3456, 1428, 400, 117, 3529, 1949, 612, 816, 808, 1338, 3197, 2, 2822, 1541, 933, 1538, 3523, 2988, 1492, 1690, 2626, 1284, 2198, 962, 38, 642, 3698, 917, 2251, 2266, 790, 1618, 395, 3359, 2250, 1679, 2923, 2398, 1463, 3032, 3558, 182, 3466, 1185, 1452, 260, 3641, 562, 3629, 1311, 1275, 2762, 843, 201, 380, 1871, 3382, 2784, 871, 2225, 682, 2108, 1582, 2607, 3047, 1403, 2114, 3585, 3002, 192, 2175, 88, 2731, 1987, 1334, 2818, 1928, 3589, 2312, 3480, 2347, 352, 1440, 271, 1368, 2281, 844, 2129, 999, 2652, 2324, 2038, 1214, 2865, 2203, 1488, 2522, 1957, 1851, 950, 1206, 957, 1629, 2693, 1198, 420, 673, 1593, 1514, 1649, 3089, 2854, 1295, 3326, 1213, 1839, 2181, 2269, 3562, 1259, 2608, 332, 662, 1327, 1091, 2665, 465, 3328, 2062, 1489, 2025, 1130, 1389, 644, 1576, 1550, 1371, 2972, 1847, 3317, 2431, 2807, 2360, 3342, 606, 60, 2504, 1790, 3365, 3400, 3440, 1296, 1653, 1926, 2768, 479, 2976, 2696, 2375, 2404, 2571, 3547, 2126, 637, 2869, 3665, 2969, 3389, 1205, 3413, 700, 1673, 815, 1015, 1481, 1713, 2931, 652, 2244, 2307, 1741, 2206, 1981, 10, 3180, 1417, 1333, 1255, 1380, 2852, 1002, 3664, 96, 2575, 2303, 3099, 1416, 1940, 3318, 1177, 978, 2803, 954, 3293, 232, 3533, 654, 397, 877, 809, 2544, 3520, 2714, 2054, 3309, 955, 3501, 2449, 1532, 3242, 3371, 2309, 1227, 2889, 193, 3086, 3465, 3097, 3487, 558, 305, 3513, 1157, 3011, 2659, 2946, 1763, 3016, 858, 1712, 1459, 451, 1436, 1654, 665, 3274, 707, 846, 258, 3486, 1294, 1226, 549, 2975, 991, 3172, 2051, 4, 2578, 1771, 890, 2037, 3094, 266, 3157, 1308, 1088, 1018, 1281, 1984, 341, 3640, 2551, 3386, 2121, 1664, 791, 3677, 3534, 3073, 204, 2737, 136, 801, 3321, 1029, 2794, 1490, 3208, 747, 1507, 3387, 1056, 3475, 154, 1826, 974, 7, 427, 1326, 1225, 1796, 1482, 1501, 3549, 1556, 2118, 903, 2582, 1300, 2361, 2224, 2013, 370, 3194, 3453, 2222, 3169, 531, 982, 1520, 1941, 3223, 2995, 2592, 534, 3072, 37, 3080, 506, 726, 2983, 1933, 2001, 3423, 1182, 689, 1783, 3460, 1183, 3684, 2778, 1539, 1939, 1516, 1180, 1963, 2892, 2372, 3027, 2240, 2196, 696, 1126, 1562, 2155, 2283, 561, 3159, 1767, 2560, 952, 1907, 3288, 2022, 2058, 626, 1856, 3183, 1748, 468, 1691, 2893, 499, 2689, 2044, 3366, 498, 2802, 1168, 1234, 3141, 1906, 512, 2219, 3001, 3421, 455, 1588, 2743, 1476, 2495, 1127, 2016, 2508, 1735, 3252, 1200, 2043, 2597, 2334, 3333, 2293, 2791, 3240, 1422, 2919, 358, 2465, 1747, 2879, 1242, 2724, 1269, 1623, 1517, 3551, 1797, 2367, 209, 1616, 1412, 2885, 2587, 444, 1688, 196, 1141, 1633, 697, 2859, 3153, 594, 3320, 528, 896, 2218, 315, 2297, 822, 198, 990, 3493, 3084, 2030, 3350, 661, 656, 1982, 1189, 2197, 1961, 1793, 1257, 1397, 839, 1700, 2180, 2833, 261, 2898, 828, 2927, 2209, 3107, 1575, 825, 3145, 1833, 1192, 3186, 21, 2759, 3148, 979, 3574, 1812, 3552, 2160, 3167, 3015, 244, 1358, 323, 938, 3344, 1703, 3229, 2139, 1094, 2909, 668, 1511, 3404, 842, 3397, 1524, 3596, 195, 2589, 27, 2853, 3049, 3591, 2944, 2668, 2116, 1647, 3433, 529, 3474, 2351, 66, 3573, 2368, 1218, 934, 2095, 3415, 703, 1100, 2862, 574, 882, 3067, 3346, 694, 1468, 510, 2827, 3530, 2726, 1956, 2236, 287, 2413, 1274, 2965, 1266, 1026, 1089, 1111, 100, 3666, 2053, 1733, 2590, 2692, 84, 390, 522, 2432, 1528, 326, 1084, 177, 2028, 1382, 1006, 1013, 2012, 3560, 475, 2134, 140, 2492, 2427, 3341, 1916, 2706, 2761, 721, 3225, 2511, 2546, 2386, 414, 2780, 719, 692, 861, 2981, 1188, 2740, 336, 520, 3683, 2758, 568, 1042, 1915, 1114, 866, 2530, 1745, 228, 207, 1429, 1777, 1722, 2124, 1405, 3615, 907, 2475, 1081, 2637, 3283, 1707, 25, 2010, 65, 1644, 2732, 1951, 2647, 1475, 3343, 1785, 79, 1497, 2042, 1626, 3004, 62, 970, 2840, 3019, 2817, 3509, 518, 3319, 3226, 42, 2959, 347, 104, 2502, 1142, 2684, 2873, 19, 1483, 2963, 2947, 3355, 3029, 1330, 2082, 2632, 1160, 2459, 1706, 2681, 1149, 1716, 517, 2971, 3266, 484, 2629, 711, 385, 3443, 3076, 2186, 404, 805, 3120, 283, 1246, 1935, 3131, 2296, 1909, 3227, 687, 2300, 2930, 2255, 1991, 3586, 1037, 215, 461, 1158, 1457, 749, 3431, 276, 217, 827, 2941, 786, 555, 740, 3411, 13, 2021, 1640, 1913, 1736, 1441, 2376, 2246, 470, 1285, 2979, 1614, 1110, 3106, 351, 1872, 2098, 1456, 3426, 3258, 3607, 589, 608, 2593, 2071, 495, 1746, 1869, 2563, 3134, 774, 1968, 838, 24, 2881, 850, 3345, 664, 3478, 2430, 2165, 3170, 865, 2340, 2284, 1620, 1393, 3096, 2330, 3009, 1937, 1813, 3193, 3182, 2785, 2801, 3140, 1458, 322, 610, 567, 344, 3545, 94, 1710, 2325, 1208, 1723, 3638, 501, 247, 667, 89, 2423, 1817, 2096, 1972, 428, 146, 1352, 3606, 1665, 1341, 389, 2350, 3464, 407, 2015, 3119, 894, 3427, 255, 203, 222, 912, 1523, 50, 155, 964, 1809, 3064, 1546, 2838, 883, 2727, 688, 3241, 399, 3405, 371, 3121, 3246, 1757, 1240, 3260, 657, 3083, 2072, 2470, 2686, 845, 3578, 1044, 2974, 429, 1615, 3643, 1781, 2453, 8, 477, 447, 2171, 1853, 406, 1329, 3422, 709, 2152, 1461, 1381, 1506, 3014, 3003, 876, 3081, 3253, 1704, 17, 3298, 1010, 279, 2485, 2871, 245, 2378, 482, 1325, 779, 3217, 847, 641, 997, 1670, 2630, 3576, 1765, 3512, 1566, 533, 3689, 2004, 1540, 3680, 431, 802, 1724, 2249, 1021, 2202, 1315, 29, 1009, 718, 2100, 3652, 1033, 2231, 3313, 2836, 3517, 1390, 886, 752, 1420, 31, 34, 3063, 173, 205, 408, 282, 3669, 1978, 3152, 2339, 1052, 3, 3036, 418, 152, 731, 3391, 2158, 2542, 3582, 364, 1594, 2595, 2358, 3264, 26, 423, 1888, 1555, 1235, 112, 3403, 1786, 765, 3231, 3675, 3296, 259, 1930, 924, 3577, 1299, 2144, 537, 776, 734, 377, 2998, 2905, 2268, 2184, 2348, 1818, 3546, 2070, 3171, 3528, 3187, 2063, 2765, 1039, 1962, 525, 2531, 3659, 251, 2401, 1290, 655, 158, 1788, 3682, 1159, 800, 3626, 2248, 453, 422, 1057, 2797, 892, 1737, 33, 622, 2328, 1536, 951, 2235, 2938, 2304, 1377, 299, 1794, 2362, 1165, 2503, 1485, 2136, 1462, 1016, 1549, 2745, 945, 157, 2081, 1298, 1138, 1487, 2289, 2519, 3701, 2229, 2751, 1699, 2585, 277, 478, 2719, 212, 170, 1263, 2365, 3590, 624, 3575, 2808, 1584, 75, 686, 3688, 56, 2738, 949, 1078, 2537, 306, 690, 784, 804, 3496, 2241, 1055, 3219, 2888, 2150, 1401, 1890, 2088, 2135, 486, 1870, 2396, 2875, 3068, 2097, 2438, 3316, 2301, 1280, 202, 1997, 3322, 1491, 324, 3101, 578, 502, 681, 2316, 812, 939, 2616, 2440, 516, 1862, 3348, 1388, 678, 2456, 1445, 1995, 3639, 1917, 2344, 67, 348, 586, 3178, 2411, 2444, 1356, 1613, 2275, 301, 2823, 1164, 125, 775, 566, 2943, 3102, 1985, 2223, 1178, 2009, 1069, 1309, 2618, 3432, 1250, 2609, 1863, 14, 666, 2868, 604, 1977, 1271, 350, 2311, 3040, 2201, 2260, 254, 3176, 2031, 2341, 2518, 975, 653, 494, 3090, 1224, 1936, 987, 186, 3268, 2387, 160, 2447, 3452, 2675, 2640, 3441, 3489, 2786, 2911, 2138, 545, 1622, 82, 953, 1734, 1952, 3088, 2601, 1439, 755, 611, 1914, 1621, 381, 2723, 2962, 1667, 2317, 1038, 1486, 3028, 3567, 526, 535, 2520, 3087, 2315, 1435, 3485, 983, 2924, 919, 989, 1561, 2262, 1098, 2771, 1342, 3327, 2288, 3339, 2843, 2073, 211, 3619, 1223, 2691, 1379, 1756, 1051, 1740, 3261, 3579, 1424, 1470, 2688, 3367, 3136, 943, 1256, 3696, 2018, 785, 3447, 2446, 1143, 2298, 579, 1118, 3537, 2418, 3347, 1153, 552, 3249, 3374, 1636, 2627, 1775, 967, 879, 985, 2109, 1414, 3281, 1116, 1834, 1889, 969, 3503, 1800, 172, 365, 3636, 977, 58, 3037, 1395, 1739, 3396, 2078, 2079, 3429, 3292, 2870, 2577, 373, 91, 2524, 1946, 2276, 1119, 353, 2354, 2448, 99, 603, 2757, 3450, 231, 2011, 1611, 3681, 3310, 2710, 1233, 161, 304, 2894, 2214, 466, 1236, 3457, 2409, 1637, 2772, 264, 2645, 1085, 2342, 219, 3593, 2450, 1387, 1878, 2701, 3196, 1656, 1464, 2553, 738, 3599, 2019, 2779, 3668, 1859, 3209, 3245, 473, 1686, 213, 1237, 1353, 2414, 1082, 2486, 3535, 2829, 733, 1677, 1465, 1587, 2092, 1886, 2159, 2484, 369, 2679, 1810, 3117, 2809, 1787, 2000, 2796, 1197, 185, 1446, 2147, 860, 675, 388, 2700, 1666, 932, 3026, 2254, 3058, 2189, 3023, 1123, 1609, 2007, 2472, 821, 2940, 1169, 1660, 3635, 1754, 613, 3472, 128, 3267, 121, 1348, 1526, 2523, 820, 1988, 880, 3061, 1467, 2425, 90, 333, 3361, 2500, 3314, 2123, 3515, 1106, 2059, 3592, 2374, 3248, 519, 1922, 1190, 2385, 1076, 1058, 1495, 2265, 2274, 2999, 2611, 3468, 20, 2848, 3483, 1095, 3234, 3122, 3565, 679, 3257, 1054, 3254, 2046, 3166, 904, 54, 488, 2220, 553, 3335, 1943, 1774, 297, 1449, 742, 1624, 3214, 835, 2091, 3417, 1545, 639, 1932, 2406, 2744, 3691, 221, 3657, 2332, 2705, 772, 766, 2153, 3075, 1844, 769, 2049, 3054, 3540, 3285, 1245, 1460, 2443, 2760, 1478, 342, 456, 425, 45, 1343, 402, 1595, 2090, 1910, 3445, 2177, 806, 396, 2132, 434, 2204, 3331, 3500, 2660, 2858, 1592, 2359, 2564, 1897, 3263, 487, 643, 1201, 1321, 3289, 291, 3363, 853, 631, 3379, 218, 3133, 3055, 3678, 2234, 575, 3163, 412, 1564, 2140, 1400, 3645, 1719, 2951, 2488, 893, 2338, 914, 3402, 0, 1799, 3311, 1279, 1121, 3532, 670, 625, 2164, 2545, 3663, 2257, 1278, 3184, 159, 627, 3074, 3455, 3510, 3006, 2047, 250, 1292, 1407, 1477, 2788, 270, 1678, 609, 1522, 617, 2227, 2850, 2207, 2499, 1360, 705, 2142, 658, 2148, 163, 3291, 2856, 1176, 1759, 2085, 2178, 2749, 393, 2133, 2698, 634, 3462, 2384, 1137, 736, 2397, 3563, 778, 1773, 2035, 2290, 2594, 1628, 459, 3430, 651, 1252, 768, 1567, 1455, 1801, 3616, 2433, 424, 1608, 230, 2624, 1193, 1544, 1418, 891, 2515, 1663, 823, 3378, 3672, 1392, 2509, 1850, 275, 2921, 2543, 2866, 1600, 1442, 361, 2712, 3203, 2811, 2949, 1578, 2507, 284, 197, 2392, 472, 1450, 3220, 321, 1650, 1570, 2697, 1003, 2273, 581, 2617, 3307, 2069, 3109, 2845, 1821, 3111, 1202, 1139, 2036, 3442, 2851, 3098, 178, 3375, 674, 592, 2891, 789, 437, 2559, 3605, 3301, 1805, 2628, 3690, 3368, 1122, 2439, 3269, 2561, 1643, 1634, 854, 722, 3222, 2195, 3312, 3380, 1529, 1244, 621, 1047, 3213, 1877, 6, 2742, 3057, 1061, 3508, 597, 3467, 926, 2567, 452, 286, 2663, 1145, 1896, 569, 2764, 929, 3623, 1547, 2847, 2461, 2605, 2111, 505, 2677, 1276, 1134, 2187, 2934, 2666, 2017, 3631, 229, 1976, 3092, 2747, 2682, 618, 1347, 2527, 635, 1560, 18, 1074, 2122, 1073, 3444, 1071, 363, 1124, 3646, 2655, 1750, 693, 925, 1394, 394, 1994, 2179, 538, 944, 179, 1048, 1676, 1975, 2750, 2356, 1385, 1924, 3394, 122, 2437, 106, 3470, 2855, 1591, 2932, 95, 3299, 115, 1861, 3518, 401, 1553, 462, 119, 53, 2216, 214, 735, 580, 1795, 1758, 3393, 3673, 2952, 78, 2945, 2810, 2471, 2415, 1607, 1731, 922, 1893, 2029, 3174, 2320, 1512, 1525, 3617, 1434, 2863, 1580, 3372, 2948, 2210, 1802, 3388, 2739, 1543, 1899, 2003, 3211, 1133, 956, 1744, 257, 460, 2221, 1841, 2286, 2612, 3126, 1404, 767, 2395, 409, 2644, 980, 1912, 2826, 2172, 1090, 1701, 1920, 59, 3125, 1639, 3695, 797, 3507, 645, 2008, 3168, 1599, 1258, 1695, 269, 1217, 543, 263, 2882, 3624, 1711, 1776, 1361, 2327, 1911, 3035, 2083, 2970, 3707, 435, 441, 669, 2579, 2643, 602, 3143, 3144, 584, 293, 636, 1645, 1151, 151, 2953, 1086, 116, 1306, 2614, 1500, 3479, 2119, 285, 3539, 3516, 46, 1398, 3438, 1971, 1443, 973, 1804] not in index'"
     ]
    }
   ],
   "source": [
    "from sklearn.model_selection import train_test_split\n",
    "\n",
    "# Зафиксируем значение random_state для воспроизводимости результатов.\n",
    "RANDOM_STATE = 333\n",
    "\n",
    "train_idx, test_idx = train_test_split(dt_train_mrg.index, test_size=0.25, random_state=RANDOM_STATE)\n",
    "\n",
    "y_train, y_test = dt_target.loc[train_idx], dt_target.loc[test_idx]\n",
    "X_train, X_test = dt_train_mrg.loc[train_idx], dt_train_mrg.loc[test_idx]\n",
    "\n",
    "print(\"Train\")\n",
    "print(dt_target.loc[train_idx].value_counts()/train_idx.shape[0])\n",
    "print()\n",
    "print(\"Test\")\n",
    "print(dt_target.loc[test_idx].value_counts()/test_idx.shape[0])"
   ]
  },
  {
   "cell_type": "code",
   "execution_count": null,
   "id": "4d9c8361",
   "metadata": {},
   "outputs": [],
   "source": []
  },
  {
   "cell_type": "code",
   "execution_count": 63,
   "id": "7a09f146",
   "metadata": {},
   "outputs": [],
   "source": [
    "from sklearn.linear_model import LogisticRegression\n",
    "from sklearn.impute import SimpleImputer\n",
    "from sklearn.preprocessing import StandardScaler\n",
    "from sklearn.pipeline import Pipeline\n",
    "\n",
    "\n",
    "class FeatureSelector(BaseEstimator, TransformerMixin):\n",
    "    def __init__(self, column):\n",
    "        self.column = column\n",
    "\n",
    "    def fit(self, X, y=None):\n",
    "        return self\n",
    "\n",
    "    def transform(self, X, y=None):\n",
    "        return X[self.column]"
   ]
  },
  {
   "cell_type": "code",
   "execution_count": 77,
   "id": "db34bde5",
   "metadata": {},
   "outputs": [
    {
     "data": {
      "text/plain": [
       "Index(['id', 'vas_id', 'buy_time', 'week'], dtype='object')"
      ]
     },
     "execution_count": 77,
     "metadata": {},
     "output_type": "execute_result"
    }
   ],
   "source": [
    "dt_train.columns"
   ]
  },
  {
   "cell_type": "code",
   "execution_count": null,
   "id": "0053ab61",
   "metadata": {},
   "outputs": [],
   "source": [
    "bl_estimator = Pipeline([\n",
    "    ('log_reg', LogisticRegression(random_state=RANDOM_STATE, n_jobs=-1)),\n",
    "])\n"
   ]
  },
  {
   "cell_type": "code",
   "execution_count": 70,
   "id": "199521b4",
   "metadata": {},
   "outputs": [],
   "source": [
    "from sklearn.model_selection import KFold\n",
    "from sklearn.model_selection import cross_validate\n",
    "\n",
    "kfold_cv = KFold(n_splits=3, shuffle=True, random_state=RANDOM_STATE)\n",
    "\n",
    "def run_cv(estimator, cv, X, y, scoring='roc_auc', model_name=\"\"):\n",
    "    cv_res = cross_validate(estimator, X, y, cv=cv, scoring=scoring, n_jobs=-1)    \n",
    "    print(f\"{model_name}: {scoring} = {cv_res['test_score'].mean():0.4f} (+/- {cv_res['test_score'].std()*2:0.4f})\")\n"
   ]
  },
  {
   "cell_type": "code",
   "execution_count": 71,
   "id": "5ac395e1",
   "metadata": {},
   "outputs": [
    {
     "name": "stdout",
     "output_type": "stream",
     "text": [
      "Baseline: recall = 0.0000 (+/- 0.0000)\n"
     ]
    }
   ],
   "source": [
    "run_cv(bl_estimator, kfold_cv, X_train, y_train, scoring='recall', model_name=\"Baseline\");"
   ]
  },
  {
   "cell_type": "code",
   "execution_count": 72,
   "id": "2968401d",
   "metadata": {},
   "outputs": [
    {
     "name": "stdout",
     "output_type": "stream",
     "text": [
      "Baseline: accuracy = 0.9627 (+/- 0.0032)\n"
     ]
    }
   ],
   "source": [
    "run_cv(bl_estimator, kfold_cv, X_train, y_train, scoring='accuracy', model_name=\"Baseline\");"
   ]
  },
  {
   "cell_type": "code",
   "execution_count": 73,
   "id": "5a89427d",
   "metadata": {},
   "outputs": [
    {
     "name": "stdout",
     "output_type": "stream",
     "text": [
      "Baseline: precision = 0.0000 (+/- 0.0000)\n"
     ]
    }
   ],
   "source": [
    "run_cv(bl_estimator, kfold_cv, X_train, y_train, scoring='precision', model_name=\"Baseline\");"
   ]
  },
  {
   "cell_type": "code",
   "execution_count": 74,
   "id": "efefe9f6",
   "metadata": {},
   "outputs": [
    {
     "name": "stdout",
     "output_type": "stream",
     "text": [
      "Baseline: roc_auc = 0.5564 (+/- 0.0256)\n"
     ]
    }
   ],
   "source": [
    "run_cv(bl_estimator, kfold_cv, X_train, y_train, model_name=\"Baseline\");"
   ]
  },
  {
   "cell_type": "code",
   "execution_count": 76,
   "id": "2105f85e",
   "metadata": {},
   "outputs": [
    {
     "data": {
      "text/plain": [
       "array([0.03020714, 0.037061  , 0.0428751 , ..., 0.04761225, 0.03412395,\n",
       "       0.04683266])"
      ]
     },
     "execution_count": 76,
     "metadata": {},
     "output_type": "execute_result"
    },
    {
     "name": "stderr",
     "output_type": "stream",
     "text": [
      "/home/svm/.local/lib/python3.8/site-packages/sklearn/metrics/_classification.py:1248: UndefinedMetricWarning: Precision is ill-defined and being set to 0.0 due to no predicted samples. Use `zero_division` parameter to control this behavior.\n",
      "  _warn_prf(average, modifier, msg_start, len(result))\n",
      "/home/svm/.local/lib/python3.8/site-packages/sklearn/metrics/_classification.py:1248: UndefinedMetricWarning: Precision is ill-defined and being set to 0.0 due to no predicted samples. Use `zero_division` parameter to control this behavior.\n",
      "  _warn_prf(average, modifier, msg_start, len(result))\n",
      "/home/svm/.local/lib/python3.8/site-packages/sklearn/metrics/_classification.py:1248: UndefinedMetricWarning: Precision is ill-defined and being set to 0.0 due to no predicted samples. Use `zero_division` parameter to control this behavior.\n",
      "  _warn_prf(average, modifier, msg_start, len(result))\n",
      "/home/svm/.local/lib/python3.8/site-packages/sklearn/metrics/_classification.py:1248: UndefinedMetricWarning: Precision is ill-defined and being set to 0.0 due to no predicted samples. Use `zero_division` parameter to control this behavior.\n",
      "  _warn_prf(average, modifier, msg_start, len(result))\n",
      "/home/svm/.local/lib/python3.8/site-packages/sklearn/metrics/_classification.py:1248: UndefinedMetricWarning: Precision is ill-defined and being set to 0.0 due to no predicted samples. Use `zero_division` parameter to control this behavior.\n",
      "  _warn_prf(average, modifier, msg_start, len(result))\n",
      "/home/svm/.local/lib/python3.8/site-packages/sklearn/metrics/_classification.py:1248: UndefinedMetricWarning: Precision is ill-defined and being set to 0.0 due to no predicted samples. Use `zero_division` parameter to control this behavior.\n",
      "  _warn_prf(average, modifier, msg_start, len(result))\n"
     ]
    }
   ],
   "source": [
    "bl_estimator.fit(X_train, y_train)\n",
    "\n",
    "bl_y_pred = bl_estimator.predict_proba(X_test)[:,1]\n",
    "bl_y_pred"
   ]
  },
  {
   "cell_type": "code",
   "execution_count": null,
   "id": "ee8dc345",
   "metadata": {},
   "outputs": [],
   "source": []
  }
 ],
 "metadata": {
  "kernelspec": {
   "display_name": "Python 3 (ipykernel)",
   "language": "python",
   "name": "python3"
  },
  "language_info": {
   "codemirror_mode": {
    "name": "ipython",
    "version": 3
   },
   "file_extension": ".py",
   "mimetype": "text/x-python",
   "name": "python",
   "nbconvert_exporter": "python",
   "pygments_lexer": "ipython3",
   "version": "3.8.10"
  }
 },
 "nbformat": 4,
 "nbformat_minor": 5
}
