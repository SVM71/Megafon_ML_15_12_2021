{
 "cells": [
  {
   "cell_type": "markdown",
   "metadata": {},
   "source": [
    "### Анализ данных и подготовка к обучению модели. "
   ]
  },
  {
   "cell_type": "code",
   "execution_count": 1,
   "metadata": {},
   "outputs": [],
   "source": [
    "import pandas as pd\n",
    "import numpy as np\n",
    "import datetime \n",
    "import time\n",
    "from functools import reduce"
   ]
  },
  {
   "cell_type": "markdown",
   "metadata": {},
   "source": [
    " __Основные моменты  на которых стоит остановить внимание при предобработке данных:__\n",
    "\n",
    "__data_train.csv__<br>\n",
    "Column  Unnamed: 0<br>\n",
    "значения не привязаны ни к чему, поэтому его можно удалить.<br>\n",
    "Column  buy_time<br> \n",
    "<br>\n",
    "Предварительно анализируем содержимое даты и времени используем библиотеку datetime. Убеждаемся в том, данный столбец несет информацию только о номере недели, и его преобразуем к номеру недели.<br>\n",
    "\n",
    " преобр значение дата/время     день        день недели 0-6         номер недели<br>\n",
    " dt_tm: 2018-07-16 01:00:00,\tday: 16, \tw_day: 0-Monday,     \tweek: 29<br>\n",
    " dt_tm: 2018-10-15 01:00:00,\tday: 15, \tw_day: 0-Monday,     \tweek: 42<br>\n",
    " dt_tm: 2018-12-24 01:00:00,\tday: 24, \tw_day: 0-Monday,     \tweek: 52<br>\n",
    " dt_tm: 2018-08-13 01:00:00,\tday: 13, \tw_day: 0-Monday,     \tweek: 33<br>\n",
    " dt_tm: 2018-08-06 01:00:00,\tday: 6, \tw_day: 0-Monday,     \tweek: 32<br>\n",
    " dt_tm: 2018-08-13 01:00:00,\tday: 13, \tw_day: 0-Monday,     \tweek: 33<br>\n",
    " dt_tm: 2018-12-17 01:00:00,\tday: 17, \tw_day: 0-Monday,     \tweek: 51<br>\n",
    " dt_tm: 2018-09-24 01:00:00,\tday: 24, \tw_day: 0-Monday,     \tweek: 39<br>\n",
    " dt_tm: 2018-12-24 01:00:00,\tday: 24, \tw_day: 0-Monday,     \tweek: 52<br>\n",
    " dt_tm: 2018-12-10 01:00:00,\tday: 10, \tw_day: 0-Monday,     \tweek: 50<br>\n",
    " dt_tm: 2018-09-10 01:00:00,\tday: 10, \tw_day: 0-Monday,     \tweek: 37<br>\n",
    "<br>\n",
    "\n",
    "__data_test.csv__<br>\n",
    "Выполняем преобразования как и для data_train.csv.<br>\n",
    "\n",
    "таким образом в трейне и тесте остается 3 информативных столбца: 'id', 'vas_id', 'buy_time'<br>\n",
    "\n",
    "определим список доступных пользователей для анализа, это id объединенный список test & train."
   ]
  },
  {
   "cell_type": "code",
   "execution_count": 2,
   "metadata": {},
   "outputs": [],
   "source": [
    "dt_train = pd.read_csv('cp_data/data_train.csv')"
   ]
  },
  {
   "cell_type": "code",
   "execution_count": 3,
   "metadata": {},
   "outputs": [
    {
     "name": "stdout",
     "output_type": "stream",
     "text": [
      "<class 'pandas.core.frame.DataFrame'>\n",
      "RangeIndex: 831653 entries, 0 to 831652\n",
      "Data columns (total 5 columns):\n",
      " #   Column      Non-Null Count   Dtype  \n",
      "---  ------      --------------   -----  \n",
      " 0   Unnamed: 0  831653 non-null  int64  \n",
      " 1   id          831653 non-null  int64  \n",
      " 2   vas_id      831653 non-null  float64\n",
      " 3   buy_time    831653 non-null  int64  \n",
      " 4   target      831653 non-null  float64\n",
      "dtypes: float64(2), int64(3)\n",
      "memory usage: 31.7 MB\n"
     ]
    }
   ],
   "source": [
    "dt_train.info()"
   ]
  },
  {
   "cell_type": "code",
   "execution_count": 4,
   "metadata": {},
   "outputs": [
    {
     "name": "stdout",
     "output_type": "stream",
     "text": [
      "<class 'pandas.core.frame.DataFrame'>\n",
      "RangeIndex: 71231 entries, 0 to 71230\n",
      "Data columns (total 4 columns):\n",
      " #   Column      Non-Null Count  Dtype  \n",
      "---  ------      --------------  -----  \n",
      " 0   Unnamed: 0  71231 non-null  int64  \n",
      " 1   id          71231 non-null  int64  \n",
      " 2   vas_id      71231 non-null  float64\n",
      " 3   buy_time    71231 non-null  int64  \n",
      "dtypes: float64(1), int64(3)\n",
      "memory usage: 2.2 MB\n"
     ]
    }
   ],
   "source": [
    "dt_test = pd.read_csv('cp_data/data_test.csv')\n",
    "dt_test.info()"
   ]
  },
  {
   "cell_type": "code",
   "execution_count": 5,
   "metadata": {},
   "outputs": [],
   "source": [
    "# переводит время в номер недели\n",
    "def user_timestamp_2_week(tstamp):\n",
    "    return datetime.datetime.fromtimestamp(tstamp).date().isocalendar()[1]\n",
    "\n",
    "# default Monday\n",
    "def user_week_to_timestamp( week, year=2018, day=1 ): \n",
    "    u_str_dt = datetime.date.fromisocalendar(year, week, day)\n",
    "    return time.mktime(datetime.datetime.strptime( str(u_str_dt), \"%Y-%m-%d\").timetuple())\n",
    "\n",
    "def user_transform_train_data(dt):\n",
    "    dt.columns= dt.columns.str.strip().str.lower()\n",
    "    dt['week'] = dt['buy_time'].apply( user_timestamp_2_week)\n",
    "    dt = dt.astype({'buy_time': 'int32','vas_id': 'int32', 'week': 'int32'})\n",
    "    dt.drop(labels=['unnamed: 0'], axis=1, inplace=True)\n",
    "    return dt"
   ]
  },
  {
   "cell_type": "code",
   "execution_count": 6,
   "metadata": {},
   "outputs": [
    {
     "data": {
      "text/plain": [
       "False    771467\n",
       "True      60186\n",
       "Name: target, dtype: int64"
      ]
     },
     "execution_count": 6,
     "metadata": {},
     "output_type": "execute_result"
    }
   ],
   "source": [
    "dt_target = dt_train['target'].astype(bool)\n",
    "dt_target.value_counts()"
   ]
  },
  {
   "cell_type": "code",
   "execution_count": 7,
   "metadata": {},
   "outputs": [],
   "source": [
    "dt_train.drop( ['target'], axis=1, inplace=True) "
   ]
  },
  {
   "cell_type": "code",
   "execution_count": 8,
   "metadata": {},
   "outputs": [
    {
     "name": "stdout",
     "output_type": "stream",
     "text": [
      "<class 'pandas.core.frame.DataFrame'>\n",
      "RangeIndex: 831653 entries, 0 to 831652\n",
      "Data columns (total 4 columns):\n",
      " #   Column    Non-Null Count   Dtype\n",
      "---  ------    --------------   -----\n",
      " 0   id        831653 non-null  int64\n",
      " 1   vas_id    831653 non-null  int32\n",
      " 2   buy_time  831653 non-null  int32\n",
      " 3   week      831653 non-null  int32\n",
      "dtypes: int32(3), int64(1)\n",
      "memory usage: 15.9 MB\n"
     ]
    }
   ],
   "source": [
    "dt_train = user_transform_train_data(dt_train)\n",
    "dt_train.info()"
   ]
  },
  {
   "cell_type": "code",
   "execution_count": 9,
   "metadata": {},
   "outputs": [
    {
     "name": "stdout",
     "output_type": "stream",
     "text": [
      "<class 'pandas.core.frame.DataFrame'>\n",
      "RangeIndex: 71231 entries, 0 to 71230\n",
      "Data columns (total 4 columns):\n",
      " #   Column    Non-Null Count  Dtype\n",
      "---  ------    --------------  -----\n",
      " 0   id        71231 non-null  int64\n",
      " 1   vas_id    71231 non-null  int32\n",
      " 2   buy_time  71231 non-null  int32\n",
      " 3   week      71231 non-null  int32\n",
      "dtypes: int32(3), int64(1)\n",
      "memory usage: 1.4 MB\n"
     ]
    }
   ],
   "source": [
    "dt_test = user_transform_train_data(dt_test)\n",
    "dt_test.info()"
   ]
  },
  {
   "cell_type": "markdown",
   "metadata": {},
   "source": [
    "Можно посмотреть распределение по времени на тесте и трайне"
   ]
  },
  {
   "cell_type": "code",
   "execution_count": 10,
   "metadata": {},
   "outputs": [
    {
     "name": "stdout",
     "output_type": "stream",
     "text": [
      " номер недели на train:\n",
      "[ 1 28 29 30 31 32 33 34 35 36 37 38 39 40 41 42 43 44 45 46 47 48 49 50\n",
      " 51 52]\n",
      " номер недели на test:\n",
      "[2 3 4]\n"
     ]
    }
   ],
   "source": [
    "print( f' номер недели на train:\\n{np.sort(dt_train[\"week\"].unique())}')\n",
    "print( f' номер недели на test:\\n{np.sort(dt_test[\"week\"].unique())}')"
   ]
  },
  {
   "cell_type": "markdown",
   "metadata": {},
   "source": [
    "Вполне возможно хотят выяснить предысторию успеха!) тест по времени заложен на начало 2-я, 3-я.4-я, недели...<br>\n",
    "В задании написано:<br>\n",
    "Данные train и test разбиты по периодам – на train доступно 4 месяцев, а на test отложен последующий месяц... "
   ]
  },
  {
   "cell_type": "markdown",
   "metadata": {},
   "source": [
    "Посмотрим список идентификаторов услуг на тесте и трейне"
   ]
  },
  {
   "cell_type": "code",
   "execution_count": 11,
   "metadata": {},
   "outputs": [
    {
     "data": {
      "text/plain": [
       "(array([1, 2, 4, 5, 6, 7, 8, 9], dtype=int32),\n",
       " array([1, 2, 4, 5, 6, 7, 8, 9], dtype=int32))"
      ]
     },
     "execution_count": 11,
     "metadata": {},
     "output_type": "execute_result"
    }
   ],
   "source": [
    "np.sort(dt_train['vas_id'].unique()), np.sort(dt_test['vas_id'].unique())"
   ]
  },
  {
   "cell_type": "code",
   "execution_count": 13,
   "metadata": {},
   "outputs": [
    {
     "data": {
      "text/plain": [
       "1532289600.0"
      ]
     },
     "execution_count": 13,
     "metadata": {},
     "output_type": "execute_result"
    }
   ],
   "source": [
    "treshold_tstamp = user_week_to_timestamp(30)\n",
    "treshold_tstamp"
   ]
  },
  {
   "cell_type": "code",
   "execution_count": 35,
   "metadata": {},
   "outputs": [
    {
     "data": {
      "text/plain": [
       "Int64Index([     0,      2,      3,      4,      5,      6,      7,      8,\n",
       "                 9,     10,\n",
       "            ...\n",
       "            831643, 831644, 831645, 831646, 831647, 831648, 831649, 831650,\n",
       "            831651, 831652],\n",
       "           dtype='int64', length=774648)"
      ]
     },
     "execution_count": 35,
     "metadata": {},
     "output_type": "execute_result"
    }
   ],
   "source": [
    "dt_trn_indx = dt_train.loc[ dt_train['buy_time'] >= treshold_tstamp ].index\n",
    "dt_trn_indx"
   ]
  },
  {
   "cell_type": "code",
   "execution_count": 36,
   "metadata": {},
   "outputs": [],
   "source": [
    "dt_train.drop( dt_trn_indx, axis=0, inplace=True) "
   ]
  },
  {
   "cell_type": "code",
   "execution_count": 37,
   "metadata": {},
   "outputs": [],
   "source": [
    "dt_target.drop( dt_trn_indx, axis=0, inplace=True) "
   ]
  },
  {
   "cell_type": "code",
   "execution_count": 40,
   "metadata": {},
   "outputs": [
    {
     "name": "stdout",
     "output_type": "stream",
     "text": [
      "<class 'pandas.core.frame.DataFrame'>\n",
      "Int64Index: 57005 entries, 1 to 778442\n",
      "Data columns (total 4 columns):\n",
      " #   Column    Non-Null Count  Dtype\n",
      "---  ------    --------------  -----\n",
      " 0   id        57005 non-null  int64\n",
      " 1   vas_id    57005 non-null  int32\n",
      " 2   buy_time  57005 non-null  int32\n",
      " 3   week      57005 non-null  int32\n",
      "dtypes: int32(3), int64(1)\n",
      "memory usage: 1.5 MB\n"
     ]
    }
   ],
   "source": [
    "dt_train.info()"
   ]
  },
  {
   "cell_type": "code",
   "execution_count": 62,
   "metadata": {},
   "outputs": [
    {
     "data": {
      "text/plain": [
       "57005"
      ]
     },
     "execution_count": 62,
     "metadata": {},
     "output_type": "execute_result"
    }
   ],
   "source": [
    "len(dt_target)"
   ]
  },
  {
   "cell_type": "markdown",
   "metadata": {},
   "source": [
    "выявим пользователей из трайна и теста для формирвания датафрейма с фичами. С целью ограничить размер файла фич"
   ]
  },
  {
   "cell_type": "code",
   "execution_count": 41,
   "metadata": {},
   "outputs": [
    {
     "data": {
      "text/plain": [
       "(127040, array([1454121, 2066638, 1913461, ..., 1891350, 2437172,  988236]))"
      ]
     },
     "execution_count": 41,
     "metadata": {},
     "output_type": "execute_result"
    }
   ],
   "source": [
    "common_ids = pd.concat([dt_train, dt_test]).id.unique()\n",
    "len(common_ids), common_ids"
   ]
  },
  {
   "cell_type": "markdown",
   "metadata": {},
   "source": [
    "#### Анализ файла с прфилями пользователей features "
   ]
  },
  {
   "cell_type": "markdown",
   "metadata": {},
   "source": [
    "Особенность файла, его размер 22GB, моя машина умирает через некоторое время при попытке загрузить данные... <br>\n",
    "\n",
    "Пробуем варианты... задать chunksize при чтении датафрейма, то что сработало."
   ]
  },
  {
   "cell_type": "code",
   "execution_count": 42,
   "metadata": {},
   "outputs": [],
   "source": [
    "def get_features_from_chunk(chunk):\n",
    "    tmp_df = chunk.loc[( chunk['id'].isin(common_ids) ) & ( chunk['buy_time'] < treshold_tstamp) ].copy()\n",
    "    return tmp_df\n",
    "\n",
    "def cumulate_features(prev_res, new_res):    \n",
    "    return prev_res.append(new_res)"
   ]
  },
  {
   "cell_type": "code",
   "execution_count": 43,
   "metadata": {},
   "outputs": [
    {
     "name": "stdout",
     "output_type": "stream",
     "text": [
      "elapsed time: 1.974\n",
      "got: 78 writes\n",
      "        Unnamed: 0       id    buy_time           0           1           2  \\\n",
      "497           497  3748015  1531688400  199.810029  282.490888  185.869214   \n",
      "606           606  3870847  1531083600  335.400029   25.290888  351.119214   \n",
      "1498         1498   216934  1531083600  -94.679971 -378.949112   14.259214   \n",
      "1573         1573   267598  1531083600  -96.799971 -196.319112 -110.740786   \n",
      "2060         2060   893213  1531688400  -96.799971   66.400888  -81.060786   \n",
      "...           ...      ...         ...         ...         ...         ...   \n",
      "31341       31341  4068730  1531688400  -52.299971 -233.599112  -66.240786   \n",
      "31394       31394  4084837  1531688400  -76.469971 -247.839112  -90.410786   \n",
      "31686       31686  4161464  1531083600  -96.799971 -408.179112 -110.740786   \n",
      "32414       32414     2750  1531688400  -96.799971  -69.199112 -110.740786   \n",
      "32578       32578    44693  1531688400  -96.799971 -408.179112 -110.740786   \n",
      "\n",
      "                3           4          5          6  ...         243  \\\n",
      "497    229.883202  180.451754  335.89821  280.52382  ... -969.373846   \n",
      "606     61.663202  345.701754   40.55821  -16.08618  ... -977.373846   \n",
      "1498   797.223202    8.841754  776.11821  -16.08618  ... -959.373846   \n",
      "1573  -248.926798 -116.158246 -270.03179  -16.08618  ... -977.373846   \n",
      "2060   132.513202  -86.478246  111.40821  -16.08618  ... -977.373846   \n",
      "...           ...         ...        ...        ...  ...         ...   \n",
      "31341 -286.206798  -71.658246 -307.31179  -16.08618  ... -977.373846   \n",
      "31394 -293.666798  -95.828246 -314.77179  -16.08618  ... -831.373846   \n",
      "31686 -460.786798 -116.158246 -481.89179  -16.08618  ... -977.373846   \n",
      "32414  -96.386798 -116.158246 -117.49179  -16.08618  ... -842.373846   \n",
      "32578 -460.786798 -116.158246 -481.89179  -16.08618  ... -977.373846   \n",
      "\n",
      "              244        245        246          247        248        249  \\\n",
      "497   -607.770792 -25.996269 -37.630448  2675.252276 -25.832889  -0.694428   \n",
      "606   -613.770792 -25.996269 -37.630448  -306.747724 -25.832889  -0.694428   \n",
      "1498  -597.770792 -25.996269 -25.630448   -52.747724 -25.832889  -0.694428   \n",
      "1573  -613.770792 -25.996269  66.369552  -291.747724  -5.832889  -0.694428   \n",
      "2060  -613.770792 -24.996269 -34.630448   171.252276   0.167111  25.305572   \n",
      "...           ...        ...        ...          ...        ...        ...   \n",
      "31341 -613.770792 -25.996269 -37.630448  -306.747724 -25.832889  -0.694428   \n",
      "31394 -612.770792 -25.996269 -31.630448  -298.747724 -25.832889  -0.694428   \n",
      "31686 -613.770792 -25.996269 -37.630448  -306.747724 -25.832889  -0.694428   \n",
      "32414 -583.770792 -25.996269 -36.630448  -200.747724 -24.832889  -0.694428   \n",
      "32578 -613.770792 -25.996269 -37.630448  -306.747724 -25.832889  -0.694428   \n",
      "\n",
      "             250      251  252  \n",
      "497   -12.175933 -0.45614  1.0  \n",
      "606   -12.175933 -0.45614  0.0  \n",
      "1498  -12.175933 -0.45614  0.0  \n",
      "1573    7.824067 -0.45614  1.0  \n",
      "2060  -12.175933 -0.45614  1.0  \n",
      "...          ...      ...  ...  \n",
      "31341 -12.175933 -0.45614  0.0  \n",
      "31394 -12.175933 -0.45614  0.0  \n",
      "31686 -12.175933 -0.45614  0.0  \n",
      "32414 -11.175933 -0.45614  1.0  \n",
      "32578 -12.175933 -0.45614  0.0  \n",
      "\n",
      "[78 rows x 256 columns]\n"
     ]
    }
   ],
   "source": [
    "start = time.time()\n",
    "\n",
    "chunks = pd.read_csv('cp_data/features.csv', sep='\\t', nrows=2*16384, chunksize=16384)\n",
    "processed_chunks = map(get_features_from_chunk, chunks)\n",
    "result = reduce(cumulate_features, processed_chunks)\n",
    "\n",
    "stop = time.time()\n",
    "print(f'elapsed time: {round(stop-start, 3)}\\ngot: {len(result)} writes\\n', result)"
   ]
  },
  {
   "cell_type": "markdown",
   "metadata": {},
   "source": [
    "Такой подход позволяет отфильтровать нужных пользователей и сохранить в файл... "
   ]
  },
  {
   "cell_type": "code",
   "execution_count": 44,
   "metadata": {},
   "outputs": [
    {
     "name": "stdout",
     "output_type": "stream",
     "text": [
      "0: elapsed time: 0:00:00.106000, got: 134 writes for 0.106 sec\n",
      "1: elapsed time: 0:00:00.183000, got: 116 writes for 0.077 sec\n",
      "2: elapsed time: 0:00:00.274000, got: 139 writes for 0.091 sec\n",
      "3: elapsed time: 0:00:00.346000, got: 108 writes for 0.072 sec\n",
      "4: elapsed time: 0:00:00.432000, got: 132 writes for 0.086 sec\n",
      "5: elapsed time: 0:00:00.533000, got: 139 writes for 0.101 sec\n",
      "6: elapsed time: 0:00:00.618000, got: 109 writes for 0.085 sec\n",
      "7: elapsed time: 0:00:00.691000, got: 109 writes for 0.073 sec\n",
      "8: elapsed time: 0:00:00.780000, got: 117 writes for 0.089 sec\n",
      "9: elapsed time: 0:00:00.862000, got: 125 writes for 0.082 sec\n",
      "10: elapsed time: 0:00:00.961000, got: 128 writes for 0.099 sec\n",
      "11: elapsed time: 0:00:01.064000, got: 122 writes for 0.103 sec\n",
      "12: elapsed time: 0:00:01.161000, got: 131 writes for 0.097 sec\n",
      "13: elapsed time: 0:00:01.256000, got: 128 writes for 0.095 sec\n",
      "14: elapsed time: 0:00:01.344000, got: 118 writes for 0.088 sec\n",
      "15: elapsed time: 0:00:01.435000, got: 136 writes for 0.091 sec\n",
      "16: elapsed time: 0:00:01.533000, got: 132 writes for 0.098 sec\n",
      "17: elapsed time: 0:00:01.610000, got: 117 writes for 0.078 sec\n",
      "18: elapsed time: 0:00:01.716000, got: 127 writes for 0.106 sec\n",
      "19: elapsed time: 0:00:01.813000, got: 110 writes for 0.097 sec\n",
      "20: elapsed time: 0:00:01.886000, got: 109 writes for 0.073 sec\n",
      "21: elapsed time: 0:00:01.986000, got: 117 writes for 0.1 sec\n",
      "22: elapsed time: 0:00:02.055000, got: 101 writes for 0.068 sec\n",
      "23: elapsed time: 0:00:02.148000, got: 124 writes for 0.093 sec\n",
      "24: elapsed time: 0:00:02.240000, got: 118 writes for 0.092 sec\n",
      "25: elapsed time: 0:00:02.319000, got: 120 writes for 0.079 sec\n",
      "26: elapsed time: 0:00:02.416000, got: 130 writes for 0.097 sec\n",
      "27: elapsed time: 0:00:02.487000, got: 106 writes for 0.071 sec\n",
      "28: elapsed time: 0:00:02.593000, got: 128 writes for 0.106 sec\n",
      "29: elapsed time: 0:00:02.703000, got: 135 writes for 0.111 sec\n",
      "30: elapsed time: 0:00:02.778000, got: 113 writes for 0.075 sec\n",
      "31: elapsed time: 0:00:02.863000, got: 109 writes for 0.085 sec\n",
      "32: elapsed time: 0:00:02.944000, got: 123 writes for 0.081 sec\n",
      "33: elapsed time: 0:00:03.045000, got: 118 writes for 0.101 sec\n",
      "34: elapsed time: 0:00:03.150000, got: 126 writes for 0.105 sec\n",
      "35: elapsed time: 0:00:03.223000, got: 109 writes for 0.073 sec\n",
      "36: elapsed time: 0:00:03.313000, got: 118 writes for 0.09 sec\n",
      "37: elapsed time: 0:00:03.399000, got: 116 writes for 0.086 sec\n",
      "38: elapsed time: 0:00:03.475000, got: 113 writes for 0.075 sec\n",
      "39: elapsed time: 0:00:03.573000, got: 113 writes for 0.098 sec\n",
      "40: elapsed time: 0:00:03.678000, got: 126 writes for 0.105 sec\n",
      "41: elapsed time: 0:00:03.765000, got: 114 writes for 0.088 sec\n",
      "42: elapsed time: 0:00:03.852000, got: 131 writes for 0.087 sec\n",
      "43: elapsed time: 0:00:03.926000, got: 108 writes for 0.074 sec\n",
      "44: elapsed time: 0:00:04.036000, got: 132 writes for 0.109 sec\n",
      "45: elapsed time: 0:00:04.136000, got: 136 writes for 0.1 sec\n",
      "46: elapsed time: 0:00:04.235000, got: 135 writes for 0.099 sec\n",
      "47: elapsed time: 0:00:04.347000, got: 130 writes for 0.113 sec\n",
      "48: elapsed time: 0:00:04.457000, got: 119 writes for 0.11 sec\n",
      "49: elapsed time: 0:00:04.565000, got: 126 writes for 0.108 sec\n",
      "50: elapsed time: 0:00:04.674000, got: 130 writes for 0.109 sec\n",
      "51: elapsed time: 0:00:04.775000, got: 118 writes for 0.101 sec\n",
      "52: elapsed time: 0:00:04.893000, got: 137 writes for 0.118 sec\n",
      "53: elapsed time: 0:00:04.984000, got: 112 writes for 0.091 sec\n",
      "54: elapsed time: 0:00:05.078000, got: 127 writes for 0.094 sec\n",
      "55: elapsed time: 0:00:05.171000, got: 137 writes for 0.093 sec\n",
      "56: elapsed time: 0:00:05.258000, got: 109 writes for 0.087 sec\n",
      "57: elapsed time: 0:00:05.347000, got: 131 writes for 0.089 sec\n",
      "58: elapsed time: 0:00:05.419000, got: 105 writes for 0.072 sec\n",
      "59: elapsed time: 0:00:05.507000, got: 100 writes for 0.088 sec\n",
      "60: elapsed time: 0:00:05.599000, got: 131 writes for 0.092 sec\n",
      "61: elapsed time: 0:00:05.682000, got: 106 writes for 0.083 sec\n",
      "62: elapsed time: 0:00:05.761000, got: 119 writes for 0.08 sec\n",
      "63: elapsed time: 0:00:05.868000, got: 127 writes for 0.106 sec\n",
      "64: elapsed time: 0:00:05.965000, got: 111 writes for 0.097 sec\n",
      "65: elapsed time: 0:00:06.040000, got: 112 writes for 0.075 sec\n",
      "66: elapsed time: 0:00:06.155000, got: 132 writes for 0.115 sec\n",
      "67: elapsed time: 0:00:06.234000, got: 121 writes for 0.079 sec\n",
      "68: elapsed time: 0:00:06.330000, got: 109 writes for 0.095 sec\n"
     ]
    }
   ],
   "source": [
    "chunk_size = 4*16384\n",
    "num_chunks = 2 \n",
    "\n",
    "#inp_chunks = pd.read_csv('cp_data/features.csv', sep='\\t', nrows=num_chunks*chunk_size, iterator=True, chunksize=chunk_size)\n",
    "inp_chunks = pd.read_csv('cp_data/features.csv', sep='\\t', iterator=True, chunksize=chunk_size)\n",
    "\n",
    "summ = 0\n",
    "for idx, chunk in enumerate(inp_chunks):\n",
    "    start = time.time()\n",
    "    result= get_features_from_chunk(chunk)\n",
    "    #print( result.head(2) )\n",
    "    result.to_csv('cp_data/user_features_by_time.csv', sep='\\t', chunksize=chunk_size, mode='a')\n",
    "    summ += time.time()-start\n",
    "    print(f'{idx}: elapsed time: {str(datetime.timedelta(seconds=round(summ, 3)))}, got: {len(result)} writes for {round(time.time()-start, 3)} sec')"
   ]
  },
  {
   "cell_type": "code",
   "execution_count": 45,
   "metadata": {},
   "outputs": [],
   "source": [
    "def get_N_rows_from( file2rd, chunksize=16384, n_chunss=None ):\n",
    "    \n",
    "    chunks = pd.read_csv(file2rd, sep='\\t', iterator=True, \n",
    "                         nrows=n_chunss*chunksize if n_chunss != None else None, \n",
    "                         chunksize=chunksize, \n",
    "                         low_memory=False\n",
    "                        )\n",
    "    res = pd.DataFrame()\n",
    "    summ=0\n",
    "    for idx, chnk in enumerate(chunks):\n",
    "        start = time.time()\n",
    "        res = res.append(chnk)\n",
    "        summ += time.time()-start\n",
    "        print(f'{idx}: elapsed time: {str(datetime.timedelta(seconds=round(summ, 3)))}, \\\n",
    "              got: {len(res)} writes for {round(time.time()-start, 3)} sec')\n",
    "    return res\n",
    "\n",
    "def get_N_cols_from( file2rd, columns ):    \n",
    "    start = time.time()\n",
    "    res = pd.read_csv(file2rd, sep='\\t', usecols=columns)\n",
    "    stop = time.time()-start\n",
    "    print(f'Read columns: {columns}\\nfrom {file2rd}, elapsed time: {str(datetime.timedelta(seconds=round(stop, 3)))}')\n",
    "    return res\n",
    "\n",
    "def get_nunique_in_cols_from( file2rd, col_name ):    \n",
    "    start = time.time()\n",
    "    res = pd.read_csv(file2rd, sep='\\t', usecols=[col_name,])\n",
    "    n_unique = { 'unic_cnt':res[col_name].nunique(), 'values':res[col_name].unique() }\n",
    "    stop = time.time()-start\n",
    "    print(f'Read column: {col_name}\\nfrom {file2rd}, elapsed time: {str(datetime.timedelta(seconds=round(stop, 3)))}')\n",
    "    return n_unique"
   ]
  },
  {
   "cell_type": "code",
   "execution_count": 46,
   "metadata": {},
   "outputs": [
    {
     "name": "stdout",
     "output_type": "stream",
     "text": [
      "0: elapsed time: 0:00:00.010000,               got: 8422 writes for 0.01 sec\n"
     ]
    }
   ],
   "source": [
    "feat_1_row = get_N_rows_from('cp_data/user_features_by_time.csv')\n"
   ]
  },
  {
   "cell_type": "code",
   "execution_count": 47,
   "metadata": {},
   "outputs": [],
   "source": [
    "bad_indexes = feat_1_row[feat_1_row['id'] == 'id'].index"
   ]
  },
  {
   "cell_type": "code",
   "execution_count": 48,
   "metadata": {},
   "outputs": [],
   "source": [
    "feat_1_row.drop( labels=bad_indexes, axis=0, inplace=True ) "
   ]
  },
  {
   "cell_type": "code",
   "execution_count": 49,
   "metadata": {},
   "outputs": [
    {
     "name": "stdout",
     "output_type": "stream",
     "text": [
      "<class 'pandas.core.frame.DataFrame'>\n",
      "Int64Index: 8354 entries, 0 to 8421\n",
      "Columns: 257 entries, Unnamed: 0 to 252\n",
      "dtypes: float64(254), object(3)\n",
      "memory usage: 16.4+ MB\n"
     ]
    },
    {
     "data": {
      "text/plain": [
       "(None,\n",
       " Index            66832\n",
       " Unnamed: 0       66832\n",
       " Unnamed: 0.1    532542\n",
       " id              532419\n",
       " buy_time        559718\n",
       "                  ...  \n",
       " 248              66832\n",
       " 249              66832\n",
       " 250              66832\n",
       " 251              66832\n",
       " 252              66832\n",
       " Length: 258, dtype: int64)"
      ]
     },
     "execution_count": 49,
     "metadata": {},
     "output_type": "execute_result"
    }
   ],
   "source": [
    "feat_1_row.info(), feat_1_row.memory_usage(deep=True)"
   ]
  },
  {
   "cell_type": "code",
   "execution_count": 50,
   "metadata": {},
   "outputs": [
    {
     "data": {
      "text/html": [
       "<div>\n",
       "<style scoped>\n",
       "    .dataframe tbody tr th:only-of-type {\n",
       "        vertical-align: middle;\n",
       "    }\n",
       "\n",
       "    .dataframe tbody tr th {\n",
       "        vertical-align: top;\n",
       "    }\n",
       "\n",
       "    .dataframe thead th {\n",
       "        text-align: right;\n",
       "    }\n",
       "</style>\n",
       "<table border=\"1\" class=\"dataframe\">\n",
       "  <thead>\n",
       "    <tr style=\"text-align: right;\">\n",
       "      <th></th>\n",
       "      <th>Unnamed: 0</th>\n",
       "      <th>0</th>\n",
       "      <th>1</th>\n",
       "      <th>2</th>\n",
       "      <th>3</th>\n",
       "      <th>4</th>\n",
       "      <th>5</th>\n",
       "      <th>6</th>\n",
       "      <th>7</th>\n",
       "      <th>8</th>\n",
       "      <th>...</th>\n",
       "      <th>243</th>\n",
       "      <th>244</th>\n",
       "      <th>245</th>\n",
       "      <th>246</th>\n",
       "      <th>247</th>\n",
       "      <th>248</th>\n",
       "      <th>249</th>\n",
       "      <th>250</th>\n",
       "      <th>251</th>\n",
       "      <th>252</th>\n",
       "    </tr>\n",
       "  </thead>\n",
       "  <tbody>\n",
       "    <tr>\n",
       "      <th>count</th>\n",
       "      <td>8.354000e+03</td>\n",
       "      <td>8354.000000</td>\n",
       "      <td>8354.000000</td>\n",
       "      <td>8354.000000</td>\n",
       "      <td>8354.000000</td>\n",
       "      <td>8354.000000</td>\n",
       "      <td>8354.000000</td>\n",
       "      <td>8354.000000</td>\n",
       "      <td>8354.000000</td>\n",
       "      <td>8354.000000</td>\n",
       "      <td>...</td>\n",
       "      <td>8354.000000</td>\n",
       "      <td>8354.000000</td>\n",
       "      <td>8354.000000</td>\n",
       "      <td>8354.000000</td>\n",
       "      <td>8354.000000</td>\n",
       "      <td>8354.000000</td>\n",
       "      <td>8354.000000</td>\n",
       "      <td>8354.000000</td>\n",
       "      <td>8354.000000</td>\n",
       "      <td>8354.000000</td>\n",
       "    </tr>\n",
       "    <tr>\n",
       "      <th>mean</th>\n",
       "      <td>2.249330e+06</td>\n",
       "      <td>5.255322</td>\n",
       "      <td>36.949103</td>\n",
       "      <td>4.047678</td>\n",
       "      <td>31.653667</td>\n",
       "      <td>8.279109</td>\n",
       "      <td>40.167888</td>\n",
       "      <td>3.013243</td>\n",
       "      <td>15.879714</td>\n",
       "      <td>2.910864</td>\n",
       "      <td>...</td>\n",
       "      <td>131.135610</td>\n",
       "      <td>33.916304</td>\n",
       "      <td>0.117689</td>\n",
       "      <td>-10.000810</td>\n",
       "      <td>-8.021365</td>\n",
       "      <td>0.280829</td>\n",
       "      <td>0.085677</td>\n",
       "      <td>12.643435</td>\n",
       "      <td>0.027700</td>\n",
       "      <td>0.268734</td>\n",
       "    </tr>\n",
       "    <tr>\n",
       "      <th>std</th>\n",
       "      <td>1.306814e+06</td>\n",
       "      <td>182.462452</td>\n",
       "      <td>375.099163</td>\n",
       "      <td>190.993428</td>\n",
       "      <td>420.104503</td>\n",
       "      <td>216.390235</td>\n",
       "      <td>492.361408</td>\n",
       "      <td>101.210184</td>\n",
       "      <td>262.664089</td>\n",
       "      <td>81.406140</td>\n",
       "      <td>...</td>\n",
       "      <td>3484.015962</td>\n",
       "      <td>2413.461675</td>\n",
       "      <td>958.108001</td>\n",
       "      <td>198.997059</td>\n",
       "      <td>1382.865117</td>\n",
       "      <td>144.948148</td>\n",
       "      <td>6.054197</td>\n",
       "      <td>144.531672</td>\n",
       "      <td>5.710988</td>\n",
       "      <td>0.443328</td>\n",
       "    </tr>\n",
       "    <tr>\n",
       "      <th>min</th>\n",
       "      <td>4.970000e+02</td>\n",
       "      <td>-181.509971</td>\n",
       "      <td>-408.179112</td>\n",
       "      <td>-195.450786</td>\n",
       "      <td>-460.786798</td>\n",
       "      <td>-200.868246</td>\n",
       "      <td>-481.891790</td>\n",
       "      <td>-16.086180</td>\n",
       "      <td>-65.076097</td>\n",
       "      <td>-6.783660</td>\n",
       "      <td>...</td>\n",
       "      <td>-977.373846</td>\n",
       "      <td>-613.770792</td>\n",
       "      <td>-25.996269</td>\n",
       "      <td>-37.630448</td>\n",
       "      <td>-306.747724</td>\n",
       "      <td>-25.832889</td>\n",
       "      <td>-0.694428</td>\n",
       "      <td>-12.175933</td>\n",
       "      <td>-0.456140</td>\n",
       "      <td>0.000000</td>\n",
       "    </tr>\n",
       "    <tr>\n",
       "      <th>25%</th>\n",
       "      <td>1.091703e+06</td>\n",
       "      <td>-96.799971</td>\n",
       "      <td>-153.939112</td>\n",
       "      <td>-110.740786</td>\n",
       "      <td>-191.064298</td>\n",
       "      <td>-114.888246</td>\n",
       "      <td>-206.351790</td>\n",
       "      <td>-16.086180</td>\n",
       "      <td>-65.076097</td>\n",
       "      <td>-6.783660</td>\n",
       "      <td>...</td>\n",
       "      <td>-977.373846</td>\n",
       "      <td>-613.770792</td>\n",
       "      <td>-25.996269</td>\n",
       "      <td>-37.630448</td>\n",
       "      <td>-294.747724</td>\n",
       "      <td>-25.832889</td>\n",
       "      <td>-0.694428</td>\n",
       "      <td>-12.175933</td>\n",
       "      <td>-0.456140</td>\n",
       "      <td>0.000000</td>\n",
       "    </tr>\n",
       "    <tr>\n",
       "      <th>50%</th>\n",
       "      <td>2.251965e+06</td>\n",
       "      <td>-81.959971</td>\n",
       "      <td>-22.579112</td>\n",
       "      <td>-78.960786</td>\n",
       "      <td>-41.296798</td>\n",
       "      <td>-80.598246</td>\n",
       "      <td>-56.031790</td>\n",
       "      <td>-16.086180</td>\n",
       "      <td>-65.076097</td>\n",
       "      <td>-6.783660</td>\n",
       "      <td>...</td>\n",
       "      <td>-937.373846</td>\n",
       "      <td>-610.770792</td>\n",
       "      <td>-25.996269</td>\n",
       "      <td>-37.630448</td>\n",
       "      <td>-219.747724</td>\n",
       "      <td>-22.832889</td>\n",
       "      <td>-0.694428</td>\n",
       "      <td>-10.175933</td>\n",
       "      <td>-0.456140</td>\n",
       "      <td>0.000000</td>\n",
       "    </tr>\n",
       "    <tr>\n",
       "      <th>75%</th>\n",
       "      <td>3.377638e+06</td>\n",
       "      <td>21.850029</td>\n",
       "      <td>145.943388</td>\n",
       "      <td>34.851714</td>\n",
       "      <td>151.020702</td>\n",
       "      <td>42.121754</td>\n",
       "      <td>153.698210</td>\n",
       "      <td>-16.086180</td>\n",
       "      <td>-39.656097</td>\n",
       "      <td>-6.783660</td>\n",
       "      <td>...</td>\n",
       "      <td>-334.373846</td>\n",
       "      <td>-351.020792</td>\n",
       "      <td>-24.996269</td>\n",
       "      <td>-32.630448</td>\n",
       "      <td>-53.747724</td>\n",
       "      <td>-8.832889</td>\n",
       "      <td>-0.694428</td>\n",
       "      <td>2.824067</td>\n",
       "      <td>-0.456140</td>\n",
       "      <td>1.000000</td>\n",
       "    </tr>\n",
       "    <tr>\n",
       "      <th>max</th>\n",
       "      <td>4.510299e+06</td>\n",
       "      <td>3978.440029</td>\n",
       "      <td>8817.860888</td>\n",
       "      <td>3974.669214</td>\n",
       "      <td>8799.583202</td>\n",
       "      <td>4187.891754</td>\n",
       "      <td>9442.878210</td>\n",
       "      <td>4051.703820</td>\n",
       "      <td>9087.423903</td>\n",
       "      <td>3552.536340</td>\n",
       "      <td>...</td>\n",
       "      <td>65740.626154</td>\n",
       "      <td>61131.229208</td>\n",
       "      <td>83416.003731</td>\n",
       "      <td>7454.369552</td>\n",
       "      <td>93539.252276</td>\n",
       "      <td>6135.167111</td>\n",
       "      <td>168.305572</td>\n",
       "      <td>6148.824067</td>\n",
       "      <td>403.543860</td>\n",
       "      <td>1.000000</td>\n",
       "    </tr>\n",
       "  </tbody>\n",
       "</table>\n",
       "<p>8 rows × 254 columns</p>\n",
       "</div>"
      ],
      "text/plain": [
       "         Unnamed: 0            0            1            2            3  \\\n",
       "count  8.354000e+03  8354.000000  8354.000000  8354.000000  8354.000000   \n",
       "mean   2.249330e+06     5.255322    36.949103     4.047678    31.653667   \n",
       "std    1.306814e+06   182.462452   375.099163   190.993428   420.104503   \n",
       "min    4.970000e+02  -181.509971  -408.179112  -195.450786  -460.786798   \n",
       "25%    1.091703e+06   -96.799971  -153.939112  -110.740786  -191.064298   \n",
       "50%    2.251965e+06   -81.959971   -22.579112   -78.960786   -41.296798   \n",
       "75%    3.377638e+06    21.850029   145.943388    34.851714   151.020702   \n",
       "max    4.510299e+06  3978.440029  8817.860888  3974.669214  8799.583202   \n",
       "\n",
       "                 4            5            6            7            8  ...  \\\n",
       "count  8354.000000  8354.000000  8354.000000  8354.000000  8354.000000  ...   \n",
       "mean      8.279109    40.167888     3.013243    15.879714     2.910864  ...   \n",
       "std     216.390235   492.361408   101.210184   262.664089    81.406140  ...   \n",
       "min    -200.868246  -481.891790   -16.086180   -65.076097    -6.783660  ...   \n",
       "25%    -114.888246  -206.351790   -16.086180   -65.076097    -6.783660  ...   \n",
       "50%     -80.598246   -56.031790   -16.086180   -65.076097    -6.783660  ...   \n",
       "75%      42.121754   153.698210   -16.086180   -39.656097    -6.783660  ...   \n",
       "max    4187.891754  9442.878210  4051.703820  9087.423903  3552.536340  ...   \n",
       "\n",
       "                243           244           245          246           247  \\\n",
       "count   8354.000000   8354.000000   8354.000000  8354.000000   8354.000000   \n",
       "mean     131.135610     33.916304      0.117689   -10.000810     -8.021365   \n",
       "std     3484.015962   2413.461675    958.108001   198.997059   1382.865117   \n",
       "min     -977.373846   -613.770792    -25.996269   -37.630448   -306.747724   \n",
       "25%     -977.373846   -613.770792    -25.996269   -37.630448   -294.747724   \n",
       "50%     -937.373846   -610.770792    -25.996269   -37.630448   -219.747724   \n",
       "75%     -334.373846   -351.020792    -24.996269   -32.630448    -53.747724   \n",
       "max    65740.626154  61131.229208  83416.003731  7454.369552  93539.252276   \n",
       "\n",
       "               248          249          250          251          252  \n",
       "count  8354.000000  8354.000000  8354.000000  8354.000000  8354.000000  \n",
       "mean      0.280829     0.085677    12.643435     0.027700     0.268734  \n",
       "std     144.948148     6.054197   144.531672     5.710988     0.443328  \n",
       "min     -25.832889    -0.694428   -12.175933    -0.456140     0.000000  \n",
       "25%     -25.832889    -0.694428   -12.175933    -0.456140     0.000000  \n",
       "50%     -22.832889    -0.694428   -10.175933    -0.456140     0.000000  \n",
       "75%      -8.832889    -0.694428     2.824067    -0.456140     1.000000  \n",
       "max    6135.167111   168.305572  6148.824067   403.543860     1.000000  \n",
       "\n",
       "[8 rows x 254 columns]"
      ]
     },
     "execution_count": 50,
     "metadata": {},
     "output_type": "execute_result"
    }
   ],
   "source": [
    "feat_1_row.describe()"
   ]
  },
  {
   "cell_type": "code",
   "execution_count": 51,
   "metadata": {},
   "outputs": [
    {
     "data": {
      "text/plain": [
       "(8347, 8354)"
      ]
     },
     "execution_count": 51,
     "metadata": {},
     "output_type": "execute_result"
    }
   ],
   "source": [
    "feat_1_row.id.nunique(), len(feat_1_row)  "
   ]
  },
  {
   "cell_type": "code",
   "execution_count": 52,
   "metadata": {},
   "outputs": [],
   "source": [
    "feat_1_row = feat_1_row.astype({'id': 'int32', 'buy_time': 'int32'})"
   ]
  },
  {
   "cell_type": "code",
   "execution_count": 53,
   "metadata": {},
   "outputs": [
    {
     "data": {
      "text/plain": [
       "Unnamed: 0      float64\n",
       "Unnamed: 0.1     object\n",
       "id                int32\n",
       "buy_time          int32\n",
       "0               float64\n",
       "                 ...   \n",
       "248             float64\n",
       "249             float64\n",
       "250             float64\n",
       "251             float64\n",
       "252             float64\n",
       "Length: 257, dtype: object"
      ]
     },
     "execution_count": 53,
     "metadata": {},
     "output_type": "execute_result"
    }
   ],
   "source": [
    "feat_1_row.dtypes"
   ]
  },
  {
   "cell_type": "code",
   "execution_count": 54,
   "metadata": {},
   "outputs": [],
   "source": [
    "feat_1_row.drop( labels=['Unnamed: 0', 'Unnamed: 0.1'], axis=1, inplace=True ) "
   ]
  },
  {
   "cell_type": "code",
   "execution_count": 55,
   "metadata": {},
   "outputs": [
    {
     "name": "stdout",
     "output_type": "stream",
     "text": [
      "<class 'pandas.core.frame.DataFrame'>\n",
      "Int64Index: 8354 entries, 0 to 8421\n",
      "Columns: 255 entries, id to 252\n",
      "dtypes: float64(253), int32(2)\n",
      "memory usage: 16.3 MB\n"
     ]
    },
    {
     "data": {
      "text/plain": [
       "(None,\n",
       " Index       66832\n",
       " id          33416\n",
       " buy_time    33416\n",
       " 0           66832\n",
       " 1           66832\n",
       "             ...  \n",
       " 248         66832\n",
       " 249         66832\n",
       " 250         66832\n",
       " 251         66832\n",
       " 252         66832\n",
       " Length: 256, dtype: int64)"
      ]
     },
     "execution_count": 55,
     "metadata": {},
     "output_type": "execute_result"
    }
   ],
   "source": [
    "feat_1_row.info(), feat_1_row.memory_usage(deep=True)"
   ]
  },
  {
   "cell_type": "code",
   "execution_count": 56,
   "metadata": {},
   "outputs": [],
   "source": [
    "feat_1_row['week'] = feat_1_row['buy_time'].apply( user_timestamp_2_week)\n",
    "feat_1_row = feat_1_row.astype({'week': 'int32'}) "
   ]
  },
  {
   "cell_type": "code",
   "execution_count": 57,
   "metadata": {},
   "outputs": [
    {
     "data": {
      "text/plain": [
       "Index(['0', '1', '2', '3', '4', '5', '6', '7', '8', '9',\n",
       "       ...\n",
       "       '243', '244', '245', '246', '247', '248', '249', '250', '251', '252'],\n",
       "      dtype='object', length=253)"
      ]
     },
     "execution_count": 57,
     "metadata": {},
     "output_type": "execute_result"
    }
   ],
   "source": [
    "feat_1_row.columns[2:-1]"
   ]
  },
  {
   "cell_type": "code",
   "execution_count": 58,
   "metadata": {},
   "outputs": [
    {
     "data": {
      "text/plain": [
       "array([29, 28], dtype=int32)"
      ]
     },
     "execution_count": 58,
     "metadata": {},
     "output_type": "execute_result"
    }
   ],
   "source": [
    "feat_1_row['week'].unique()"
   ]
  },
  {
   "cell_type": "code",
   "execution_count": 59,
   "metadata": {},
   "outputs": [],
   "source": [
    "col_0_252_types_dict = {}\n",
    "\n",
    "for cnm in feat_1_row.columns[2:-1]:\n",
    "    col_0_252_types_dict[cnm]='float32'\n",
    "\n",
    "feat_1_row = feat_1_row.astype(col_0_252_types_dict)"
   ]
  },
  {
   "cell_type": "code",
   "execution_count": 60,
   "metadata": {},
   "outputs": [
    {
     "name": "stdout",
     "output_type": "stream",
     "text": [
      " 0: nunique: 2517 \n",
      " 1: nunique: 5370 \n",
      " 2: nunique: 3144 \n",
      " 3: nunique: 6003 \n",
      " 4: nunique: 3270 \n",
      " 5: nunique: 6121 \n",
      " 6: nunique: 427 \n",
      " 7: nunique: 1122 \n",
      " 8: nunique: 628 \n",
      " 9: nunique: 1282 \n",
      " 10: nunique: 139 \n",
      " 11: nunique: 509 \n",
      " 12: nunique: 101 \n",
      " 13: nunique: 644 \n",
      " 14: nunique: 1652 \n",
      " 15: nunique: 1 \n",
      " 16: nunique: 2 \n",
      " 17: nunique: 2 \n",
      " 18: nunique: 284 \n",
      " 19: nunique: 355 \n",
      " 20: nunique: 617 \n",
      " 21: nunique: 254 \n",
      " 22: nunique: 16 \n",
      " 23: nunique: 2 \n",
      " 24: nunique: 2 \n",
      " 25: nunique: 158 \n",
      " 26: nunique: 2 \n",
      " 27: nunique: 1 \n",
      " 28: nunique: 11 \n",
      " 29: nunique: 4 \n",
      " 30: nunique: 4 \n",
      " 31: nunique: 2 \n",
      " 32: nunique: 2 \n",
      " 33: nunique: 2 \n",
      " 34: nunique: 182 \n",
      " 35: nunique: 2 \n",
      " 36: nunique: 175 \n",
      " 37: nunique: 713 \n",
      " 38: nunique: 6958 \n",
      " 39: nunique: 6538 \n",
      " 40: nunique: 4698 \n",
      " 41: nunique: 654 \n",
      " 42: nunique: 261 \n",
      " 43: nunique: 5993 \n",
      " 44: nunique: 5100 \n",
      " 45: nunique: 5231 \n",
      " 46: nunique: 872 \n",
      " 47: nunique: 3815 \n",
      " 48: nunique: 1167 \n",
      " 49: nunique: 2566 \n",
      " 50: nunique: 307 \n",
      " 51: nunique: 357 \n",
      " 52: nunique: 444 \n",
      " 53: nunique: 242 \n",
      " 54: nunique: 137 \n",
      " 55: nunique: 190 \n",
      " 56: nunique: 83 \n",
      " 57: nunique: 2 \n",
      " 58: nunique: 225 \n",
      " 59: nunique: 50 \n",
      " 60: nunique: 101 \n",
      " 61: nunique: 99 \n",
      " 62: nunique: 61 \n",
      " 63: nunique: 100 \n",
      " 64: nunique: 98 \n",
      " 65: nunique: 5 \n",
      " 66: nunique: 109 \n",
      " 67: nunique: 43 \n",
      " 68: nunique: 488 \n",
      " 69: nunique: 9 \n",
      " 70: nunique: 12 \n",
      " 71: nunique: 139 \n",
      " 72: nunique: 104 \n",
      " 73: nunique: 185 \n",
      " 74: nunique: 146 \n",
      " 75: nunique: 1 \n",
      " 76: nunique: 308 \n",
      " 77: nunique: 1051 \n",
      " 78: nunique: 18 \n",
      " 79: nunique: 16 \n",
      " 80: nunique: 3 \n",
      " 81: nunique: 1 \n",
      " 82: nunique: 32 \n",
      " 83: nunique: 11 \n",
      " 84: nunique: 5 \n",
      " 85: nunique: 1 \n",
      " 86: nunique: 8 \n",
      " 87: nunique: 8 \n",
      " 88: nunique: 8 \n",
      " 89: nunique: 28 \n",
      " 90: nunique: 28 \n",
      " 91: nunique: 32 \n",
      " 92: nunique: 30 \n",
      " 93: nunique: 9 \n",
      " 94: nunique: 31 \n",
      " 95: nunique: 1 \n",
      " 96: nunique: 64 \n",
      " 97: nunique: 73 \n",
      " 98: nunique: 109 \n",
      " 99: nunique: 180 \n",
      " 100: nunique: 110 \n",
      " 101: nunique: 19 \n",
      " 102: nunique: 112 \n",
      " 103: nunique: 375 \n",
      " 104: nunique: 355 \n",
      " 105: nunique: 12 \n",
      " 106: nunique: 751 \n",
      " 107: nunique: 63 \n",
      " 108: nunique: 877 \n",
      " 109: nunique: 40 \n",
      " 110: nunique: 34 \n",
      " 111: nunique: 64 \n",
      " 112: nunique: 6538 \n",
      " 113: nunique: 4700 \n",
      " 114: nunique: 101 \n",
      " 115: nunique: 101 \n",
      " 116: nunique: 6958 \n",
      " 117: nunique: 5693 \n",
      " 118: nunique: 32 \n",
      " 119: nunique: 6 \n",
      " 120: nunique: 15 \n",
      " 121: nunique: 34 \n",
      " 122: nunique: 8 \n",
      " 123: nunique: 630 \n",
      " 124: nunique: 256 \n",
      " 125: nunique: 653 \n",
      " 126: nunique: 100 \n",
      " 127: nunique: 95 \n",
      " 128: nunique: 101 \n",
      " 129: nunique: 58 \n",
      " 130: nunique: 126 \n",
      " 131: nunique: 6 \n",
      " 132: nunique: 2 \n",
      " 133: nunique: 11 \n",
      " 134: nunique: 397 \n",
      " 135: nunique: 39 \n",
      " 136: nunique: 75 \n",
      " 137: nunique: 30 \n",
      " 138: nunique: 54 \n",
      " 139: nunique: 1 \n",
      " 140: nunique: 70 \n",
      " 141: nunique: 8 \n",
      " 142: nunique: 13 \n",
      " 143: nunique: 4087 \n",
      " 144: nunique: 5795 \n",
      " 145: nunique: 83 \n",
      " 146: nunique: 279 \n",
      " 147: nunique: 122 \n",
      " 148: nunique: 78 \n",
      " 149: nunique: 39 \n",
      " 150: nunique: 101 \n",
      " 151: nunique: 299 \n",
      " 152: nunique: 47 \n",
      " 153: nunique: 15 \n",
      " 154: nunique: 1 \n",
      " 155: nunique: 3 \n",
      " 156: nunique: 152 \n",
      " 157: nunique: 41 \n",
      " 158: nunique: 72 \n",
      " 159: nunique: 91 \n",
      " 160: nunique: 70 \n",
      " 161: nunique: 23 \n",
      " 162: nunique: 133 \n",
      " 163: nunique: 10 \n",
      " 164: nunique: 99 \n",
      " 165: nunique: 189 \n",
      " 166: nunique: 4427 \n",
      " 167: nunique: 225 \n",
      " 168: nunique: 4525 \n",
      " 169: nunique: 199 \n",
      " 170: nunique: 5206 \n",
      " 171: nunique: 139 \n",
      " 172: nunique: 4249 \n",
      " 173: nunique: 18 \n",
      " 174: nunique: 53 \n",
      " 175: nunique: 12 \n",
      " 176: nunique: 39 \n",
      " 177: nunique: 8 \n",
      " 178: nunique: 11 \n",
      " 179: nunique: 6 \n",
      " 180: nunique: 11 \n",
      " 181: nunique: 86 \n",
      " 182: nunique: 704 \n",
      " 183: nunique: 112 \n",
      " 184: nunique: 736 \n",
      " 185: nunique: 239 \n",
      " 186: nunique: 5321 \n",
      " 187: nunique: 169 \n",
      " 188: nunique: 4396 \n",
      " 189: nunique: 13 \n",
      " 190: nunique: 55 \n",
      " 191: nunique: 4132 \n",
      " 192: nunique: 2 \n",
      " 193: nunique: 11 \n",
      " 194: nunique: 2 \n",
      " 195: nunique: 2 \n",
      " 196: nunique: 2 \n",
      " 197: nunique: 2 \n",
      " 198: nunique: 2 \n",
      " 199: nunique: 2 \n",
      " 200: nunique: 2 \n",
      " 201: nunique: 2 \n",
      " 202: nunique: 2 \n",
      " 203: nunique: 1 \n",
      " 204: nunique: 2 \n",
      " 205: nunique: 2 \n",
      " 206: nunique: 2 \n",
      " 207: nunique: 4954 \n",
      " 208: nunique: 1562 \n",
      " 209: nunique: 20 \n",
      " 210: nunique: 1340 \n",
      " 211: nunique: 1323 \n",
      " 212: nunique: 3 \n",
      " 213: nunique: 554 \n",
      " 214: nunique: 10 \n",
      " 215: nunique: 26 \n",
      " 216: nunique: 1 \n",
      " 217: nunique: 20 \n",
      " 218: nunique: 1 \n",
      " 219: nunique: 20 \n",
      " 220: nunique: 7 \n",
      " 221: nunique: 2 \n",
      " 222: nunique: 15 \n",
      " 223: nunique: 302 \n",
      " 224: nunique: 2065 \n",
      " 225: nunique: 681 \n",
      " 226: nunique: 1524 \n",
      " 227: nunique: 77 \n",
      " 228: nunique: 174 \n",
      " 229: nunique: 1580 \n",
      " 230: nunique: 445 \n",
      " 231: nunique: 49 \n",
      " 232: nunique: 18 \n",
      " 233: nunique: 30 \n",
      " 234: nunique: 423 \n",
      " 235: nunique: 181 \n",
      " 236: nunique: 2289 \n",
      " 237: nunique: 109 \n",
      " 238: nunique: 1307 \n",
      " 239: nunique: 709 \n",
      " 240: nunique: 1620 \n",
      " 241: nunique: 790 \n",
      " 242: nunique: 345 \n",
      " 243: nunique: 2292 \n",
      " 244: nunique: 1771 \n",
      " 245: nunique: 210 \n",
      " 246: nunique: 369 \n",
      " 247: nunique: 1258 \n",
      " 248: nunique: 308 \n",
      " 249: nunique: 64 \n",
      " 250: nunique: 304 \n",
      " 251: nunique: 48 \n",
      " 252: nunique: 2 \n"
     ]
    }
   ],
   "source": [
    "for cnm in feat_1_row.columns[2:-1]:\n",
    "    print( f' {cnm}: nunique: { feat_1_row[cnm].nunique() } ')\n"
   ]
  },
  {
   "cell_type": "code",
   "execution_count": 61,
   "metadata": {},
   "outputs": [
    {
     "data": {
      "text/plain": [
       "(127040, 8354)"
      ]
     },
     "execution_count": 61,
     "metadata": {},
     "output_type": "execute_result"
    }
   ],
   "source": [
    "len( common_ids ), len(feat_1_row) "
   ]
  },
  {
   "cell_type": "code",
   "execution_count": 63,
   "metadata": {},
   "outputs": [
    {
     "data": {
      "text/plain": [
       "1         1454121\n",
       "23        2066638\n",
       "30        1913461\n",
       "35        2000858\n",
       "39        1586711\n",
       "           ...   \n",
       "778361    3344051\n",
       "778372    2064912\n",
       "778374     763706\n",
       "778378     830354\n",
       "778442     874976\n",
       "Name: id, Length: 57005, dtype: int64"
      ]
     },
     "execution_count": 63,
     "metadata": {},
     "output_type": "execute_result"
    }
   ],
   "source": [
    "dt_train.id"
   ]
  },
  {
   "cell_type": "code",
   "execution_count": 66,
   "metadata": {},
   "outputs": [
    {
     "data": {
      "text/plain": [
       "(8354, 8354, 8354)"
      ]
     },
     "execution_count": 66,
     "metadata": {},
     "output_type": "execute_result"
    }
   ],
   "source": [
    "len(feat_1_row.id.isin(dt_train.id) ), len(feat_1_row.id.isin(dt_test.id) ), len(feat_1_row)"
   ]
  },
  {
   "cell_type": "code",
   "execution_count": 67,
   "metadata": {},
   "outputs": [
    {
     "data": {
      "text/plain": [
       "array([29, 28], dtype=int32)"
      ]
     },
     "execution_count": 67,
     "metadata": {},
     "output_type": "execute_result"
    }
   ],
   "source": [
    "feat_1_row.week.unique()"
   ]
  },
  {
   "cell_type": "code",
   "execution_count": 70,
   "metadata": {},
   "outputs": [],
   "source": [
    "dt_train_mrg = pd.merge( dt_train, feat_1_row, on=\"id\" )"
   ]
  },
  {
   "cell_type": "code",
   "execution_count": 77,
   "metadata": {},
   "outputs": [
    {
     "data": {
      "text/html": [
       "<div>\n",
       "<style scoped>\n",
       "    .dataframe tbody tr th:only-of-type {\n",
       "        vertical-align: middle;\n",
       "    }\n",
       "\n",
       "    .dataframe tbody tr th {\n",
       "        vertical-align: top;\n",
       "    }\n",
       "\n",
       "    .dataframe thead th {\n",
       "        text-align: right;\n",
       "    }\n",
       "</style>\n",
       "<table border=\"1\" class=\"dataframe\">\n",
       "  <thead>\n",
       "    <tr style=\"text-align: right;\">\n",
       "      <th></th>\n",
       "      <th>id</th>\n",
       "      <th>vas_id</th>\n",
       "      <th>buy_time_x</th>\n",
       "      <th>week_x</th>\n",
       "      <th>buy_time_y</th>\n",
       "      <th>0</th>\n",
       "      <th>1</th>\n",
       "      <th>2</th>\n",
       "      <th>3</th>\n",
       "      <th>4</th>\n",
       "      <th>...</th>\n",
       "      <th>244</th>\n",
       "      <th>245</th>\n",
       "      <th>246</th>\n",
       "      <th>247</th>\n",
       "      <th>248</th>\n",
       "      <th>249</th>\n",
       "      <th>250</th>\n",
       "      <th>251</th>\n",
       "      <th>252</th>\n",
       "      <th>week_y</th>\n",
       "    </tr>\n",
       "  </thead>\n",
       "  <tbody>\n",
       "    <tr>\n",
       "      <th>3731</th>\n",
       "      <td>1779513</td>\n",
       "      <td>1</td>\n",
       "      <td>1531083600</td>\n",
       "      <td>28</td>\n",
       "      <td>1531083600</td>\n",
       "      <td>-96.799973</td>\n",
       "      <td>115.120888</td>\n",
       "      <td>-109.240784</td>\n",
       "      <td>85.883202</td>\n",
       "      <td>-114.658249</td>\n",
       "      <td>...</td>\n",
       "      <td>-208.770798</td>\n",
       "      <td>-25.996269</td>\n",
       "      <td>-37.630447</td>\n",
       "      <td>-83.747726</td>\n",
       "      <td>-18.832888</td>\n",
       "      <td>-0.694429</td>\n",
       "      <td>-5.175933</td>\n",
       "      <td>-0.45614</td>\n",
       "      <td>0.0</td>\n",
       "      <td>28</td>\n",
       "    </tr>\n",
       "    <tr>\n",
       "      <th>3732</th>\n",
       "      <td>3020876</td>\n",
       "      <td>1</td>\n",
       "      <td>1531688400</td>\n",
       "      <td>29</td>\n",
       "      <td>1531688400</td>\n",
       "      <td>114.220032</td>\n",
       "      <td>84.900887</td>\n",
       "      <td>129.939209</td>\n",
       "      <td>155.173203</td>\n",
       "      <td>124.521751</td>\n",
       "      <td>...</td>\n",
       "      <td>-610.770813</td>\n",
       "      <td>-25.996269</td>\n",
       "      <td>-27.630449</td>\n",
       "      <td>-94.747726</td>\n",
       "      <td>40.167110</td>\n",
       "      <td>-0.694429</td>\n",
       "      <td>53.824066</td>\n",
       "      <td>-0.45614</td>\n",
       "      <td>0.0</td>\n",
       "      <td>29</td>\n",
       "    </tr>\n",
       "    <tr>\n",
       "      <th>3733</th>\n",
       "      <td>1757622</td>\n",
       "      <td>2</td>\n",
       "      <td>1531083600</td>\n",
       "      <td>28</td>\n",
       "      <td>1531688400</td>\n",
       "      <td>95.530029</td>\n",
       "      <td>146.040894</td>\n",
       "      <td>98.549217</td>\n",
       "      <td>177.343201</td>\n",
       "      <td>93.131752</td>\n",
       "      <td>...</td>\n",
       "      <td>-613.770813</td>\n",
       "      <td>-23.996269</td>\n",
       "      <td>-37.630447</td>\n",
       "      <td>-58.747723</td>\n",
       "      <td>-18.832888</td>\n",
       "      <td>-0.694429</td>\n",
       "      <td>-5.175933</td>\n",
       "      <td>-0.45614</td>\n",
       "      <td>0.0</td>\n",
       "      <td>29</td>\n",
       "    </tr>\n",
       "  </tbody>\n",
       "</table>\n",
       "<p>3 rows × 259 columns</p>\n",
       "</div>"
      ],
      "text/plain": [
       "           id  vas_id  buy_time_x  week_x  buy_time_y           0           1  \\\n",
       "3731  1779513       1  1531083600      28  1531083600  -96.799973  115.120888   \n",
       "3732  3020876       1  1531688400      29  1531688400  114.220032   84.900887   \n",
       "3733  1757622       2  1531083600      28  1531688400   95.530029  146.040894   \n",
       "\n",
       "               2           3           4  ...         244        245  \\\n",
       "3731 -109.240784   85.883202 -114.658249  ... -208.770798 -25.996269   \n",
       "3732  129.939209  155.173203  124.521751  ... -610.770813 -25.996269   \n",
       "3733   98.549217  177.343201   93.131752  ... -613.770813 -23.996269   \n",
       "\n",
       "            246        247        248       249        250      251  252  \\\n",
       "3731 -37.630447 -83.747726 -18.832888 -0.694429  -5.175933 -0.45614  0.0   \n",
       "3732 -27.630449 -94.747726  40.167110 -0.694429  53.824066 -0.45614  0.0   \n",
       "3733 -37.630447 -58.747723 -18.832888 -0.694429  -5.175933 -0.45614  0.0   \n",
       "\n",
       "      week_y  \n",
       "3731      28  \n",
       "3732      29  \n",
       "3733      29  \n",
       "\n",
       "[3 rows x 259 columns]"
      ]
     },
     "execution_count": 77,
     "metadata": {},
     "output_type": "execute_result"
    }
   ],
   "source": [
    "dt_train_mrg.tail(3)"
   ]
  },
  {
   "cell_type": "code",
   "execution_count": 73,
   "metadata": {},
   "outputs": [],
   "source": [
    "dt_test_mrg = pd.merge( dt_test, feat_1_row, on=\"id\" )"
   ]
  },
  {
   "cell_type": "code",
   "execution_count": 78,
   "metadata": {},
   "outputs": [
    {
     "data": {
      "text/html": [
       "<div>\n",
       "<style scoped>\n",
       "    .dataframe tbody tr th:only-of-type {\n",
       "        vertical-align: middle;\n",
       "    }\n",
       "\n",
       "    .dataframe tbody tr th {\n",
       "        vertical-align: top;\n",
       "    }\n",
       "\n",
       "    .dataframe thead th {\n",
       "        text-align: right;\n",
       "    }\n",
       "</style>\n",
       "<table border=\"1\" class=\"dataframe\">\n",
       "  <thead>\n",
       "    <tr style=\"text-align: right;\">\n",
       "      <th></th>\n",
       "      <th>id</th>\n",
       "      <th>vas_id</th>\n",
       "      <th>buy_time_x</th>\n",
       "      <th>week_x</th>\n",
       "      <th>buy_time_y</th>\n",
       "      <th>0</th>\n",
       "      <th>1</th>\n",
       "      <th>2</th>\n",
       "      <th>3</th>\n",
       "      <th>4</th>\n",
       "      <th>...</th>\n",
       "      <th>244</th>\n",
       "      <th>245</th>\n",
       "      <th>246</th>\n",
       "      <th>247</th>\n",
       "      <th>248</th>\n",
       "      <th>249</th>\n",
       "      <th>250</th>\n",
       "      <th>251</th>\n",
       "      <th>252</th>\n",
       "      <th>week_y</th>\n",
       "    </tr>\n",
       "  </thead>\n",
       "  <tbody>\n",
       "    <tr>\n",
       "      <th>4685</th>\n",
       "      <td>4088260</td>\n",
       "      <td>2</td>\n",
       "      <td>1548018000</td>\n",
       "      <td>4</td>\n",
       "      <td>1531688400</td>\n",
       "      <td>136.970032</td>\n",
       "      <td>-99.199112</td>\n",
       "      <td>127.269211</td>\n",
       "      <td>-142.486801</td>\n",
       "      <td>121.851753</td>\n",
       "      <td>...</td>\n",
       "      <td>-613.770813</td>\n",
       "      <td>-25.996269</td>\n",
       "      <td>-37.630447</td>\n",
       "      <td>-298.747711</td>\n",
       "      <td>-25.832888</td>\n",
       "      <td>-0.694429</td>\n",
       "      <td>-12.175933</td>\n",
       "      <td>-0.45614</td>\n",
       "      <td>0.0</td>\n",
       "      <td>29</td>\n",
       "    </tr>\n",
       "    <tr>\n",
       "      <th>4686</th>\n",
       "      <td>271054</td>\n",
       "      <td>5</td>\n",
       "      <td>1548018000</td>\n",
       "      <td>4</td>\n",
       "      <td>1531688400</td>\n",
       "      <td>132.860031</td>\n",
       "      <td>989.290894</td>\n",
       "      <td>118.919212</td>\n",
       "      <td>953.643188</td>\n",
       "      <td>113.501755</td>\n",
       "      <td>...</td>\n",
       "      <td>-613.770813</td>\n",
       "      <td>-25.996269</td>\n",
       "      <td>-37.630447</td>\n",
       "      <td>-289.747711</td>\n",
       "      <td>-25.832888</td>\n",
       "      <td>-0.694429</td>\n",
       "      <td>-12.175933</td>\n",
       "      <td>-0.45614</td>\n",
       "      <td>1.0</td>\n",
       "      <td>29</td>\n",
       "    </tr>\n",
       "    <tr>\n",
       "      <th>4687</th>\n",
       "      <td>2437169</td>\n",
       "      <td>2</td>\n",
       "      <td>1547413200</td>\n",
       "      <td>3</td>\n",
       "      <td>1531083600</td>\n",
       "      <td>-94.679970</td>\n",
       "      <td>-14.979112</td>\n",
       "      <td>-108.620789</td>\n",
       "      <td>-67.586800</td>\n",
       "      <td>-114.038246</td>\n",
       "      <td>...</td>\n",
       "      <td>-613.770813</td>\n",
       "      <td>-21.996269</td>\n",
       "      <td>-37.630447</td>\n",
       "      <td>-255.747726</td>\n",
       "      <td>-18.832888</td>\n",
       "      <td>-0.694429</td>\n",
       "      <td>-5.175933</td>\n",
       "      <td>-0.45614</td>\n",
       "      <td>0.0</td>\n",
       "      <td>28</td>\n",
       "    </tr>\n",
       "  </tbody>\n",
       "</table>\n",
       "<p>3 rows × 259 columns</p>\n",
       "</div>"
      ],
      "text/plain": [
       "           id  vas_id  buy_time_x  week_x  buy_time_y           0           1  \\\n",
       "4685  4088260       2  1548018000       4  1531688400  136.970032  -99.199112   \n",
       "4686   271054       5  1548018000       4  1531688400  132.860031  989.290894   \n",
       "4687  2437169       2  1547413200       3  1531083600  -94.679970  -14.979112   \n",
       "\n",
       "               2           3           4  ...         244        245  \\\n",
       "4685  127.269211 -142.486801  121.851753  ... -613.770813 -25.996269   \n",
       "4686  118.919212  953.643188  113.501755  ... -613.770813 -25.996269   \n",
       "4687 -108.620789  -67.586800 -114.038246  ... -613.770813 -21.996269   \n",
       "\n",
       "            246         247        248       249        250      251  252  \\\n",
       "4685 -37.630447 -298.747711 -25.832888 -0.694429 -12.175933 -0.45614  0.0   \n",
       "4686 -37.630447 -289.747711 -25.832888 -0.694429 -12.175933 -0.45614  1.0   \n",
       "4687 -37.630447 -255.747726 -18.832888 -0.694429  -5.175933 -0.45614  0.0   \n",
       "\n",
       "      week_y  \n",
       "4685      29  \n",
       "4686      29  \n",
       "4687      28  \n",
       "\n",
       "[3 rows x 259 columns]"
      ]
     },
     "execution_count": 78,
     "metadata": {},
     "output_type": "execute_result"
    }
   ],
   "source": [
    "dt_test_mrg.tail(3)"
   ]
  },
  {
   "cell_type": "code",
   "execution_count": null,
   "metadata": {},
   "outputs": [],
   "source": []
  },
  {
   "cell_type": "code",
   "execution_count": null,
   "metadata": {},
   "outputs": [],
   "source": []
  },
  {
   "cell_type": "code",
   "execution_count": null,
   "metadata": {},
   "outputs": [],
   "source": []
  },
  {
   "cell_type": "code",
   "execution_count": null,
   "metadata": {},
   "outputs": [],
   "source": []
  },
  {
   "cell_type": "code",
   "execution_count": null,
   "metadata": {},
   "outputs": [],
   "source": []
  },
  {
   "cell_type": "code",
   "execution_count": null,
   "metadata": {},
   "outputs": [],
   "source": []
  },
  {
   "cell_type": "code",
   "execution_count": null,
   "metadata": {},
   "outputs": [],
   "source": []
  },
  {
   "cell_type": "code",
   "execution_count": null,
   "metadata": {},
   "outputs": [],
   "source": []
  },
  {
   "cell_type": "code",
   "execution_count": null,
   "metadata": {},
   "outputs": [],
   "source": []
  },
  {
   "cell_type": "code",
   "execution_count": null,
   "metadata": {},
   "outputs": [],
   "source": []
  },
  {
   "cell_type": "code",
   "execution_count": null,
   "metadata": {},
   "outputs": [],
   "source": []
  },
  {
   "cell_type": "code",
   "execution_count": null,
   "metadata": {},
   "outputs": [],
   "source": []
  }
 ],
 "metadata": {
  "kernelspec": {
   "display_name": "Python 3",
   "language": "python",
   "name": "python3"
  },
  "language_info": {
   "codemirror_mode": {
    "name": "ipython",
    "version": 3
   },
   "file_extension": ".py",
   "mimetype": "text/x-python",
   "name": "python",
   "nbconvert_exporter": "python",
   "pygments_lexer": "ipython3",
   "version": "3.8.3"
  }
 },
 "nbformat": 4,
 "nbformat_minor": 5
}
